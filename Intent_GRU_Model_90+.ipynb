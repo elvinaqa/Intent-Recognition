{
  "nbformat": 4,
  "nbformat_minor": 0,
  "metadata": {
    "colab": {
      "name": "Intent GRU Model 90+.ipynb",
      "provenance": [],
      "collapsed_sections": [],
      "include_colab_link": true
    },
    "kernelspec": {
      "name": "python3",
      "display_name": "Python 3"
    },
    "accelerator": "TPU"
  },
  "cells": [
    {
      "cell_type": "markdown",
      "metadata": {
        "id": "view-in-github",
        "colab_type": "text"
      },
      "source": [
        "<a href=\"https://colab.research.google.com/github/elvinaqa/Intent-Recognition/blob/main/Intent_GRU_Model_90%2B.ipynb\" target=\"_parent\"><img src=\"https://colab.research.google.com/assets/colab-badge.svg\" alt=\"Open In Colab\"/></a>"
      ]
    },
    {
      "cell_type": "markdown",
      "metadata": {
        "id": "_OA6OdGlVzH9"
      },
      "source": [
        "# 1.Import Libraries"
      ]
    },
    {
      "cell_type": "code",
      "metadata": {
        "id": "a_WypuUXi92e"
      },
      "source": [
        "import numpy as np\n",
        "import pandas as pd\n",
        "from nltk.corpus import stopwords\n",
        "from nltk.tokenize import word_tokenize\n",
        "from nltk.stem.lancaster import LancasterStemmer\n",
        "import nltk\n",
        "import re\n",
        "from sklearn.preprocessing import OneHotEncoder\n",
        "import matplotlib.pyplot as plt\n",
        "from keras.preprocessing.text import Tokenizer\n",
        "from keras.preprocessing.sequence import pad_sequences\n",
        "from keras.utils import to_categorical\n",
        "from keras.models import Sequential, load_model\n",
        "from keras.layers import Dense, LSTM, Bidirectional, Embedding, Dropout\n",
        "from keras.callbacks import ModelCheckpoint"
      ],
      "execution_count": 78,
      "outputs": []
    },
    {
      "cell_type": "code",
      "metadata": {
        "id": "JUgalYL-U0Ne"
      },
      "source": [
        "from google.colab import files"
      ],
      "execution_count": 79,
      "outputs": []
    },
    {
      "cell_type": "markdown",
      "metadata": {
        "id": "fAUlsY2DWQiv"
      },
      "source": [
        "# 2. Upload dataset"
      ]
    },
    {
      "cell_type": "code",
      "metadata": {
        "id": "ee4CzqiQU2c9",
        "outputId": "9b039917-ba34-43d1-8b19-89c2c82a0ec1",
        "colab": {
          "resources": {
            "http://localhost:8080/nbextensions/google.colab/files.js": {
              "data": "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",
              "ok": true,
              "headers": [
                [
                  "content-type",
                  "application/javascript"
                ]
              ],
              "status": 200,
              "status_text": ""
            }
          },
          "base_uri": "https://localhost:8080/",
          "height": 110
        }
      },
      "source": [
        "files.upload()"
      ],
      "execution_count": null,
      "outputs": [
        {
          "output_type": "display_data",
          "data": {
            "text/html": [
              "\n",
              "     <input type=\"file\" id=\"files-ec328258-66ce-475b-b663-b1ae7c92be49\" name=\"files[]\" multiple disabled\n",
              "        style=\"border:none\" />\n",
              "     <output id=\"result-ec328258-66ce-475b-b663-b1ae7c92be49\">\n",
              "      Upload widget is only available when the cell has been executed in the\n",
              "      current browser session. Please rerun this cell to enable.\n",
              "      </output>\n",
              "      <script src=\"/nbextensions/google.colab/files.js\"></script> "
            ],
            "text/plain": [
              "<IPython.core.display.HTML object>"
            ]
          },
          "metadata": {
            "tags": []
          }
        },
        {
          "output_type": "stream",
          "text": [
            "Saving Dataset.csv to Dataset.csv\n"
          ],
          "name": "stdout"
        },
        {
          "output_type": "execute_result",
          "data": {
            "text/plain": [
              "{'Dataset.csv': b'Need help pleese,commonQ.assist\\r\\nNeed help,commonQ.assist\\r\\nI need some info,commonQ.assist\\r\\nWill you help me?,commonQ.assist\\r\\nWhat else can you do?,commonQ.assist\\r\\nWhat do you do?,commonQ.assist\\r\\nWhat can you help me with?,commonQ.assist\\r\\nWhat can you do?,commonQ.assist\\r\\nWhat are you good at?,commonQ.assist\\r\\nNeed help plz,commonQ.assist\\r\\nHow can you help me,commonQ.assist\\r\\nCan you help me?,commonQ.assist\\r\\nHow can you assist?,commonQ.assist\\r\\nHow can you help me?,commonQ.assist\\r\\nHow do you help?,commonQ.assist\\r\\nHow to help you?,commonQ.assist\\r\\nHow will you assist me?,commonQ.assist\\r\\ni need help,commonQ.assist\\r\\nCan you tell some info,commonQ.assist\\r\\nHelp me please,commonQ.assist\\r\\nIs this a bot?,commonQ.bot\\r\\nIs there a bot chatting to me?,commonQ.bot\\r\\nIs it automated message?,commonQ.bot\\r\\nComputer based pely,commonQ.bot\\r\\nBot or human?,commonQ.bot\\r\\nBot is chatting with me?,commonQ.bot\\r\\nAre you system generated message?,commonQ.bot\\r\\nAre you robot?,commonQ.bot\\r\\nAre you machine?,commonQ.bot\\r\\nAre you just computer?,commonQ.bot\\r\\nAre you a robot?,commonQ.bot\\r\\nAre you a person?,commonQ.bot\\r\\nAre you a machine?,commonQ.bot\\r\\nAre you a chatbot?,commonQ.bot\\r\\nAre you a bot?,commonQ.bot\\r\\nAre these automated messages?,commonQ.bot\\r\\nAm I talking to a bot?,commonQ.bot\\r\\nYou are a boy are girl?,commonQ.bot\\r\\nYou are a bot or human?,commonQ.bot\\r\\nThis is a machine?,commonQ.bot\\r\\nThis is a chatbot?,commonQ.bot\\r\\nSystem generated reply,commonQ.bot\\r\\nSir you system genretrd,commonQ.bot\\r\\nIs this computer based response,commonQ.bot\\r\\nIs this a machine?,commonQ.bot\\r\\nAre you a human?,commonQ.bot\\r\\nHows life?,commonQ.how\\r\\nHow was your day?,commonQ.how\\r\\nHow you doin?,commonQ.how\\r\\nWhats up?,commonQ.how\\r\\nWhat\\'s happening?,commonQ.how\\r\\nKya chal raha?,commonQ.how\\r\\nWassup?,commonQ.how\\r\\nHow you doing?,commonQ.how\\r\\nAre you fine?,commonQ.how\\r\\nAre you good?,commonQ.how\\r\\nHow are you?,commonQ.how\\r\\nHow are you doing?,commonQ.how\\r\\nOnly providing my number,commonQ.just_details\\r\\nOnly providing my email,commonQ.just_details\\r\\nOnly providing my contact details,commonQ.just_details\\r\\nOnly here to give my contact,commonQ.just_details\\r\\ni am just here to provide my number,commonQ.just_details\\r\\ni am just here to provide my details,commonQ.just_details\\r\\nWho are youu?,commonQ.name\\r\\nWhat can I call you?,commonQ.name\\r\\nYour name?,commonQ.name\\r\\nCan you tell me your name?,commonQ.name\\r\\nAre you there?,commonQ.name\\r\\nAny one there?,commonQ.name\\r\\nWhat is your name?,commonQ.name\\r\\nare you abir?,commonQ.name\\r\\nIs anyone there?,commonQ.name\\r\\nYour name is?,commonQ.name\\r\\nWho is chatting?,commonQ.name\\r\\nTell me about your self?,commonQ.name\\r\\nWho are you?,commonQ.name\\r\\nWho am I chatting with?,commonQ.name\\r\\nWhat\\'s your name?,commonQ.name\\r\\nWhat should I say as your name?,commonQ.name\\r\\nTell me your name?,commonQ.name\\r\\nWhat are you called?,commonQ.name\\r\\nNo I will not give the information.,commonQ.not_giving\\r\\nNo. Cannot give you.,commonQ.not_giving\\r\\nI don\\'t want to tell,commonQ.not_giving\\r\\nI don\\'t want to,commonQ.not_giving\\r\\nI don\\'t think so,commonQ.not_giving\\r\\nDon\\'t have it as of now.,commonQ.not_giving\\r\\nCannot tell you,commonQ.not_giving\\r\\nWon\\'t tell,commonQ.not_giving\\r\\nWon\\'t give you,commonQ.not_giving\\r\\nSorry but I won\\'t,commonQ.not_giving\\r\\nRight now I don\\'t have it.,commonQ.not_giving\\r\\nI have a question,commonQ.query\\r\\nNeed to aska query,commonQ.query\\r\\nI have a question for you,commonQ.query\\r\\nHAving a query,commonQ.query\\r\\nI have a query for you,commonQ.query\\r\\nI have a query,commonQ.query\\r\\nHave a query for you,commonQ.query\\r\\nWait for two minutes,commonQ.wait\\r\\nwill you please wait,commonQ.wait\\r\\nCan you  please wait,commonQ.wait\\r\\nPlease wait,commonQ.wait\\r\\nWait for some time,commonQ.wait\\r\\nWant you to wait for me,commonQ.wait\\r\\nCan you wait for two minutes,commonQ.wait\\r\\nConnect me to the support of abcd company,contact.contact\\r\\nI want a call back from you,contact.contact\\r\\nPlease tell me your tollfree number ?,contact.contact\\r\\nPlease tell me your mobile number?,contact.contact\\r\\nAddress of your company?,contact.contact\\r\\nAddress of abcd company?,contact.contact\\r\\nHow to reach out to abcd company team?,contact.contact\\r\\nHow to get in touch with your team?,contact.contact\\r\\nYour team can be reached how?,contact.contact\\r\\nYour helpline number?,contact.contact\\r\\nYour company\\'s address?,contact.contact\\r\\nHow to meet you,contact.contact\\r\\nYour email address to reach?,contact.contact\\r\\nYou have any branch at kolkata?,contact.contact\\r\\nHow contact representative?,contact.contact\\r\\nHow do i contact you?,contact.contact\\r\\nHow to get in touch with the your team?,contact.contact\\r\\nHow to contact you?,contact.contact\\r\\nWhat is your helpline number?,contact.contact\\r\\nWhich number I should call to reach you?,contact.contact\\r\\nWhich number can I call to discuss?,contact.contact\\r\\nWhich email should I use to reach to you?,contact.contact\\r\\nWhich email I must use to reach to you?,contact.contact\\r\\nGive me your number need to speak,contact.contact\\r\\nGive me your mobile no,contact.contact\\r\\nGive me the mobile number and i will call you,contact.contact\\r\\nEmail I must use to co-ordinate with you,contact.contact\\r\\nGetting in touch,contact.contact\\r\\nI need help. Connect me with support.,contact.contact\\r\\nNeed a telephonic call,contact.contact\\r\\nNeed a person to chat with me,contact.contact\\r\\nNeed human agent,contact.contact\\r\\nNeed customer care,contact.contact\\r\\nGuide me please regarding the loan?,contact.contact\\r\\nContact me on my personal number 9999999999,contact.contact\\r\\nDid not solved my query,contact.contact\\r\\nContact me please,contact.contact\\r\\nGuide me please,contact.contact\\r\\nCall me later,contact.contact\\r\\nCall me at my phone number?,contact.contact\\r\\n999999999 call me now,contact.contact\\r\\narrange call for me,contact.contact\\r\\ncall me at my number,contact.contact\\r\\nShould I get a call back tomorrow?,contact.contact\\r\\nCan I call tomorrow?,contact.contact\\r\\nContact me at my mobile number,contact.contact\\r\\nCall on the mobile number 9999999999,contact.contact\\r\\nCall on my phone number 9999999999,contact.contact\\r\\nContact me at my phone number,contact.contact\\r\\nCall on 9999999999 now,contact.contact\\r\\nPlease get me human to solve my query?,contact.contact\\r\\nPlease call me on my number,contact.contact\\r\\nWant a person to chat,contact.contact\\r\\nPlease contact me now,contact.contact\\r\\nCall me on my number,contact.contact\\r\\nWant to chat with a person,contact.contact\\r\\nWhat is your email ID?,contact.contact\\r\\nNeed to speak to an executive,contact.contact\\r\\nNeed to get in touch with the your team?,contact.contact\\r\\nNeed to contact customer care.,contact.contact\\r\\nNeed to contact customer care agent.,contact.contact\\r\\nNeed to contact customer care executive,contact.contact\\r\\nNeed to contact customer care agent now please,contact.contact\\r\\nIn which number should I reach to you?,contact.contact\\r\\nIn which number can I reach your team?,contact.contact\\r\\nIn which email to reach you?,contact.contact\\r\\nHow to reach you ?,contact.contact\\r\\ncan i meet any one in bank?,contact.contact\\r\\nCan I please contact customer care?,contact.contact\\r\\ncan u tell me your Email id ?,contact.contact\\r\\nCan you provide executive number help,contact.contact\\r\\nCan you share the contact details of the support,contact.contact\\r\\nNeed to contact you guys,contact.contact\\r\\nNeed to get in touch with the Simpler Loan team?,contact.contact\\r\\ncan i get phone number of your company,contact.contact\\r\\nCan I get a telephonic call?,contact.contact\\r\\nI wan to speak to executive,contact.contact\\r\\nIs it possible to meet any one in bank,contact.contact\\r\\nI want to speak with you,contact.contact\\r\\nI want to contact concerned people.,contact.contact\\r\\nI want to contact your team,contact.contact\\r\\nI want to tak to you,contact.contact\\r\\nI want to talk to customer care executive,contact.contact\\r\\nHow to reach out to your team?,contact.contact\\r\\nEmail I can use to reach you?,contact.contact\\r\\nDo you have any branch?,contact.contact\\r\\nCustomer support?,contact.contact\\r\\nCustomer service?,contact.contact\\r\\nPlease call me at my number,contact.contact\\r\\nNo answering correctly,contact.contact\\r\\nNeed to contact your team,contact.contact\\r\\nNeed to contact human,contact.contact\\r\\nHow to get in touch with customer service?,contact.contact\\r\\nWhat is your customer care no. ?,contact.contact\\r\\nNumber I can call to discuss,contact.contact\\r\\nWhat is your toll free number,contact.contact\\r\\nWhat\\'s the Email ID of abcd company,contact.contact\\r\\nWhere are your branches?,contact.contact\\r\\nWhere is your office located?,contact.contact\\r\\nWhere is your office?,contact.contact\\r\\nKindle send you are mobile no or email IDentification,contact.contact\\r\\ni wish to talk with representative,contact.contact\\r\\nKindly send you are customer care no,contact.contact\\r\\nLet me speak with an executive,contact.contact\\r\\nNeed to contact concerned persons,contact.contact\\r\\nWant to meet your executive,contact.contact\\r\\nwant to talk to executive,contact.contact\\r\\nWhat are the customer care contact?,contact.contact\\r\\nWhat is email ID of your company?,contact.contact\\r\\nWhat is the toll free number of abcd company,contact.contact\\r\\nWhat is the toll free number,contact.contact\\r\\nWhat is the nearest branch?,contact.contact\\r\\nWhat is the email address to reach you?,contact.contact\\r\\nHow can the the your team be reached?,contact.contact\\r\\nHow can the abcd company team be reached?,contact.contact\\r\\nHow can I speak to an executive,contact.contact\\r\\nHow can I reach your team for a query?,contact.contact\\r\\nHow can I contact you?,contact.contact\\r\\nGive your contact number.,contact.contact\\r\\nabcd company team can be reached how?,contact.contact\\r\\nabcd company email address?,contact.contact\\r\\nabcd company office is located where?,contact.contact\\r\\nAny branch at delhi?,contact.contact\\r\\nWant to meet the executive for loan information,contact.contact\\r\\nWant to communicate. So give me your number,contact.contact\\r\\nTo reach you which email address?,contact.contact\\r\\nTell me the number in which I could reach?,contact.contact\\r\\nPlease send you are number,contact.contact\\r\\nPlease provide phone no.,contact.contact\\r\\nPlease provide me the to contact person,contact.contact\\r\\nPease tell mobile number. I need to speak,contact.contact\\r\\nPlease provide me the real person,contact.contact\\r\\nPlease give your mobile no or email ID,contact.contact\\r\\nNumber to reach you,contact.contact\\r\\nNeed to chat with human,contact.contact\\r\\ni want to know your office address in punjab?,contact.contact\\r\\nLost Aadhaar,faq.aadhaar_missing\\r\\n\"I currently don\\'t have Aadhaar card, What can I do?\",faq.aadhaar_missing\\r\\nI do not have aadhaar card can I apply for loan,faq.aadhaar_missing\\r\\ni do not have addhar card can I get loan,faq.aadhaar_missing\\r\\nI do not have an Aadhaar Card. What should I do?,faq.aadhaar_missing\\r\\nIf Aadhaar card goes missing would I be able to give my application?,faq.aadhaar_missing\\r\\nIf my Aadhaar card is lost can I still submit my application?,faq.aadhaar_missing\\r\\nI lost my aadhaar can I still apply?,faq.aadhaar_missing\\r\\nIs Aadhaar card mandatory for filling the loan application?,faq.aadhaar_missing\\r\\nIs it compulsory to give Aadhaar card for the sanction of this loan?,faq.aadhaar_missing\\r\\nIs it mandatory to give Aadhaar card for loan?,faq.aadhaar_missing\\r\\nNo Aadhaar,faq.aadhaar_missing\\r\\nNo Aadhaar. Can I apply?,faq.aadhaar_missing\\r\\nNo aadhaar. Can I still get the loan?,faq.aadhaar_missing\\r\\nNo aadhaar here. Can I still get a loan?,faq.aadhaar_missing\\r\\nNo aadhaar here. Can I submit application?,faq.aadhaar_missing\\r\\nNot having aadhaar. What to do?,faq.aadhaar_missing\\r\\nWithout the aadhaar get I still get loan?,faq.aadhaar_missing\\r\\nWithout having Aadhaar card can I submit my application?,faq.aadhaar_missing\\r\\nWhat should I do if i don\\'t have Aadhaar card?,faq.aadhaar_missing\\r\\nWhat can I do if I lost Aadhaar card?,faq.aadhaar_missing\\r\\nWhat can I do if I don\\'t have Aadhaar card?,faq.aadhaar_missing\\r\\nWhat are my options if I don\\'t have the  Aadhaar card?,faq.aadhaar_missing\\r\\nTell me can you give me a loan without the Aadhaar card?,faq.aadhaar_missing\\r\\nAadhaar card is lost can I still submit my application?,faq.aadhaar_missing\\r\\nAadhaar card is missing.,faq.aadhaar_missing\\r\\n\"Aadhaar card is missing, What to do?\",faq.aadhaar_missing\\r\\n\"Aadhaar is lost, what else can I do?\",faq.aadhaar_missing\\r\\ncan I apply for loan even if I do not have addhar card?,faq.aadhaar_missing\\r\\nCan I apply without having Aadhaar card?,faq.aadhaar_missing\\r\\nCan I get loan without the Aadhaar card?,faq.aadhaar_missing\\r\\nCan I still get loan even without aadhaar?,faq.aadhaar_missing\\r\\nCan I submit my application even if I dont have Aadhaar card,faq.aadhaar_missing\\r\\n\"Don\\'t have Aadhaar card, Tell me what should I do?\",faq.aadhaar_missing\\r\\nHow to get loan without Aadhaar card?,faq.aadhaar_missing\\r\\nWhat address proof can I provide?,faq.address_proof\\r\\nTypes of address proofs I can give?,faq.address_proof\\r\\nThe types of proofs of address. Which I can give.,faq.address_proof\\r\\nThe proofs of address that I need to submit.,faq.address_proof\\r\\nThe business address proofs I can upload in the application?,faq.address_proof\\r\\nThe bills to be uploaded for proving the address?,faq.address_proof\\r\\nThe address proofs that can be uploaded in application?,faq.address_proof\\r\\nThe address proofs that are needed in this application?,faq.address_proof\\r\\nNeed to provide which address proofs?,faq.address_proof\\r\\nIn application which address proofs can be uploaded?,faq.address_proof\\r\\nFor proving the address what is the proofs I can upload?,faq.address_proof\\r\\nFor proving my address what address I need to give?,faq.address_proof\\r\\nFor proof of my address which bills do you need?,faq.address_proof\\r\\nFor address proof what bills can I upload?,faq.address_proof\\r\\nFor address proof what bills can Igive?,faq.address_proof\\r\\nThe personal address information I can upload in the application?,faq.address_proof\\r\\npersonal address proofs I\\'ll have to provide?,faq.address_proof\\r\\npersonal address proofs I need to give?,faq.address_proof\\r\\npersonal address proofs I need to upload?,faq.address_proof\\r\\nPlease tell me what are different personal address proofs I can upload in this application?,faq.address_proof\\r\\nPersonal proofs to be added in application?,faq.address_proof\\r\\nPersonal proofs added on application?,faq.address_proof\\r\\nTell me what are the personal address proofs I can upload in the application?,faq.address_proof\\r\\nWhich personal address proofs can I upload in the application?,faq.address_proof\\r\\nWhat types of personal address proofs can I provide?,faq.address_proof\\r\\nWhat types of personal address information can I upload as part of the application?,faq.address_proof\\r\\nWhat personal address can I give for my address,faq.address_proof\\r\\nWhat are the personal address proofs I can upload in the application?,faq.address_proof\\r\\nThe personal address proofs I can upload in the application?,faq.address_proof\\r\\nAddress information I can upload in the application?,faq.address_proof\\r\\nAddress proof I have to provide,faq.address_proof\\r\\nAddress proofs I can upload in the application?,faq.address_proof\\r\\nAddress proofs I\\'ll have to provide?,faq.address_proof\\r\\nAddress proofs I need to give?,faq.address_proof\\r\\nAddress proofs I need to upload?,faq.address_proof\\r\\nBills for proof of address?,faq.address_proof\\r\\nBills I can give for address proof?,faq.address_proof\\r\\nBills I can upload for proof of my address?,faq.address_proof\\r\\nBills that I can give for the address proof?,faq.address_proof\\r\\nBills to give for proof of address?,faq.address_proof\\r\\nBills to give for proving the address,faq.address_proof\\r\\nBills you need to address proof?,faq.address_proof\\r\\npersonal address proofs can I give in the application?,faq.address_proof\\r\\npersonal address information I can upload in the application?,faq.address_proof\\r\\nFor the application what are the personal adresss information I can upload?,faq.address_proof\\r\\nDifferent personal address proofs I can upload in this loan application?,faq.address_proof\\r\\nIn loan application what are diifferent personal address proofs ?,faq.address_proof\\r\\nhome or personal address proofs can I upload as part of the application?,faq.address_proof\\r\\nFor the application what are the personal adresss proofs I can upload?,faq.address_proof\\r\\nWhich address proof should I give to you?,faq.address_proof\\r\\nWhich address proofs do I need to provide?,faq.address_proof\\r\\nWhich address proofs do I need to give?,faq.address_proof\\r\\nWhich address proof do you need from me?,faq.address_proof\\r\\nWhat to upload for proving my address?,faq.address_proof\\r\\nwhat bills to give for address proof?,faq.address_proof\\r\\nWhat are the types of address proofs I need to give?,faq.address_proof\\r\\nWhat address proofs are accepted?,faq.address_proof\\r\\nTypes of address proofs that can be uploaded?,faq.address_proof\\r\\nPersonal address proofs can I provide in loan application?,faq.address_proof\\r\\nProcess of application process for getiing the loan?,faq.application_process\\r\\nProcess of abcd company direct applying?,faq.application_process\\r\\nProcess of abcd company direct application process for getiing the loan?,faq.application_process\\r\\nProcess of abcd company direct application?,faq.application_process\\r\\nProcess for applying for this loan?,faq.application_process\\r\\nProcess for applying for abcd company direct?,faq.application_process\\r\\nProcedure to take loan?,faq.application_process\\r\\nProcedure to have finance?,faq.application_process\\r\\nprocedure to get finance for business?,faq.application_process\\r\\nprocedure to get finance?,faq.application_process\\r\\nProcedure to apply for loan?,faq.application_process\\r\\nprocedure of this loan application procedure for getiing the loan?,faq.application_process\\r\\nPlease tell How can I apply for abcd company direct?,faq.application_process\\r\\nPlease tell me the process for getting the loan?,faq.application_process\\r\\nPlease tell me the process in order to apply for abcd company direct?,faq.application_process\\r\\nPlease tell me the ways for applying for abcd company direct?,faq.application_process\\r\\nprocedure of abcd company direct application procedure for getting the loan?,faq.application_process\\r\\nProcedure for loan sanction,faq.application_process\\r\\nprocedure for applying for simplerloan?,faq.application_process\\r\\nprocedure for applying for abcd company direct?,faq.application_process\\r\\nPlease tell the process of abcd company direct application to get loan?,faq.application_process\\r\\nPlease tell the process for registering abcd company direct?,faq.application_process\\r\\nPlease tell the process for applying this loan?,faq.application_process\\r\\nPlease tell the process for applying abcd company direct?,faq.application_process\\r\\nPlease tell the procedure of this loan application to get loan?,faq.application_process\\r\\nPlease tell the procedure of application to get loan?,faq.application_process\\r\\nPlease tell the procedure of abcd company direct application to get loan?,faq.application_process\\r\\nCan you please tell me the process of abcd company direct application?,faq.application_process\\r\\nCan you please tell me what are the ways to apply for abcd company direct?,faq.application_process\\r\\nCan you please tell me what are the ways to register for abcd company direct?,faq.application_process\\r\\nFor sanction of loan what is the process?,faq.application_process\\r\\nFor taking the loan what is the process?,faq.application_process\\r\\nFor the loan requirement what is the process?,faq.application_process\\r\\nGuide me the loan process,faq.application_process\\r\\nPlease tell the procedure for applying abcd company direct?,faq.application_process\\r\\nPlease tell me the ways for registering for abcd company direct?,faq.application_process\\r\\nCan you please tell me the procedure of this loan application?,faq.application_process\\r\\nI want Business loan for amount 2 lacks how can I proceed?,faq.application_process\\r\\nI want Business loan for amount 2 lacks how to proceed?,faq.application_process\\r\\nWould like to know how can I get loan?,faq.application_process\\r\\nWith the process of loan please guide me,faq.application_process\\r\\nWhere can I register for a abcd company direct?,faq.application_process\\r\\nWhere can I apply for a abcd company direct?,faq.application_process\\r\\nthis loan moblie application process?,faq.application_process\\r\\nTo get loan how to I sign up?,faq.application_process\\r\\nhow to get loan,faq.application_process\\r\\nHow to fill the loan application,faq.application_process\\r\\nHow to fill the application?,faq.application_process\\r\\nHow to do the loan application?,faq.application_process\\r\\nHow to apply for loan ?,faq.application_process\\r\\nhow to apply for loan,faq.application_process\\r\\nHow to apply for business loan?,faq.application_process\\r\\nHow to apply for abcd company direct loan?,faq.application_process\\r\\nHow to apply?,faq.application_process\\r\\nHow I will get loan?,faq.application_process\\r\\nHow is the process to apply for this loan?,faq.application_process\\r\\nI want to know the procedure for loan,faq.application_process\\r\\nCan you please tell me the procedure of application?,faq.application_process\\r\\nCan you please tell me process for the loan?,faq.application_process\\r\\nCan you please tell me about process of abcd company direct application?,faq.application_process\\r\\nCan you please tell me about procedure of abcd company direct application?,faq.application_process\\r\\nCAn I get your application form?,faq.application_process\\r\\nAs I want a new loan what is the procedure for that?,faq.application_process\\r\\nabcd company direct registering process?,faq.application_process\\r\\nabcd company direct online applying process?,faq.application_process\\r\\nabcd company direct online applying procedure?,faq.application_process\\r\\nabcd company direct moblie application process?,faq.application_process\\r\\nabcd company direct moblie application procedure?,faq.application_process\\r\\nabcd company direct applying process?,faq.application_process\\r\\nabcd company direct applying procedure?,faq.application_process\\r\\nabcd company direct applying how?,faq.application_process\\r\\nabcd company direct apply,faq.application_process\\r\\nabcd company direct application process?,faq.application_process\\r\\nabcd company direct application procedure?,faq.application_process\\r\\nHow do I proceed for loan,faq.application_process\\r\\nHow to proceed for loan,faq.application_process\\r\\nHow should I proceed for loan?,faq.application_process\\r\\nI want to know how does this application work?,faq.application_process\\r\\nI want loan what\\'s the process?,faq.application_process\\r\\nI need to know what is process of loan for a new business,faq.application_process\\r\\nI need loan tell me the process?,faq.application_process\\r\\nI need loan so what is the process?,faq.application_process\\r\\nI need a loan. How to get it??,faq.application_process\\r\\n\"I have a business, what is the paper work for taking this loan facility?\",faq.application_process\\r\\nHow would one apply for abcd company direct?,faq.application_process\\r\\nHow will I get loan?,faq.application_process\\r\\nWhat\\'s the abcd company direct applying procedure for taking the loan?,faq.application_process\\r\\nWhat\\'s the abcd company direct applying process for taking the loan?,faq.application_process\\r\\nWhat\\'s the applying process for the loan?,faq.application_process\\r\\nWhat\\'s the loan process?,faq.application_process\\r\\nWhats the loan process?,faq.application_process\\r\\nWhat\\'s the procedure for applying abcd company direct?,faq.application_process\\r\\nWhat\\'s the procedure for registering abcd company direct?,faq.application_process\\r\\nWhat\\'s the procedure to start new businesses?,faq.application_process\\r\\nWhat\\'s the process for applying this loan?,faq.application_process\\r\\nWhat\\'s the process for registering abcd company direct?,faq.application_process\\r\\nWhat to do for loan application?,faq.application_process\\r\\nHelp me with the loan procedure,faq.application_process\\r\\nGuide me through the process of loan?,faq.application_process\\r\\nHow apply for abcd company direct loan?,faq.application_process\\r\\nHow will get loan,faq.application_process\\r\\nHow to start application for loan?,faq.application_process\\r\\nHow to I sign up to get the loan,faq.application_process\\r\\nHow to I sign up for the process of loan,faq.application_process\\r\\nCan you please tell me the process?,faq.application_process\\r\\nTo get this loan ewhta is the procss?,faq.application_process\\r\\nwant to know how is the application process?,faq.application_process\\r\\nWant to know procedure for loan?,faq.application_process\\r\\nWant to know the application procedure,faq.application_process\\r\\nwant to know the procedure for application,faq.application_process\\r\\nWant to know the procedure of this loan?,faq.application_process\\r\\nWant to know the process of loan application,faq.application_process\\r\\nWant to know the process to start new business,faq.application_process\\r\\nWhat are steps to get the loan?,faq.application_process\\r\\nHow to I sign up for the loan,faq.application_process\\r\\nHow to I sign up,faq.application_process\\r\\nHow to get the loan?,faq.application_process\\r\\nWhat\\'s the process for applying abcd company direct?,faq.application_process\\r\\nWhat are the details to apply for the loan?,faq.application_process\\r\\nWhat are the ways to apply for abcd company direct?,faq.application_process\\r\\nWhat are the ways to register for abcd company direct?,faq.application_process\\r\\nWhat is Loan procedure?,faq.application_process\\r\\nWhat is the application process?,faq.application_process\\r\\nWhat is the applying process?,faq.application_process\\r\\nWhat is the procedure for this loan?,faq.application_process\\r\\nWhat is the procedure to get finance,faq.application_process\\r\\nWhat is the process and paper work for taking this loan?,faq.application_process\\r\\nWhat is the process for getting finance?,faq.application_process\\r\\nWhat is the process for getting the loan?,faq.application_process\\r\\nWhat is the process for the sanction of loan?,faq.application_process\\r\\nWhat is the process of applying for abcd company direct?,faq.application_process\\r\\nWhat is the process of applying for this loan?,faq.application_process\\r\\nWhat is the process of registering for abcd company direct?,faq.application_process\\r\\nWhat is the process of taking the loan?,faq.application_process\\r\\nWhat is the process to apply for abcd company direct?,faq.application_process\\r\\nWhat is the process to apply for simplerloan?,faq.application_process\\r\\nWhat is the process to get finance?,faq.application_process\\r\\nWhat is the process to start new business?,faq.application_process\\r\\nWhat is your application process?,faq.application_process\\r\\nWhat is your loan process?,faq.application_process\\r\\nWhat is your process of application?,faq.application_process\\r\\nWhat\\'s the abcd company direct application procedure for taking the loan?,faq.application_process\\r\\nWhat\\'s the abcd company direct application process for taking the loan?,faq.application_process\\r\\nHow is the process to apply for abcd company direct?,faq.application_process\\r\\nHow is the procedure to apply for abcd company direct?,faq.application_process\\r\\nHow is the possible to take loan?,faq.application_process\\r\\nHow is it possible to get loan?,faq.application_process\\r\\nHow I can get the loan?,faq.application_process\\r\\nHow getting loan?,faq.application_process\\r\\nHow get loan?,faq.application_process\\r\\nHow do I applying for abcd company direct?,faq.application_process\\r\\nHow do I apply for loan?,faq.application_process\\r\\nHow do I apply?,faq.application_process\\r\\nHow can I take loan from your company?,faq.application_process\\r\\nHow can I have a business loan?,faq.application_process\\r\\nHow can I get the loan please tell me the process,faq.application_process\\r\\nHow can I get It Please Tell me for process,faq.application_process\\r\\nHow can I get a loan from you?,faq.application_process\\r\\nHow can I fill the loan application?,faq.application_process\\r\\nHow can I apply for the business loan?,faq.application_process\\r\\nHow can I apply for loan?,faq.application_process\\r\\nhow can I apply for loan,faq.application_process\\r\\nHow can I apply for abcd company direct?,faq.application_process\\r\\nHow can get loan,faq.application_process\\r\\nThe process of abcd company direct applying to get loan?,faq.application_process\\r\\nThe process of abcd company direct application to get loan?,faq.application_process\\r\\nThe procedure of this loan application to get loan?,faq.application_process\\r\\nThe procedure of simplerloan application to get loan?,faq.application_process\\r\\nThe procedure of abcd company direct applying to get loan?,faq.application_process\\r\\nThe procedure of abcd company direct application to get loan?,faq.application_process\\r\\nTell me the process to get this loan?,faq.application_process\\r\\nTell me the process of abcd company direct application ?,faq.application_process\\r\\nTell me the process for applying for this loan?,faq.application_process\\r\\nTell me the procedure of this loan application?,faq.application_process\\r\\nTell me the procedure of abcd company direct application ?,faq.application_process\\r\\ntell me the procedure for applciation,faq.application_process\\r\\nTell me about the process to apply for simplerloan?,faq.application_process\\r\\nTell me about the process to apply for abcd company direct?,faq.application_process\\r\\nSteps to get the loan,faq.application_process\\r\\nSteps for availing the loan,faq.application_process\\r\\nSend me your application form,faq.application_process\\r\\nProcess to get loan for business?,faq.application_process\\r\\nProcess to get business loan?,faq.application_process\\r\\nProcess to apply for loan?,faq.application_process\\r\\nProcess to apply?,faq.application_process\\r\\nProcess of abcd company direct applying process for getiing the loan?,faq.application_process\\r\\nNeed offline application form,faq.application_process\\r\\nNeed the details to apply for loan?,faq.application_process\\r\\nNeed the process for loan,faq.application_process\\r\\nneed to know the loan process,faq.application_process\\r\\nNeed your application form,faq.application_process\\r\\nplease guide me the with procedure of the loan?,faq.application_process\\r\\nPlease send application form,faq.application_process\\r\\nI want to know what is process of loan for a new business,faq.application_process\\r\\nI would like to know the process of application,faq.application_process\\r\\nI would like to know the process of loan,faq.application_process\\r\\nloan application procedure?,faq.application_process\\r\\nLoan applying process?,faq.application_process\\r\\nLoan apply karna hai,faq.application_process\\r\\nMobile app abcd company direct applying procedure?,faq.application_process\\r\\nMobile app loan applying procedure?,faq.application_process\\r\\nNedd help with loan procedure,faq.application_process\\r\\nNeed loan so how is it possible?,faq.application_process\\r\\nWhat is process for enrolling for sodexo pass?,faq.apply_register\\r\\nGive me the application process,faq.apply_register\\r\\nHow will I create a new account?,faq.apply_register\\r\\nHow do I enroll for a meal pass?,faq.apply_register\\r\\nHow to sign up?,faq.apply_register\\r\\nHow do I register?,faq.apply_register\\r\\nCan you please tell me the process of sodexo pass application?,faq.apply_register\\r\\nCan you please tell me the process?,faq.apply_register\\r\\nCan you please tell me the procedure of this pass application?,faq.apply_register\\r\\nCan you please tell me the procedure of application?,faq.apply_register\\r\\nSodexo meal pass registering process?,faq.apply_register\\r\\nSodexo pass online applying process?,faq.apply_register\\r\\nSodexo pass online applying procedure?,faq.apply_register\\r\\nApply through mobile or website?,faq.apply_register\\r\\nSodexo moblie application procedure?,faq.apply_register\\r\\nSodexo applying process?,faq.apply_register\\r\\nSodexo applying procedure?,faq.apply_register\\r\\nSodexo pass applying how?,faq.apply_register\\r\\nSodexo pass apply,faq.apply_register\\r\\nSodexo pass application process?,faq.apply_register\\r\\nSodexo pass application procedure?,faq.apply_register\\r\\nHow should I proceed for pass?,faq.apply_register\\r\\nHow do I proceed for meal pass,faq.apply_register\\r\\nHow to proceed for pass,faq.apply_register\\r\\nWhat is the process for getting the pass?,faq.apply_register\\r\\nNeed a new meal pass how to apply,faq.apply_register\\r\\nNew pass needed,faq.apply_register\\r\\nHow to apply for a new pass,faq.apply_register\\r\\nHow to register for a new meal pass,faq.apply_register\\r\\nHow to apply for meal pass?,faq.apply_register\\r\\nProcess for registration,faq.apply_register\\r\\nRegister for premium pass,faq.apply_register\\r\\nApply for premium pass?,faq.apply_register\\r\\nRegister for meal pass.,faq.apply_register\\r\\nHow to apply?,faq.apply_register\\r\\nApplication process?,faq.apply_register\\r\\nRegistration method?,faq.apply_register\\r\\nProcess of application,faq.apply_register\\r\\nHow do I apply?,faq.apply_register\\r\\nGive me the registration procedure,faq.apply_register\\r\\nWhat form do i have to fill for enrolling into sodexo,faq.apply_register\\r\\nHow can i join sodexo?,faq.apply_register\\r\\nHow can i book my sodexo pass?,faq.apply_register\\r\\nCan you guide me through your company\\x89\\xdb\\xaas enrollment procedure,faq.apply_register\\r\\nSign up for sodexo pass/card,faq.apply_register\\r\\nApply for meal pass.,faq.apply_register\\r\\nRegistration process for meal pass?,faq.apply_register\\r\\nApplication process for meal pass?,faq.apply_register\\r\\nHow to apply/register?,faq.apply_register\\r\\nWhat is the registration process?,faq.apply_register\\r\\nHow do i utilize serves provided by your company,faq.apply_register\\r\\nProcess of signing up for sodexo,faq.apply_register\\r\\nHw do i register?,faq.apply_register\\r\\nCan i signup here?,faq.apply_register\\r\\nCn u hlp me with registration?,faq.apply_register\\r\\nWhere can I apply or register for a Sodexo card?,faq.apply_register\\r\\nHow to register?,faq.apply_register\\r\\nProcess of registering?,faq.apply_register\\r\\nHow do I apply for meal pass?,faq.apply_register\\r\\nWhat is the application process?,faq.apply_register\\r\\nApply kaise kare?,faq.apply_register\\r\\nApplication method?,faq.apply_register\\r\\nTime it takes to get the loan to be approved?,faq.approval_time\\r\\nTime it will take to get a loan approval?,faq.approval_time\\r\\nTime it will take to get a loan sanctioned?,faq.approval_time\\r\\nTime needed for the loan approved?,faq.approval_time\\r\\nTime needed for the loan granted?,faq.approval_time\\r\\nTime need for the loan approval?,faq.approval_time\\r\\nTime required for loan approval?,faq.approval_time\\r\\nWhy is this approval taking so much time?,faq.approval_time\\r\\nWhat\\'s the time you take for approving any loan,faq.approval_time\\r\\nWhat\\'s the time you need to sanction my loan,faq.approval_time\\r\\nWhat\\'s the time you need to approve my loan,faq.approval_time\\r\\nWhat is the time duration for approval?,faq.approval_time\\r\\nWhat is the approval time for this loan?,faq.approval_time\\r\\nWh are you taking so time time for approval?,faq.approval_time\\r\\nToo much time for approval,faq.approval_time\\r\\nTime you need for giving me a loan granted?,faq.approval_time\\r\\nTime you need for giving me a loan approved?,faq.approval_time\\r\\nTime you\\'d take for process the loan sanction,faq.approval_time\\r\\nFor this loan what is the approval time?,faq.approval_time\\r\\nHow long does it take for a loan to be approved?,faq.approval_time\\r\\nHow long will it take to get the money after loan has been sanctioned?,faq.approval_time\\r\\nHow long will it time required after the loan has been granted?,faq.approval_time\\r\\nHow long will you take to give me loan amount after the loan has been approved?,faq.approval_time\\r\\nHow many days does loan approval take?,faq.approval_time\\r\\nHow many days will loan approval take?,faq.approval_time\\r\\nHow much time does it take for loan approval?,faq.approval_time\\r\\nHow much time for approval of loan?,faq.approval_time\\r\\nHow much time is needed for approval of loan?,faq.approval_time\\r\\nHow much time will be required for loan approval?,faq.approval_time\\r\\nHow much time will it take to approve my loan?,faq.approval_time\\r\\nHow much time will it take to sanction my loan?,faq.approval_time\\r\\nhow much time you are going to to take for approval of loan?,faq.approval_time\\r\\nHow much time you need to give me loan amount after the loan is approved?,faq.approval_time\\r\\nHow much time you need to give me money after the loan is approved?,faq.approval_time\\r\\nIn how many days after submitting is the loan approved?,faq.approval_time\\r\\nIn how many days is the the loan approved?,faq.approval_time\\r\\nIn how much time can you you give the loan,faq.approval_time\\r\\nIn how much time will I get loan after applying?,faq.approval_time\\r\\nLoan approval is taking lot of time,faq.approval_time\\r\\nLoan approval takes how much time?,faq.approval_time\\r\\nLoan is approved in how many days?,faq.approval_time\\r\\nThe loan approval is going for a long time,faq.approval_time\\r\\nTime for approval is very much,faq.approval_time\\r\\nTime it takes to get the loan to be granted?,faq.approval_time\\r\\nTime you need for approval,faq.approval_time\\r\\nTime you\\'d take for process the loan approval,faq.approval_time\\r\\nTime required for loan sanction process,faq.approval_time\\r\\nTime required for loan approval process,faq.approval_time\\r\\nAfter applying in how much time will I get loan?,faq.approval_time\\r\\nAfter applying loan will get in how much time?,faq.approval_time\\r\\nAfter loan application how much time required?,faq.approval_time\\r\\nAfter the loan process how much time is required?,faq.approval_time\\r\\nAfter the process how much time needed?,faq.approval_time\\r\\nAlready applied in how much time will I get loan?,faq.approval_time\\r\\nApproval is taking very much time...,faq.approval_time\\r\\nApproval time is too long.,faq.approval_time\\r\\nApproval time is very much,faq.approval_time\\r\\nFor approval of loan how much time is required?,faq.approval_time\\r\\nFor getting this loan what is the time required for approval?,faq.approval_time\\r\\nFor loan approval how much time will be required?,faq.approval_time\\r\\nfor loan what is the approval time?,faq.approval_time\\r\\nFor long time loan approval is going on,faq.approval_time\\r\\nyou cannot help me,faq.bad_service\\r\\nI don\\'t get response,faq.bad_service\\r\\nReally bad support,faq.bad_service\\r\\nNo response from your side,faq.bad_service\\r\\nHave not recieved responses,faq.bad_service\\r\\nDo not recieved any response from you guys,faq.bad_service\\r\\nYou don\\'t respond to my emails,faq.bad_service\\r\\nYou guys have a really bad service,faq.bad_service\\r\\nNo response of my emails,faq.bad_service\\r\\nYou have not responded to my email queries,faq.bad_service\\r\\nabcd company has a bad support,faq.bad_service\\r\\nYou have a bad support,faq.bad_service\\r\\nYou really have a bad service,faq.bad_service\\r\\nBad service you have,faq.bad_service\\r\\nI cannot find my current bank in net banking option,faq.banking_option_missing\\r\\nIn net banking option I cannot find my bank,faq.banking_option_missing\\r\\nIn net banking option I cannot find my current bank,faq.banking_option_missing\\r\\nMy bank is not available in net banking option,faq.banking_option_missing\\r\\nMy bank is not present in net banking choice,faq.banking_option_missing\\r\\nMy bank is not present in net banking option,faq.banking_option_missing\\r\\nBank is not there in banking options?,faq.banking_option_missing\\r\\nMy bank is not supported,faq.banking_option_missing\\r\\nMy bank is not there in options,faq.banking_option_missing\\r\\nMy bank option is missing?,faq.banking_option_missing\\r\\nMy current bank is not present in net banking option,faq.banking_option_missing\\r\\nCan you tell me why is my curent bank not present in net banking option?,faq.banking_option_missing\\r\\nMy pank is missing from options?,faq.banking_option_missing\\r\\nNo my bank is not present in the options,faq.banking_option_missing\\r\\nWhy is my current bank not available in net banking option?,faq.banking_option_missing\\r\\nWhy is my current bank not present in Net banking option?,faq.banking_option_missing\\r\\nWhy is my current bank not present in online banking choice?,faq.banking_option_missing\\r\\nWhy is my current bank not showing in the net banking option,faq.banking_option_missing\\r\\nWhy si my bank not supported,faq.banking_option_missing\\r\\nWill I need an account of a specific bank for making the loan application?,faq.banking_option_missing\\r\\nCan you tell me why is my current bank not present in online banking choice?,faq.banking_option_missing\\r\\nDo I need to have an account of a certain bank for making the loan application because my bank is not avalable in net banking option,faq.banking_option_missing\\r\\nDo I need to have an account of a specific bank for making the loan application?,faq.banking_option_missing\\r\\nFor making loan application do I need to have an account on a certain bank as my bank is not showing up in net banking option,faq.banking_option_missing\\r\\nFor making loan application do I need to have an account on a specific bank?,faq.banking_option_missing\\r\\nFor making loan application do I need to have an account on a specific bank because my bank is not present in net banking option,faq.banking_option_missing\\r\\nFor the application of Loan will I have to make an account on a certain bank as in the net banking option my current bank is not available,faq.banking_option_missing\\r\\nHelp me because I cannot find my bank in net banking option,faq.banking_option_missing\\r\\nHelp me because I cannot find my current bank in net banking option,faq.banking_option_missing\\r\\nHow should I proceed as I cannot find my bank in online banking choices?,faq.banking_option_missing\\r\\nI cannot find my bank in Net banking.,faq.banking_option_missing\\r\\nI cannot find my bank in net banking option,faq.banking_option_missing\\r\\nIn net banking choice I cannot find my bank?,faq.banking_option_missing\\r\\nBank is not there in the options,faq.banking_option_missing\\r\\nBank not there on the options,faq.banking_option_missing\\r\\ncannot find my bank in net banking choice,faq.banking_option_missing\\r\\nCannot find my bank in netbanking option,faq.banking_option_missing\\r\\nBank is not supported by you,faq.banking_option_missing\\r\\nBank is not present in the options,faq.banking_option_missing\\r\\nYou do no support my bank,faq.banking_option_missing\\r\\nWould I need an account with a specific bank to make the loan application?,faq.banking_option_missing\\r\\nWill I need an account of a specific bank for making the loan application as I cannot find my current bank in net banking option?,faq.banking_option_missing\\r\\nWhy is my bank not showing in the online banking choice?,faq.banking_option_missing\\r\\nWhy is my bank not showing in the net banking option,faq.banking_option_missing\\r\\nWhy is my bank not present in Net banking option?,faq.banking_option_missing\\r\\nWhy is my bank is not present in net banking option?,faq.banking_option_missing\\r\\nWhy is my bank is not present in net banking choices?,faq.banking_option_missing\\r\\nWhy is my bank is not available in net banking option?,faq.banking_option_missing\\r\\nThere is not my bank is net banking option?,faq.banking_option_missing\\r\\nThere are Issues with net banking,faq.banking_option_missing\\r\\nSome Issues coming with net banking,faq.banking_option_missing\\r\\nPlease tell me why is my current bank not present in net banking option?,faq.banking_option_missing\\r\\nPlease tell me why is my curent bank not present in net banking option?,faq.banking_option_missing\\r\\nPlease tell me why is my curent bank not available in net banking option?,faq.banking_option_missing\\r\\nWhat should I enter if my business category is not presented in the choices?,faq.biz_category_missing\\r\\nCannot find Industry Type.,faq.biz_category_missing\\r\\nCannot find Industry Type on the options.,faq.biz_category_missing\\r\\nCategory I\\'m in is not present in the options,faq.biz_category_missing\\r\\nI cannot find my Business Category / Business Type in the options provided. What should I enter?,faq.biz_category_missing\\r\\nMy business is not present on the category list,faq.biz_category_missing\\r\\nWhat should I enter if my business category is not presented in the options?,faq.biz_category_missing\\r\\nWhat should I enter if my business type is not presented in the options?,faq.biz_category_missing\\r\\nWhat to do as my business is not listed in the options?,faq.biz_category_missing\\r\\nWhat to do as my business is not listed on the categories?,faq.biz_category_missing\\r\\nWhat to do if my business category is not in the options?,faq.biz_category_missing\\r\\nWhat to enter if my my business category is not listed?,faq.biz_category_missing\\r\\nWhat to enter if my my business type is not listed?,faq.biz_category_missing\\r\\nWhich option should I choose If my business category is not present?,faq.biz_category_missing\\r\\n\"Actually the business category I\\'m in is not present in the choices, What should I do?\",faq.biz_category_missing\\r\\n\"Actualy the business category I\\'m in is not present in the options, What should I do?\",faq.biz_category_missing\\r\\nif my business category is not present in the options,faq.biz_category_missing\\r\\nIndustry Type is not there in the options.,faq.biz_category_missing\\r\\n\"In the business category my business is not listed, What to do?\",faq.biz_category_missing\\r\\n\"In the business type my business is not listed, What to do?\",faq.biz_category_missing\\r\\nIn the options cannot find Industry Type.,faq.biz_category_missing\\r\\n\"In the options provided business category is not present, What should I do?\",faq.biz_category_missing\\r\\n\"My biz category is missing in the options, What can I do?\",faq.biz_category_missing\\r\\n\"My Business category is missing in the choices, What can I do?\",faq.biz_category_missing\\r\\nMy Business category is missing in the options.,faq.biz_category_missing\\r\\n\"My Business category is missing in the options, What can I do?\",faq.biz_category_missing\\r\\nMy business category is not there.,faq.biz_category_missing\\r\\nMy business category missing from the options.,faq.biz_category_missing\\r\\nMy business if different form the choices,faq.biz_category_missing\\r\\nMy business is not listed in the options.,faq.biz_category_missing\\r\\nMy business is not present on the category options.,faq.biz_category_missing\\r\\nMy business is not there in category,faq.biz_category_missing\\r\\n\"My Business type is missing in the options, What can I do?\",faq.biz_category_missing\\r\\nThe business I\\'m in is not there on the category list,faq.biz_category_missing\\r\\n\"What can I do, even if my business category is not present in the choices?\",faq.biz_category_missing\\r\\n\"What can I do, even if my business category is not present in the options?\",faq.biz_category_missing\\r\\nWhat should I enter if my biz type is not presented in the options?,faq.biz_category_missing\\r\\n\"Business category is not there in the options, Which option should I chosse now ?\",faq.biz_category_missing\\r\\nBusiness category missing from the options,faq.biz_category_missing\\r\\nBusiness category missing from the options. What should I do?,faq.biz_category_missing\\r\\nnew companies can also apply?,faq.biz_new\\r\\nCan I get loan for new enterprise?,faq.biz_new\\r\\nCan I get loan for new venture,faq.biz_new\\r\\nCan i get loan for start new business?,faq.biz_new\\r\\ncan i get loan to start new business?,faq.biz_new\\r\\nCan new businesses also apply for loan?,faq.biz_new\\r\\nCan new companies apply for loan?,faq.biz_new\\r\\nI just opened a new business,faq.biz_new\\r\\nI\\'m a beginner in business,faq.biz_new\\r\\nI\\'m new in business so I can get loan?,faq.biz_new\\r\\nI\\'m planning to start up,faq.biz_new\\r\\nI\\'m starting business,faq.biz_new\\r\\nI started my business last week,faq.biz_new\\r\\nI started my business started last month,faq.biz_new\\r\\ni started one my company last week,faq.biz_new\\r\\nI starting new firm for business,faq.biz_new\\r\\nI starting new firm for new business,faq.biz_new\\r\\nIts a fresh company,faq.biz_new\\r\\ni want create a business,faq.biz_new\\r\\ni want the money to start a new business,faq.biz_new\\r\\nI want to open a business,faq.biz_new\\r\\nI want to open an enterprise,faq.biz_new\\r\\nI want to start a business.,faq.biz_new\\r\\nI want to start a service,faq.biz_new\\r\\nI want to start a small business can you give me loan?,faq.biz_new\\r\\nI want to start my business so need loan,faq.biz_new\\r\\nI want to start my own enterprise,faq.biz_new\\r\\nLoan available for company less than one year,faq.biz_new\\r\\nLoan available for setting up new business,faq.biz_new\\r\\nLoan for new business?,faq.biz_new\\r\\nLoan give to start business now?,faq.biz_new\\r\\nLoan is available for new businesses?,faq.biz_new\\r\\nMy business is new,faq.biz_new\\r\\nMy business is relatively new,faq.biz_new\\r\\nmy company is started 1 month before,faq.biz_new\\r\\nMy company just started months ago,faq.biz_new\\r\\nNeed to start own venture,faq.biz_new\\r\\nNew business can get loan?,faq.biz_new\\r\\nNew businesses can also apply for loans?,faq.biz_new\\r\\nNew businesses can get loans?,faq.biz_new\\r\\nCan any fresher apply for loan?,faq.biz_new\\r\\nNew company can apply for loan?,faq.biz_new\\r\\nNewly opened company,faq.biz_new\\r\\nNew venture can get loan?,faq.biz_new\\r\\nNow starting a new business,faq.biz_new\\r\\nRecently started my company,faq.biz_new\\r\\nSir I have opened new business,faq.biz_new\\r\\nStarted my company last month,faq.biz_new\\r\\nStarting a business now,faq.biz_new\\r\\nStarting a new business,faq.biz_new\\r\\nThe business I have is not so old,faq.biz_new\\r\\nThe business is relatively new,faq.biz_new\\r\\nTo start a business can you give me loan?,faq.biz_new\\r\\nWant to build a new empire,faq.biz_new\\r\\nWant to start a business,faq.biz_new\\r\\nWant to start a business and need loan for that,faq.biz_new\\r\\nWant to start a new venture,faq.biz_new\\r\\nWant to start business needs loan for that,faq.biz_new\\r\\nWhat to start new business for which I want loan?,faq.biz_new\\r\\nWill you me loan to start my own business?,faq.biz_new\\r\\nWould like to start a small company. Need loan for that.,faq.biz_new\\r\\nNew in business so can I get loan?,faq.biz_new\\r\\nApna business open karna hai sir,faq.biz_new\\r\\nBusiness start karna hai,faq.biz_new\\r\\nBusiness shuru karna hai,faq.biz_new\\r\\nthis is my first business,faq.biz_new\\r\\nI am starting an online business,faq.biz_new\\r\\nCan a new business get a loan from you?,faq.biz_new\\r\\nThis loan would be good for my business?,faq.biz_simpler\\r\\nthis loan is available to all kinds of business?,faq.biz_simpler\\r\\nThis loan caters to which kind of businesses?,faq.biz_simpler\\r\\nThe types of companies you give loan to,faq.biz_simpler\\r\\nThe loan you give is right for my company?,faq.biz_simpler\\r\\nThe kind of companies you give the loan?,faq.biz_simpler\\r\\nThe categories of company you give the loan to,faq.biz_simpler\\r\\nTell me the types of companies to which you give loan,faq.biz_simpler\\r\\nTell me the types of companies that can use this loan?,faq.biz_simpler\\r\\nTell me the types of companies that can use abcd company direct?,faq.biz_simpler\\r\\nTell me the business that I take loan from you?,faq.biz_simpler\\r\\nTell me the business that can use this loan?,faq.biz_simpler\\r\\nTell me the business that can use abcd company direct?,faq.biz_simpler\\r\\nProviding loan is available for all kind of biz?,faq.biz_simpler\\r\\nOnly business who can apply for abcd company direct from abcd company?,faq.biz_simpler\\r\\nNumber of companies to give  the loan too,faq.biz_simpler\\r\\nMy business can avail abcd company direct from abcd company?,faq.biz_simpler\\r\\nMy biz can apply for loan?,faq.biz_simpler\\r\\nLoan you give is to which types of companies?,faq.biz_simpler\\r\\nLoan will be offered to which types of business?,faq.biz_simpler\\r\\nLoan is provided to which type of businesses?,faq.biz_simpler\\r\\nLoan is provided for which businesses?,faq.biz_simpler\\r\\nloan is given to which firms?,faq.biz_simpler\\r\\nLoan is given by you for which companies,faq.biz_simpler\\r\\nloan can used by which business?,faq.biz_simpler\\r\\nLoan can be taken by me?,faq.biz_simpler\\r\\nLoan available for business like ours?,faq.biz_simpler\\r\\nKeep simple tp,faq.biz_simpler\\r\\nIs this type of loan right for my business?,faq.biz_simpler\\r\\nIs this loan right for mine business?,faq.biz_simpler\\r\\nIs Loan good for my business?,faq.biz_simpler\\r\\nIs abcd company direct right for my business?,faq.biz_simpler\\r\\nIs abcd company direct good for my business?,faq.biz_simpler\\r\\nIs abcd company direct appropriate for my business?,faq.biz_simpler\\r\\nI have a proprietorship. Can I apply?,faq.biz_simpler\\r\\nI have a private company. Can I apply?,faq.biz_simpler\\r\\nHow is abcd company direct right for my business?,faq.biz_simpler\\r\\nFrom you can I take the loan?,faq.biz_simpler\\r\\nFor what type of business this loan is provided?,faq.biz_simpler\\r\\nFirms which can apply for this loan?,faq.biz_simpler\\r\\nDo you offer loan to business like ours?,faq.biz_simpler\\r\\nCan my business take loan from you?,faq.biz_simpler\\r\\nCan my business avail abcd company direct?,faq.biz_simpler\\r\\nWhich business can take loan from you?,faq.biz_simpler\\r\\nWhat types of companies do you give loans to?,faq.biz_simpler\\r\\nWhat types of businesses does your loan caters?,faq.biz_simpler\\r\\nWhat kind of companies use this loan,faq.biz_simpler\\r\\nWhat kind of companies use abcd company direct,faq.biz_simpler\\r\\nCan I take the business loan from your company?,faq.biz_simpler\\r\\nCan I take the business loan from you?,faq.biz_simpler\\r\\nCan I take loan from your company?,faq.biz_simpler\\r\\nCan can be taken by any business?,faq.biz_simpler\\r\\nBusinesses which can avail services of abcd company direct?,faq.biz_simpler\\r\\nAny business can take this loan?,faq.biz_simpler\\r\\nabcd company provides loan to which type of business?,faq.biz_simpler\\r\\nabcd company is for providing loan and is available for all kind of biz?,faq.biz_simpler\\r\\nabcd company gives loan to which kind to businesses?,faq.biz_simpler\\r\\nabcd company direct would be suitable for my business?,faq.biz_simpler\\r\\nabcd company direct will be offered to which types of business?,faq.biz_simpler\\r\\nabcd company direct is given to which of the businesses?,faq.biz_simpler\\r\\nabcd company direct is given to what kind of businesses?,faq.biz_simpler\\r\\nabcd company direct is delivered for what kinds of businesses?,faq.biz_simpler\\r\\nabcd company direct is available for my business?,faq.biz_simpler\\r\\nabcd company direct could be used for what type of business?,faq.biz_simpler\\r\\nabcd company direct caters to what kind of business?,faq.biz_simpler\\r\\nabcd company direct can used by which business?,faq.biz_simpler\\r\\nabcd company direct can be used in my business?,faq.biz_simpler\\r\\nabcd company direct can be used by which of the businesses?,faq.biz_simpler\\r\\nabcd company direct can be used by business of which types?,faq.biz_simpler\\r\\nIs this loan give only to firms?,faq.biz_simpler\\r\\nCan my business apply for abcd company direct?,faq.biz_simpler\\r\\nWho can take loan from abcd company?,faq.biz_simpler\\r\\nthis loan give only to business?,faq.biz_simpler\\r\\nthis loan give only to businesses?,faq.biz_simpler\\r\\nthis loan give only to companies?,faq.biz_simpler\\r\\nWhat kind of business can take loan from you?,faq.biz_simpler\\r\\nTypes of companies you give loans to?,faq.biz_simpler\\r\\nTypes of business which can apply for this loan of abcd company?,faq.biz_simpler\\r\\nTypes of business that can have loan from you?,faq.biz_simpler\\r\\nTypes of business that can have loan?,faq.biz_simpler\\r\\nTypes of businesses which can apply for loan from your company?,faq.biz_simpler\\r\\nWhich businesses does this loan caters to?,faq.biz_simpler\\r\\nWhich type of business can apply for abcd company direct?,faq.biz_simpler\\r\\nWhich types of business can have loan from you?,faq.biz_simpler\\r\\nWho can apply for abcd company direct?,faq.biz_simpler\\r\\nWho can take loan from abcd company?,faq.biz_simpler\\r\\nYou will provide your loan to us?,faq.biz_simpler\\r\\nYour company gives loan to what kind of businesses?,faq.biz_simpler\\r\\nYou provide loan of which business?,faq.biz_simpler\\r\\nYou give loan to which types of business?,faq.biz_simpler\\r\\nWould abcd company direct be right for my business,faq.biz_simpler\\r\\nWill you give me your loan?,faq.biz_simpler\\r\\nTo which types of companies do you give loans,faq.biz_simpler\\r\\nTo which types of businesses do you offer loan?,faq.biz_simpler\\r\\nHow much amount of money can I have?,faq.borrow_limit\\r\\n\"How much can I borrow, and for how long?\",faq.borrow_limit\\r\\nAmount given for loan?,faq.borrow_limit\\r\\nAmount I can borrow from this loan?,faq.borrow_limit\\r\\nAmount I can have as loan?,faq.borrow_limit\\r\\nAmount I can take as loan?,faq.borrow_limit\\r\\nAmount of loan that I can take?,faq.borrow_limit\\r\\nHow much loan amount can I get?,faq.borrow_limit\\r\\nAmount of money I can take as a loan?,faq.borrow_limit\\r\\nAmount of money I can take as loan?,faq.borrow_limit\\r\\nAmount of money I have as loan from abcd company?,faq.borrow_limit\\r\\nHow much loan amount can I take from you?,faq.borrow_limit\\r\\nBorrowing limit?,faq.borrow_limit\\r\\nBorrow limit?,faq.borrow_limit\\r\\nCan you send me the info about money I can have from this loan?,faq.borrow_limit\\r\\nDifferent loan amounts I can have as loan?,faq.borrow_limit\\r\\nFinal limit of money I can take as a loan?,faq.borrow_limit\\r\\nFor how long can I have your borrowed money?,faq.borrow_limit\\r\\nHow much amount I can get?,faq.borrow_limit\\r\\nIs there any limit on loan I can have?,faq.borrow_limit\\r\\nI can have what type of loan amount?,faq.borrow_limit\\r\\nHow much money can I take as loan?,faq.borrow_limit\\r\\nHow much loan can I get?,faq.borrow_limit\\r\\nHow much loan can I get ?,faq.borrow_limit\\r\\nHow much loan amount I can get?,faq.borrow_limit\\r\\nHow much loan amount can I take as a loan?,faq.borrow_limit\\r\\nAmount till which you give loans to busineses?,faq.borrow_limit\\r\\nAs a loan how much loan amount can I take?,faq.borrow_limit\\r\\nAs a loan how much money can I have?,faq.borrow_limit\\r\\nAs loan how money can I have?,faq.borrow_limit\\r\\nWhen will I have to give back the loan amount I take from abcd company direct?,faq.borrow_limit\\r\\nWhat si the borrow limit?,faq.borrow_limit\\r\\nWhat loan amount I can get as loan?,faq.borrow_limit\\r\\nWhat is your borrowing limit?,faq.borrow_limit\\r\\nWhat is the total amount I can borrow from this loan?,faq.borrow_limit\\r\\nWhat is the money I can borrow from this loan?,faq.borrow_limit\\r\\nWhat is the loan amount I can take as loan?,faq.borrow_limit\\r\\nWhat is the limit of loan I can have?,faq.borrow_limit\\r\\nWhat is money I Can take as a loan?,faq.borrow_limit\\r\\nWhat is amount you give money to businesses?,faq.borrow_limit\\r\\nWhat are the loan amounts that I can have?,faq.borrow_limit\\r\\nWhat are the different loan amount I can have?,faq.borrow_limit\\r\\nWhat amount of loan I can take from you?,faq.borrow_limit\\r\\nTotal money I can borrow from your loan?,faq.borrow_limit\\r\\nTotal amount of money I can have from your simplerloan?,faq.borrow_limit\\r\\nTotal amount of money I can have from your abcd company direct?,faq.borrow_limit\\r\\nTotal amount I can borrow from your loan?,faq.borrow_limit\\r\\nTill what amount do you give loan?,faq.borrow_limit\\r\\nTill amount which you give loan to businesses?,faq.borrow_limit\\r\\nTell me the money I can borrow from the loan?,faq.borrow_limit\\r\\nTell me the loan amount I can take from you?,faq.borrow_limit\\r\\nTell me the limit on loan that I have?,faq.borrow_limit\\r\\nWhat is the borrowing limit?,faq.borrow_limit\\r\\nLoan amount I can take from you?,faq.borrow_limit\\r\\nLoan amount I can have?,faq.borrow_limit\\r\\nLimit of money I can take as loan?,faq.borrow_limit\\r\\nNeed information about the money I can take from simplerloan?,faq.borrow_limit\\r\\nPlease send information about the amount of money I can have from this loan?,faq.borrow_limit\\r\\nPlease send information about the money I can have from this loan?,faq.borrow_limit\\r\\nNeed information about the money I can take from abcd company direct?,faq.borrow_limit\\r\\nNeed information about the amount I can take from this loan?,faq.borrow_limit\\r\\nNeed information about the amount I can take from abcd company direct?,faq.borrow_limit\\r\\nNeed details about how much money I can take from abcd company direct?,faq.borrow_limit\\r\\nNeed details about how much money I can take?,faq.borrow_limit\\r\\nNeed details about how much amount I can take from this loan?,faq.borrow_limit\\r\\nNeed details about how much amount I can take from abcd company direct?,faq.borrow_limit\\r\\nMost money I can have as loan?,faq.borrow_limit\\r\\nMoney I can borrow from your company?,faq.borrow_limit\\r\\nMoney I can borrow from this loan?,faq.borrow_limit\\r\\nPlease tell me the amount I can borrow?,faq.borrow_limit\\r\\nPlease tell me the amount I can borrow from abcd company direct?,faq.borrow_limit\\r\\nPlease tell me the amount I can borrow from this loan?,faq.borrow_limit\\r\\nPlease tell me the money I can borrow from abcd company direct?,faq.borrow_limit\\r\\nSend info about the amount I can have from this loan?,faq.borrow_limit\\r\\nSend info about the money I can have from this loan?,faq.borrow_limit\\r\\nTell me the amount I can borrow from the loan?,faq.borrow_limit\\r\\nborrow money given can used by me for which purposes?,faq.borrow_use\\r\\nCan this borrowed amount be used for business purposes?,faq.borrow_use\\r\\nCan this borrowed amount be used for business reasons?,faq.borrow_use\\r\\nCases in which abcd company direct would be used be me,faq.borrow_use\\r\\nDifferent objectives I can do with abcd company direct?,faq.borrow_use\\r\\nDifferent purposes this borrowed amount can be used?,faq.borrow_use\\r\\nDifferent purposes this borrowed money can be used?,faq.borrow_use\\r\\nDifferent reasons this borrowed amount can be used?,faq.borrow_use\\r\\nDifferent reasons this borrowed money can be used?,faq.borrow_use\\r\\nFor what functions can I use abcd company direct?,faq.borrow_use\\r\\nFor what functions can I use this loan?,faq.borrow_use\\r\\nFor what purposes can I use abcd company direct?,faq.borrow_use\\r\\nFor what purposes can I use the borrowed amount?,faq.borrow_use\\r\\nFor what purposes can I use the borrow money?,faq.borrow_use\\r\\nWhich purposes can this borrowed amount be used for?,faq.borrow_use\\r\\nWhich objectives can I fulfill with abcd company direct?,faq.borrow_use\\r\\nWhere would I use you this loan?,faq.borrow_use\\r\\nWhere would I use you abcd company direct?,faq.borrow_use\\r\\nWhere to use abcd company direct money?,faq.borrow_use\\r\\nWhere can I use this money from loan?,faq.borrow_use\\r\\nWhere can I use this loan?,faq.borrow_use\\r\\nWhere can I use the loan money?,faq.borrow_use\\r\\nWhere can I use the loan?,faq.borrow_use\\r\\nWhere can I used the loaned amount?,faq.borrow_use\\r\\nWhere can I use abcd company direct,faq.borrow_use\\r\\nWhat can I use the money?,faq.borrow_use\\r\\nWhat can I use the loan money for?,faq.borrow_use\\r\\nWhat can I use the loan amount for?,faq.borrow_use\\r\\nWhat can I use the borrowed money for? What can I not use the borrowed money for?,faq.borrow_use\\r\\nWhat can I use the borrowed money for?,faq.borrow_use\\r\\nWhat are the various purposes that abcd company direct can be used for?,faq.borrow_use\\r\\nWhat are the various functions that abcd company direct can be used for?,faq.borrow_use\\r\\nWhat are the different things where abcd company direct is benificial?,faq.borrow_use\\r\\nWhat are the different things that abcd company direct can be used for,faq.borrow_use\\r\\nWhat are the different reasons this borrowed amount is valid?,faq.borrow_use\\r\\nWhat are the different purposes this borrowed money is valid?,faq.borrow_use\\r\\nWhat are the different purposes this borrowed amount is valid?,faq.borrow_use\\r\\nWhat are the different objectives can I fulfill with abcd company direct,faq.borrow_use\\r\\nVarious reasons I can use the borrow money?,faq.borrow_use\\r\\nVarious reasons I can use the borrowed amount?,faq.borrow_use\\r\\nVarious purposes I can use the borrowed amount?,faq.borrow_use\\r\\nUse cases for this loan?,faq.borrow_use\\r\\nUse cases for abcd company direct,faq.borrow_use\\r\\nWhich purposes can this borrowed money be used for?,faq.borrow_use\\r\\nif i am a stock market trader then can i get the loan,faq.borrow_use\\r\\nstock market trader then can i get the loan,faq.borrow_use\\r\\nstock market trader i need loan,faq.borrow_use\\r\\nstock market trader i need loan from abcd company,faq.borrow_use\\r\\nFrom abcd company i need loan and i\\'m in trading,faq.borrow_use\\r\\nLoan amount can be used where?,faq.borrow_use\\r\\ncan i get loan for trading in stocks,faq.borrow_use\\r\\nNeed loan for trading,faq.borrow_use\\r\\nFor what reasons can I use abcd company direct?,faq.borrow_use\\r\\nFor what reasons can I use the borrowed amount?,faq.borrow_use\\r\\nFor what scenarios will abcd company direct help?,faq.borrow_use\\r\\nFor what scenarios will this loan help?,faq.borrow_use\\r\\nFor which functions will I use abcd company direct?,faq.borrow_use\\r\\nFor which functions will I use this loan?,faq.borrow_use\\r\\nFor which of the purposes will I use abcd company direct?,faq.borrow_use\\r\\nI can use the borrowed amount for what purpose?,faq.borrow_use\\r\\nI can use the borrowed amount for what reason?,faq.borrow_use\\r\\nIn which scenarios would be abcd company direct useful?,faq.borrow_use\\r\\nIn which scenarios would be this loan useful?,faq.borrow_use\\r\\nIs there any restriction on how I use the borrowed money for?,faq.borrow_use\\r\\nLoan amount can be used for doing what?,faq.borrow_use\\r\\ncan i get loan for trading,faq.borrow_use\\r\\nLoan can be used for which purposes?,faq.borrow_use\\r\\nLoan I can use for which purposes?,faq.borrow_use\\r\\nLoan money Can be used where?,faq.borrow_use\\r\\nLoan money use?,faq.borrow_use\\r\\nloan would be used by me for which purposes?,faq.borrow_use\\r\\nMoney of the loan can be used where?,faq.borrow_use\\r\\nMoney taken by abcd company direct can be used where?,faq.borrow_use\\r\\nNeed to taking abcd company direct?,faq.borrow_use\\r\\nObjective I can achieve by using abcd company direct?,faq.borrow_use\\r\\nObjective I can achieve by using this loan?,faq.borrow_use\\r\\nPlease tell me where can I use abcd company direct,faq.borrow_use\\r\\nprojects can I use the borrowed amount in ?,faq.borrow_use\\r\\nPurposes I can use the borrowed amount for?,faq.borrow_use\\r\\nreasons I can use the borrowed amount for?,faq.borrow_use\\r\\nTell me the places where I can use the loaned amount?,faq.borrow_use\\r\\nTell me what can I do with the loaned amount?,faq.borrow_use\\r\\nTell me which objectives can I fulfill with abcd company direct?,faq.borrow_use\\r\\nThe loaned amount can be used where?,faq.borrow_use\\r\\nThings for which abcd company direct would be useful?,faq.borrow_use\\r\\nWhy to take abcd company direct?,faq.borrow_use\\r\\nWhich reasons can this borrowed money be used for?,faq.borrow_use\\r\\nAmount granted by abcd company direct can be used by me for which purposes?,faq.borrow_use\\r\\nabcd company direct would be used by me for which purposes?,faq.borrow_use\\r\\nabcd company direct would be used by me for which functions,faq.borrow_use\\r\\nabcd company direct would be used by me for what purposes?,faq.borrow_use\\r\\nabcd company direct would be benificial for me in which purposes,faq.borrow_use\\r\\nabcd company direct can be use for which scenarios?,faq.borrow_use\\r\\nabcd company direct can be use for which purposes?,faq.borrow_use\\r\\nabcd company direct can be used by me for what purposes?,faq.borrow_use\\r\\nabcd company direct can be used by me for what kind of functions?,faq.borrow_use\\r\\nthis loan would be used by me for which functions,faq.borrow_use\\r\\nAmount I can use for what reasons?,faq.borrow_use\\r\\nborrowed amount can be used for which of the purposes?,faq.borrow_use\\r\\nborrowed amount given can used by me for what reasons?,faq.borrow_use\\r\\nborrowed amount given can used by me for which purposes?,faq.borrow_use\\r\\nborrowed money can be used for which of the purposes?,faq.borrow_use\\r\\nborrow money given can used by me for what reasons?,faq.borrow_use'}"
            ]
          },
          "metadata": {
            "tags": []
          },
          "execution_count": 3
        }
      ]
    },
    {
      "cell_type": "code",
      "metadata": {
        "id": "LE6wywJrN2ih"
      },
      "source": [
        "def load_dataset(filename):\n",
        "  df = pd.read_csv(filename, encoding = \"latin1\", names = [\"Sentence\", \"Intent\"])\n",
        "  print(df.head())\n",
        "  intent = df[\"Intent\"]\n",
        "  unique_intent = list(set(intent))\n",
        "  sentences = list(df[\"Sentence\"])\n",
        "  \n",
        "  return (intent, unique_intent, sentences)\n",
        "  \n"
      ],
      "execution_count": 80,
      "outputs": []
    },
    {
      "cell_type": "code",
      "metadata": {
        "id": "tF0FQA7gjOCX",
        "outputId": "9cbf4626-9b7f-43be-fda3-6af6464b7721",
        "colab": {
          "base_uri": "https://localhost:8080/",
          "height": 118
        }
      },
      "source": [
        "intent, unique_intent, sentences = load_dataset(\"Dataset.csv\")"
      ],
      "execution_count": 81,
      "outputs": [
        {
          "output_type": "stream",
          "text": [
            "                Sentence          Intent\n",
            "0       Need help pleese  commonQ.assist\n",
            "1              Need help  commonQ.assist\n",
            "2       I need some info  commonQ.assist\n",
            "3      Will you help me?  commonQ.assist\n",
            "4  What else can you do?  commonQ.assist\n"
          ],
          "name": "stdout"
        }
      ]
    },
    {
      "cell_type": "code",
      "metadata": {
        "id": "Y4sDt72BecHZ",
        "outputId": "7a5a10e3-7fce-467c-d260-3519d942a53e",
        "colab": {
          "base_uri": "https://localhost:8080/",
          "height": 218
        }
      },
      "source": [
        "intent"
      ],
      "execution_count": 82,
      "outputs": [
        {
          "output_type": "execute_result",
          "data": {
            "text/plain": [
              "0       commonQ.assist\n",
              "1       commonQ.assist\n",
              "2       commonQ.assist\n",
              "3       commonQ.assist\n",
              "4       commonQ.assist\n",
              "             ...      \n",
              "1108    faq.borrow_use\n",
              "1109    faq.borrow_use\n",
              "1110    faq.borrow_use\n",
              "1111    faq.borrow_use\n",
              "1112    faq.borrow_use\n",
              "Name: Intent, Length: 1113, dtype: object"
            ]
          },
          "metadata": {
            "tags": []
          },
          "execution_count": 82
        }
      ]
    },
    {
      "cell_type": "code",
      "metadata": {
        "id": "b6NJg1_leWlQ",
        "outputId": "e3531946-ac70-45ba-e282-58c8041516c9",
        "colab": {
          "base_uri": "https://localhost:8080/",
          "height": 1000
        }
      },
      "source": [
        "sentences"
      ],
      "execution_count": 83,
      "outputs": [
        {
          "output_type": "execute_result",
          "data": {
            "text/plain": [
              "['Need help pleese',\n",
              " 'Need help',\n",
              " 'I need some info',\n",
              " 'Will you help me?',\n",
              " 'What else can you do?',\n",
              " 'What do you do?',\n",
              " 'What can you help me with?',\n",
              " 'What can you do?',\n",
              " 'What are you good at?',\n",
              " 'Need help plz',\n",
              " 'How can you help me',\n",
              " 'Can you help me?',\n",
              " 'How can you assist?',\n",
              " 'How can you help me?',\n",
              " 'How do you help?',\n",
              " 'How to help you?',\n",
              " 'How will you assist me?',\n",
              " 'i need help',\n",
              " 'Can you tell some info',\n",
              " 'Help me please',\n",
              " 'Is this a bot?',\n",
              " 'Is there a bot chatting to me?',\n",
              " 'Is it automated message?',\n",
              " 'Computer based pely',\n",
              " 'Bot or human?',\n",
              " 'Bot is chatting with me?',\n",
              " 'Are you system generated message?',\n",
              " 'Are you robot?',\n",
              " 'Are you machine?',\n",
              " 'Are you just computer?',\n",
              " 'Are you a robot?',\n",
              " 'Are you a person?',\n",
              " 'Are you a machine?',\n",
              " 'Are you a chatbot?',\n",
              " 'Are you a bot?',\n",
              " 'Are these automated messages?',\n",
              " 'Am I talking to a bot?',\n",
              " 'You are a boy are girl?',\n",
              " 'You are a bot or human?',\n",
              " 'This is a machine?',\n",
              " 'This is a chatbot?',\n",
              " 'System generated reply',\n",
              " 'Sir you system genretrd',\n",
              " 'Is this computer based response',\n",
              " 'Is this a machine?',\n",
              " 'Are you a human?',\n",
              " 'Hows life?',\n",
              " 'How was your day?',\n",
              " 'How you doin?',\n",
              " 'Whats up?',\n",
              " \"What's happening?\",\n",
              " 'Kya chal raha?',\n",
              " 'Wassup?',\n",
              " 'How you doing?',\n",
              " 'Are you fine?',\n",
              " 'Are you good?',\n",
              " 'How are you?',\n",
              " 'How are you doing?',\n",
              " 'Only providing my number',\n",
              " 'Only providing my email',\n",
              " 'Only providing my contact details',\n",
              " 'Only here to give my contact',\n",
              " 'i am just here to provide my number',\n",
              " 'i am just here to provide my details',\n",
              " 'Who are youu?',\n",
              " 'What can I call you?',\n",
              " 'Your name?',\n",
              " 'Can you tell me your name?',\n",
              " 'Are you there?',\n",
              " 'Any one there?',\n",
              " 'What is your name?',\n",
              " 'are you abir?',\n",
              " 'Is anyone there?',\n",
              " 'Your name is?',\n",
              " 'Who is chatting?',\n",
              " 'Tell me about your self?',\n",
              " 'Who are you?',\n",
              " 'Who am I chatting with?',\n",
              " \"What's your name?\",\n",
              " 'What should I say as your name?',\n",
              " 'Tell me your name?',\n",
              " 'What are you called?',\n",
              " 'No I will not give the information.',\n",
              " 'No. Cannot give you.',\n",
              " \"I don't want to tell\",\n",
              " \"I don't want to\",\n",
              " \"I don't think so\",\n",
              " \"Don't have it as of now.\",\n",
              " 'Cannot tell you',\n",
              " \"Won't tell\",\n",
              " \"Won't give you\",\n",
              " \"Sorry but I won't\",\n",
              " \"Right now I don't have it.\",\n",
              " 'I have a question',\n",
              " 'Need to aska query',\n",
              " 'I have a question for you',\n",
              " 'HAving a query',\n",
              " 'I have a query for you',\n",
              " 'I have a query',\n",
              " 'Have a query for you',\n",
              " 'Wait for two minutes',\n",
              " 'will you please wait',\n",
              " 'Can you  please wait',\n",
              " 'Please wait',\n",
              " 'Wait for some time',\n",
              " 'Want you to wait for me',\n",
              " 'Can you wait for two minutes',\n",
              " 'Connect me to the support of abcd company',\n",
              " 'I want a call back from you',\n",
              " 'Please tell me your tollfree number ?',\n",
              " 'Please tell me your mobile number?',\n",
              " 'Address of your company?',\n",
              " 'Address of abcd company?',\n",
              " 'How to reach out to abcd company team?',\n",
              " 'How to get in touch with your team?',\n",
              " 'Your team can be reached how?',\n",
              " 'Your helpline number?',\n",
              " \"Your company's address?\",\n",
              " 'How to meet you',\n",
              " 'Your email address to reach?',\n",
              " 'You have any branch at kolkata?',\n",
              " 'How contact representative?',\n",
              " 'How do i contact you?',\n",
              " 'How to get in touch with the your team?',\n",
              " 'How to contact you?',\n",
              " 'What is your helpline number?',\n",
              " 'Which number I should call to reach you?',\n",
              " 'Which number can I call to discuss?',\n",
              " 'Which email should I use to reach to you?',\n",
              " 'Which email I must use to reach to you?',\n",
              " 'Give me your number need to speak',\n",
              " 'Give me your mobile no',\n",
              " 'Give me the mobile number and i will call you',\n",
              " 'Email I must use to co-ordinate with you',\n",
              " 'Getting in touch',\n",
              " 'I need help. Connect me with support.',\n",
              " 'Need a telephonic call',\n",
              " 'Need a person to chat with me',\n",
              " 'Need human agent',\n",
              " 'Need customer care',\n",
              " 'Guide me please regarding the loan?',\n",
              " 'Contact me on my personal number 9999999999',\n",
              " 'Did not solved my query',\n",
              " 'Contact me please',\n",
              " 'Guide me please',\n",
              " 'Call me later',\n",
              " 'Call me at my phone number?',\n",
              " '999999999 call me now',\n",
              " 'arrange call for me',\n",
              " 'call me at my number',\n",
              " 'Should I get a call back tomorrow?',\n",
              " 'Can I call tomorrow?',\n",
              " 'Contact me at my mobile number',\n",
              " 'Call on the mobile number 9999999999',\n",
              " 'Call on my phone number 9999999999',\n",
              " 'Contact me at my phone number',\n",
              " 'Call on 9999999999 now',\n",
              " 'Please get me human to solve my query?',\n",
              " 'Please call me on my number',\n",
              " 'Want a person to chat',\n",
              " 'Please contact me now',\n",
              " 'Call me on my number',\n",
              " 'Want to chat with a person',\n",
              " 'What is your email ID?',\n",
              " 'Need to speak to an executive',\n",
              " 'Need to get in touch with the your team?',\n",
              " 'Need to contact customer care.',\n",
              " 'Need to contact customer care agent.',\n",
              " 'Need to contact customer care executive',\n",
              " 'Need to contact customer care agent now please',\n",
              " 'In which number should I reach to you?',\n",
              " 'In which number can I reach your team?',\n",
              " 'In which email to reach you?',\n",
              " 'How to reach you ?',\n",
              " 'can i meet any one in bank?',\n",
              " 'Can I please contact customer care?',\n",
              " 'can u tell me your Email id ?',\n",
              " 'Can you provide executive number help',\n",
              " 'Can you share the contact details of the support',\n",
              " 'Need to contact you guys',\n",
              " 'Need to get in touch with the Simpler Loan team?',\n",
              " 'can i get phone number of your company',\n",
              " 'Can I get a telephonic call?',\n",
              " 'I wan to speak to executive',\n",
              " 'Is it possible to meet any one in bank',\n",
              " 'I want to speak with you',\n",
              " 'I want to contact concerned people.',\n",
              " 'I want to contact your team',\n",
              " 'I want to tak to you',\n",
              " 'I want to talk to customer care executive',\n",
              " 'How to reach out to your team?',\n",
              " 'Email I can use to reach you?',\n",
              " 'Do you have any branch?',\n",
              " 'Customer support?',\n",
              " 'Customer service?',\n",
              " 'Please call me at my number',\n",
              " 'No answering correctly',\n",
              " 'Need to contact your team',\n",
              " 'Need to contact human',\n",
              " 'How to get in touch with customer service?',\n",
              " 'What is your customer care no. ?',\n",
              " 'Number I can call to discuss',\n",
              " 'What is your toll free number',\n",
              " \"What's the Email ID of abcd company\",\n",
              " 'Where are your branches?',\n",
              " 'Where is your office located?',\n",
              " 'Where is your office?',\n",
              " 'Kindle send you are mobile no or email IDentification',\n",
              " 'i wish to talk with representative',\n",
              " 'Kindly send you are customer care no',\n",
              " 'Let me speak with an executive',\n",
              " 'Need to contact concerned persons',\n",
              " 'Want to meet your executive',\n",
              " 'want to talk to executive',\n",
              " 'What are the customer care contact?',\n",
              " 'What is email ID of your company?',\n",
              " 'What is the toll free number of abcd company',\n",
              " 'What is the toll free number',\n",
              " 'What is the nearest branch?',\n",
              " 'What is the email address to reach you?',\n",
              " 'How can the the your team be reached?',\n",
              " 'How can the abcd company team be reached?',\n",
              " 'How can I speak to an executive',\n",
              " 'How can I reach your team for a query?',\n",
              " 'How can I contact you?',\n",
              " 'Give your contact number.',\n",
              " 'abcd company team can be reached how?',\n",
              " 'abcd company email address?',\n",
              " 'abcd company office is located where?',\n",
              " 'Any branch at delhi?',\n",
              " 'Want to meet the executive for loan information',\n",
              " 'Want to communicate. So give me your number',\n",
              " 'To reach you which email address?',\n",
              " 'Tell me the number in which I could reach?',\n",
              " 'Please send you are number',\n",
              " 'Please provide phone no.',\n",
              " 'Please provide me the to contact person',\n",
              " 'Pease tell mobile number. I need to speak',\n",
              " 'Please provide me the real person',\n",
              " 'Please give your mobile no or email ID',\n",
              " 'Number to reach you',\n",
              " 'Need to chat with human',\n",
              " 'i want to know your office address in punjab?',\n",
              " 'Lost Aadhaar',\n",
              " \"I currently don't have Aadhaar card, What can I do?\",\n",
              " 'I do not have aadhaar card can I apply for loan',\n",
              " 'i do not have addhar card can I get loan',\n",
              " 'I do not have an Aadhaar Card. What should I do?',\n",
              " 'If Aadhaar card goes missing would I be able to give my application?',\n",
              " 'If my Aadhaar card is lost can I still submit my application?',\n",
              " 'I lost my aadhaar can I still apply?',\n",
              " 'Is Aadhaar card mandatory for filling the loan application?',\n",
              " 'Is it compulsory to give Aadhaar card for the sanction of this loan?',\n",
              " 'Is it mandatory to give Aadhaar card for loan?',\n",
              " 'No Aadhaar',\n",
              " 'No Aadhaar. Can I apply?',\n",
              " 'No aadhaar. Can I still get the loan?',\n",
              " 'No aadhaar here. Can I still get a loan?',\n",
              " 'No aadhaar here. Can I submit application?',\n",
              " 'Not having aadhaar. What to do?',\n",
              " 'Without the aadhaar get I still get loan?',\n",
              " 'Without having Aadhaar card can I submit my application?',\n",
              " \"What should I do if i don't have Aadhaar card?\",\n",
              " 'What can I do if I lost Aadhaar card?',\n",
              " \"What can I do if I don't have Aadhaar card?\",\n",
              " \"What are my options if I don't have the  Aadhaar card?\",\n",
              " 'Tell me can you give me a loan without the Aadhaar card?',\n",
              " 'Aadhaar card is lost can I still submit my application?',\n",
              " 'Aadhaar card is missing.',\n",
              " 'Aadhaar card is missing, What to do?',\n",
              " 'Aadhaar is lost, what else can I do?',\n",
              " 'can I apply for loan even if I do not have addhar card?',\n",
              " 'Can I apply without having Aadhaar card?',\n",
              " 'Can I get loan without the Aadhaar card?',\n",
              " 'Can I still get loan even without aadhaar?',\n",
              " 'Can I submit my application even if I dont have Aadhaar card',\n",
              " \"Don't have Aadhaar card, Tell me what should I do?\",\n",
              " 'How to get loan without Aadhaar card?',\n",
              " 'What address proof can I provide?',\n",
              " 'Types of address proofs I can give?',\n",
              " 'The types of proofs of address. Which I can give.',\n",
              " 'The proofs of address that I need to submit.',\n",
              " 'The business address proofs I can upload in the application?',\n",
              " 'The bills to be uploaded for proving the address?',\n",
              " 'The address proofs that can be uploaded in application?',\n",
              " 'The address proofs that are needed in this application?',\n",
              " 'Need to provide which address proofs?',\n",
              " 'In application which address proofs can be uploaded?',\n",
              " 'For proving the address what is the proofs I can upload?',\n",
              " 'For proving my address what address I need to give?',\n",
              " 'For proof of my address which bills do you need?',\n",
              " 'For address proof what bills can I upload?',\n",
              " 'For address proof what bills can Igive?',\n",
              " 'The personal address information I can upload in the application?',\n",
              " \"personal address proofs I'll have to provide?\",\n",
              " 'personal address proofs I need to give?',\n",
              " 'personal address proofs I need to upload?',\n",
              " 'Please tell me what are different personal address proofs I can upload in this application?',\n",
              " 'Personal proofs to be added in application?',\n",
              " 'Personal proofs added on application?',\n",
              " 'Tell me what are the personal address proofs I can upload in the application?',\n",
              " 'Which personal address proofs can I upload in the application?',\n",
              " 'What types of personal address proofs can I provide?',\n",
              " 'What types of personal address information can I upload as part of the application?',\n",
              " 'What personal address can I give for my address',\n",
              " 'What are the personal address proofs I can upload in the application?',\n",
              " 'The personal address proofs I can upload in the application?',\n",
              " 'Address information I can upload in the application?',\n",
              " 'Address proof I have to provide',\n",
              " 'Address proofs I can upload in the application?',\n",
              " \"Address proofs I'll have to provide?\",\n",
              " 'Address proofs I need to give?',\n",
              " 'Address proofs I need to upload?',\n",
              " 'Bills for proof of address?',\n",
              " 'Bills I can give for address proof?',\n",
              " 'Bills I can upload for proof of my address?',\n",
              " 'Bills that I can give for the address proof?',\n",
              " 'Bills to give for proof of address?',\n",
              " 'Bills to give for proving the address',\n",
              " 'Bills you need to address proof?',\n",
              " 'personal address proofs can I give in the application?',\n",
              " 'personal address information I can upload in the application?',\n",
              " 'For the application what are the personal adresss information I can upload?',\n",
              " 'Different personal address proofs I can upload in this loan application?',\n",
              " 'In loan application what are diifferent personal address proofs ?',\n",
              " 'home or personal address proofs can I upload as part of the application?',\n",
              " 'For the application what are the personal adresss proofs I can upload?',\n",
              " 'Which address proof should I give to you?',\n",
              " 'Which address proofs do I need to provide?',\n",
              " 'Which address proofs do I need to give?',\n",
              " 'Which address proof do you need from me?',\n",
              " 'What to upload for proving my address?',\n",
              " 'what bills to give for address proof?',\n",
              " 'What are the types of address proofs I need to give?',\n",
              " 'What address proofs are accepted?',\n",
              " 'Types of address proofs that can be uploaded?',\n",
              " 'Personal address proofs can I provide in loan application?',\n",
              " 'Process of application process for getiing the loan?',\n",
              " 'Process of abcd company direct applying?',\n",
              " 'Process of abcd company direct application process for getiing the loan?',\n",
              " 'Process of abcd company direct application?',\n",
              " 'Process for applying for this loan?',\n",
              " 'Process for applying for abcd company direct?',\n",
              " 'Procedure to take loan?',\n",
              " 'Procedure to have finance?',\n",
              " 'procedure to get finance for business?',\n",
              " 'procedure to get finance?',\n",
              " 'Procedure to apply for loan?',\n",
              " 'procedure of this loan application procedure for getiing the loan?',\n",
              " 'Please tell How can I apply for abcd company direct?',\n",
              " 'Please tell me the process for getting the loan?',\n",
              " 'Please tell me the process in order to apply for abcd company direct?',\n",
              " 'Please tell me the ways for applying for abcd company direct?',\n",
              " 'procedure of abcd company direct application procedure for getting the loan?',\n",
              " 'Procedure for loan sanction',\n",
              " 'procedure for applying for simplerloan?',\n",
              " 'procedure for applying for abcd company direct?',\n",
              " 'Please tell the process of abcd company direct application to get loan?',\n",
              " 'Please tell the process for registering abcd company direct?',\n",
              " 'Please tell the process for applying this loan?',\n",
              " 'Please tell the process for applying abcd company direct?',\n",
              " 'Please tell the procedure of this loan application to get loan?',\n",
              " 'Please tell the procedure of application to get loan?',\n",
              " 'Please tell the procedure of abcd company direct application to get loan?',\n",
              " 'Can you please tell me the process of abcd company direct application?',\n",
              " 'Can you please tell me what are the ways to apply for abcd company direct?',\n",
              " 'Can you please tell me what are the ways to register for abcd company direct?',\n",
              " 'For sanction of loan what is the process?',\n",
              " 'For taking the loan what is the process?',\n",
              " 'For the loan requirement what is the process?',\n",
              " 'Guide me the loan process',\n",
              " 'Please tell the procedure for applying abcd company direct?',\n",
              " 'Please tell me the ways for registering for abcd company direct?',\n",
              " 'Can you please tell me the procedure of this loan application?',\n",
              " 'I want Business loan for amount 2 lacks how can I proceed?',\n",
              " 'I want Business loan for amount 2 lacks how to proceed?',\n",
              " 'Would like to know how can I get loan?',\n",
              " 'With the process of loan please guide me',\n",
              " 'Where can I register for a abcd company direct?',\n",
              " 'Where can I apply for a abcd company direct?',\n",
              " 'this loan moblie application process?',\n",
              " 'To get loan how to I sign up?',\n",
              " 'how to get loan',\n",
              " 'How to fill the loan application',\n",
              " 'How to fill the application?',\n",
              " 'How to do the loan application?',\n",
              " 'How to apply for loan ?',\n",
              " 'how to apply for loan',\n",
              " 'How to apply for business loan?',\n",
              " 'How to apply for abcd company direct loan?',\n",
              " 'How to apply?',\n",
              " 'How I will get loan?',\n",
              " 'How is the process to apply for this loan?',\n",
              " 'I want to know the procedure for loan',\n",
              " 'Can you please tell me the procedure of application?',\n",
              " 'Can you please tell me process for the loan?',\n",
              " 'Can you please tell me about process of abcd company direct application?',\n",
              " 'Can you please tell me about procedure of abcd company direct application?',\n",
              " 'CAn I get your application form?',\n",
              " 'As I want a new loan what is the procedure for that?',\n",
              " 'abcd company direct registering process?',\n",
              " 'abcd company direct online applying process?',\n",
              " 'abcd company direct online applying procedure?',\n",
              " 'abcd company direct moblie application process?',\n",
              " 'abcd company direct moblie application procedure?',\n",
              " 'abcd company direct applying process?',\n",
              " 'abcd company direct applying procedure?',\n",
              " 'abcd company direct applying how?',\n",
              " 'abcd company direct apply',\n",
              " 'abcd company direct application process?',\n",
              " 'abcd company direct application procedure?',\n",
              " 'How do I proceed for loan',\n",
              " 'How to proceed for loan',\n",
              " 'How should I proceed for loan?',\n",
              " 'I want to know how does this application work?',\n",
              " \"I want loan what's the process?\",\n",
              " 'I need to know what is process of loan for a new business',\n",
              " 'I need loan tell me the process?',\n",
              " 'I need loan so what is the process?',\n",
              " 'I need a loan. How to get it??',\n",
              " 'I have a business, what is the paper work for taking this loan facility?',\n",
              " 'How would one apply for abcd company direct?',\n",
              " 'How will I get loan?',\n",
              " \"What's the abcd company direct applying procedure for taking the loan?\",\n",
              " \"What's the abcd company direct applying process for taking the loan?\",\n",
              " \"What's the applying process for the loan?\",\n",
              " \"What's the loan process?\",\n",
              " 'Whats the loan process?',\n",
              " \"What's the procedure for applying abcd company direct?\",\n",
              " \"What's the procedure for registering abcd company direct?\",\n",
              " \"What's the procedure to start new businesses?\",\n",
              " \"What's the process for applying this loan?\",\n",
              " \"What's the process for registering abcd company direct?\",\n",
              " 'What to do for loan application?',\n",
              " 'Help me with the loan procedure',\n",
              " 'Guide me through the process of loan?',\n",
              " 'How apply for abcd company direct loan?',\n",
              " 'How will get loan',\n",
              " 'How to start application for loan?',\n",
              " 'How to I sign up to get the loan',\n",
              " 'How to I sign up for the process of loan',\n",
              " 'Can you please tell me the process?',\n",
              " 'To get this loan ewhta is the procss?',\n",
              " 'want to know how is the application process?',\n",
              " 'Want to know procedure for loan?',\n",
              " 'Want to know the application procedure',\n",
              " 'want to know the procedure for application',\n",
              " 'Want to know the procedure of this loan?',\n",
              " 'Want to know the process of loan application',\n",
              " 'Want to know the process to start new business',\n",
              " 'What are steps to get the loan?',\n",
              " 'How to I sign up for the loan',\n",
              " 'How to I sign up',\n",
              " 'How to get the loan?',\n",
              " \"What's the process for applying abcd company direct?\",\n",
              " 'What are the details to apply for the loan?',\n",
              " 'What are the ways to apply for abcd company direct?',\n",
              " 'What are the ways to register for abcd company direct?',\n",
              " 'What is Loan procedure?',\n",
              " 'What is the application process?',\n",
              " 'What is the applying process?',\n",
              " 'What is the procedure for this loan?',\n",
              " 'What is the procedure to get finance',\n",
              " 'What is the process and paper work for taking this loan?',\n",
              " 'What is the process for getting finance?',\n",
              " 'What is the process for getting the loan?',\n",
              " 'What is the process for the sanction of loan?',\n",
              " 'What is the process of applying for abcd company direct?',\n",
              " 'What is the process of applying for this loan?',\n",
              " 'What is the process of registering for abcd company direct?',\n",
              " 'What is the process of taking the loan?',\n",
              " 'What is the process to apply for abcd company direct?',\n",
              " 'What is the process to apply for simplerloan?',\n",
              " 'What is the process to get finance?',\n",
              " 'What is the process to start new business?',\n",
              " 'What is your application process?',\n",
              " 'What is your loan process?',\n",
              " 'What is your process of application?',\n",
              " \"What's the abcd company direct application procedure for taking the loan?\",\n",
              " \"What's the abcd company direct application process for taking the loan?\",\n",
              " 'How is the process to apply for abcd company direct?',\n",
              " 'How is the procedure to apply for abcd company direct?',\n",
              " 'How is the possible to take loan?',\n",
              " 'How is it possible to get loan?',\n",
              " 'How I can get the loan?',\n",
              " 'How getting loan?',\n",
              " 'How get loan?',\n",
              " 'How do I applying for abcd company direct?',\n",
              " 'How do I apply for loan?',\n",
              " 'How do I apply?',\n",
              " 'How can I take loan from your company?',\n",
              " 'How can I have a business loan?',\n",
              " 'How can I get the loan please tell me the process',\n",
              " 'How can I get It Please Tell me for process',\n",
              " 'How can I get a loan from you?',\n",
              " 'How can I fill the loan application?',\n",
              " 'How can I apply for the business loan?',\n",
              " 'How can I apply for loan?',\n",
              " 'how can I apply for loan',\n",
              " 'How can I apply for abcd company direct?',\n",
              " 'How can get loan',\n",
              " 'The process of abcd company direct applying to get loan?',\n",
              " 'The process of abcd company direct application to get loan?',\n",
              " 'The procedure of this loan application to get loan?',\n",
              " 'The procedure of simplerloan application to get loan?',\n",
              " 'The procedure of abcd company direct applying to get loan?',\n",
              " 'The procedure of abcd company direct application to get loan?',\n",
              " 'Tell me the process to get this loan?',\n",
              " 'Tell me the process of abcd company direct application ?',\n",
              " 'Tell me the process for applying for this loan?',\n",
              " 'Tell me the procedure of this loan application?',\n",
              " 'Tell me the procedure of abcd company direct application ?',\n",
              " 'tell me the procedure for applciation',\n",
              " 'Tell me about the process to apply for simplerloan?',\n",
              " 'Tell me about the process to apply for abcd company direct?',\n",
              " 'Steps to get the loan',\n",
              " 'Steps for availing the loan',\n",
              " 'Send me your application form',\n",
              " 'Process to get loan for business?',\n",
              " 'Process to get business loan?',\n",
              " 'Process to apply for loan?',\n",
              " 'Process to apply?',\n",
              " 'Process of abcd company direct applying process for getiing the loan?',\n",
              " 'Need offline application form',\n",
              " 'Need the details to apply for loan?',\n",
              " 'Need the process for loan',\n",
              " 'need to know the loan process',\n",
              " 'Need your application form',\n",
              " 'please guide me the with procedure of the loan?',\n",
              " 'Please send application form',\n",
              " 'I want to know what is process of loan for a new business',\n",
              " 'I would like to know the process of application',\n",
              " 'I would like to know the process of loan',\n",
              " 'loan application procedure?',\n",
              " 'Loan applying process?',\n",
              " 'Loan apply karna hai',\n",
              " 'Mobile app abcd company direct applying procedure?',\n",
              " 'Mobile app loan applying procedure?',\n",
              " 'Nedd help with loan procedure',\n",
              " 'Need loan so how is it possible?',\n",
              " 'What is process for enrolling for sodexo pass?',\n",
              " 'Give me the application process',\n",
              " 'How will I create a new account?',\n",
              " 'How do I enroll for a meal pass?',\n",
              " 'How to sign up?',\n",
              " 'How do I register?',\n",
              " 'Can you please tell me the process of sodexo pass application?',\n",
              " 'Can you please tell me the process?',\n",
              " 'Can you please tell me the procedure of this pass application?',\n",
              " 'Can you please tell me the procedure of application?',\n",
              " 'Sodexo meal pass registering process?',\n",
              " 'Sodexo pass online applying process?',\n",
              " 'Sodexo pass online applying procedure?',\n",
              " 'Apply through mobile or website?',\n",
              " 'Sodexo moblie application procedure?',\n",
              " 'Sodexo applying process?',\n",
              " 'Sodexo applying procedure?',\n",
              " 'Sodexo pass applying how?',\n",
              " 'Sodexo pass apply',\n",
              " 'Sodexo pass application process?',\n",
              " 'Sodexo pass application procedure?',\n",
              " 'How should I proceed for pass?',\n",
              " 'How do I proceed for meal pass',\n",
              " 'How to proceed for pass',\n",
              " 'What is the process for getting the pass?',\n",
              " 'Need a new meal pass how to apply',\n",
              " 'New pass needed',\n",
              " 'How to apply for a new pass',\n",
              " 'How to register for a new meal pass',\n",
              " 'How to apply for meal pass?',\n",
              " 'Process for registration',\n",
              " 'Register for premium pass',\n",
              " 'Apply for premium pass?',\n",
              " 'Register for meal pass.',\n",
              " 'How to apply?',\n",
              " 'Application process?',\n",
              " 'Registration method?',\n",
              " 'Process of application',\n",
              " 'How do I apply?',\n",
              " 'Give me the registration procedure',\n",
              " 'What form do i have to fill for enrolling into sodexo',\n",
              " 'How can i join sodexo?',\n",
              " 'How can i book my sodexo pass?',\n",
              " 'Can you guide me through your company\\x89Ûªs enrollment procedure',\n",
              " 'Sign up for sodexo pass/card',\n",
              " 'Apply for meal pass.',\n",
              " 'Registration process for meal pass?',\n",
              " 'Application process for meal pass?',\n",
              " 'How to apply/register?',\n",
              " 'What is the registration process?',\n",
              " 'How do i utilize serves provided by your company',\n",
              " 'Process of signing up for sodexo',\n",
              " 'Hw do i register?',\n",
              " 'Can i signup here?',\n",
              " 'Cn u hlp me with registration?',\n",
              " 'Where can I apply or register for a Sodexo card?',\n",
              " 'How to register?',\n",
              " 'Process of registering?',\n",
              " 'How do I apply for meal pass?',\n",
              " 'What is the application process?',\n",
              " 'Apply kaise kare?',\n",
              " 'Application method?',\n",
              " 'Time it takes to get the loan to be approved?',\n",
              " 'Time it will take to get a loan approval?',\n",
              " 'Time it will take to get a loan sanctioned?',\n",
              " 'Time needed for the loan approved?',\n",
              " 'Time needed for the loan granted?',\n",
              " 'Time need for the loan approval?',\n",
              " 'Time required for loan approval?',\n",
              " 'Why is this approval taking so much time?',\n",
              " \"What's the time you take for approving any loan\",\n",
              " \"What's the time you need to sanction my loan\",\n",
              " \"What's the time you need to approve my loan\",\n",
              " 'What is the time duration for approval?',\n",
              " 'What is the approval time for this loan?',\n",
              " 'Wh are you taking so time time for approval?',\n",
              " 'Too much time for approval',\n",
              " 'Time you need for giving me a loan granted?',\n",
              " 'Time you need for giving me a loan approved?',\n",
              " \"Time you'd take for process the loan sanction\",\n",
              " 'For this loan what is the approval time?',\n",
              " 'How long does it take for a loan to be approved?',\n",
              " 'How long will it take to get the money after loan has been sanctioned?',\n",
              " 'How long will it time required after the loan has been granted?',\n",
              " 'How long will you take to give me loan amount after the loan has been approved?',\n",
              " 'How many days does loan approval take?',\n",
              " 'How many days will loan approval take?',\n",
              " 'How much time does it take for loan approval?',\n",
              " 'How much time for approval of loan?',\n",
              " 'How much time is needed for approval of loan?',\n",
              " 'How much time will be required for loan approval?',\n",
              " 'How much time will it take to approve my loan?',\n",
              " 'How much time will it take to sanction my loan?',\n",
              " 'how much time you are going to to take for approval of loan?',\n",
              " 'How much time you need to give me loan amount after the loan is approved?',\n",
              " 'How much time you need to give me money after the loan is approved?',\n",
              " 'In how many days after submitting is the loan approved?',\n",
              " 'In how many days is the the loan approved?',\n",
              " 'In how much time can you you give the loan',\n",
              " 'In how much time will I get loan after applying?',\n",
              " 'Loan approval is taking lot of time',\n",
              " 'Loan approval takes how much time?',\n",
              " 'Loan is approved in how many days?',\n",
              " 'The loan approval is going for a long time',\n",
              " 'Time for approval is very much',\n",
              " 'Time it takes to get the loan to be granted?',\n",
              " 'Time you need for approval',\n",
              " \"Time you'd take for process the loan approval\",\n",
              " 'Time required for loan sanction process',\n",
              " 'Time required for loan approval process',\n",
              " 'After applying in how much time will I get loan?',\n",
              " 'After applying loan will get in how much time?',\n",
              " 'After loan application how much time required?',\n",
              " 'After the loan process how much time is required?',\n",
              " 'After the process how much time needed?',\n",
              " 'Already applied in how much time will I get loan?',\n",
              " 'Approval is taking very much time...',\n",
              " 'Approval time is too long.',\n",
              " 'Approval time is very much',\n",
              " 'For approval of loan how much time is required?',\n",
              " 'For getting this loan what is the time required for approval?',\n",
              " 'For loan approval how much time will be required?',\n",
              " 'for loan what is the approval time?',\n",
              " 'For long time loan approval is going on',\n",
              " 'you cannot help me',\n",
              " \"I don't get response\",\n",
              " 'Really bad support',\n",
              " 'No response from your side',\n",
              " 'Have not recieved responses',\n",
              " 'Do not recieved any response from you guys',\n",
              " \"You don't respond to my emails\",\n",
              " 'You guys have a really bad service',\n",
              " 'No response of my emails',\n",
              " 'You have not responded to my email queries',\n",
              " 'abcd company has a bad support',\n",
              " 'You have a bad support',\n",
              " 'You really have a bad service',\n",
              " 'Bad service you have',\n",
              " 'I cannot find my current bank in net banking option',\n",
              " 'In net banking option I cannot find my bank',\n",
              " 'In net banking option I cannot find my current bank',\n",
              " 'My bank is not available in net banking option',\n",
              " 'My bank is not present in net banking choice',\n",
              " 'My bank is not present in net banking option',\n",
              " 'Bank is not there in banking options?',\n",
              " 'My bank is not supported',\n",
              " 'My bank is not there in options',\n",
              " 'My bank option is missing?',\n",
              " 'My current bank is not present in net banking option',\n",
              " 'Can you tell me why is my curent bank not present in net banking option?',\n",
              " 'My pank is missing from options?',\n",
              " 'No my bank is not present in the options',\n",
              " 'Why is my current bank not available in net banking option?',\n",
              " 'Why is my current bank not present in Net banking option?',\n",
              " 'Why is my current bank not present in online banking choice?',\n",
              " 'Why is my current bank not showing in the net banking option',\n",
              " 'Why si my bank not supported',\n",
              " 'Will I need an account of a specific bank for making the loan application?',\n",
              " 'Can you tell me why is my current bank not present in online banking choice?',\n",
              " 'Do I need to have an account of a certain bank for making the loan application because my bank is not avalable in net banking option',\n",
              " 'Do I need to have an account of a specific bank for making the loan application?',\n",
              " 'For making loan application do I need to have an account on a certain bank as my bank is not showing up in net banking option',\n",
              " 'For making loan application do I need to have an account on a specific bank?',\n",
              " 'For making loan application do I need to have an account on a specific bank because my bank is not present in net banking option',\n",
              " 'For the application of Loan will I have to make an account on a certain bank as in the net banking option my current bank is not available',\n",
              " 'Help me because I cannot find my bank in net banking option',\n",
              " 'Help me because I cannot find my current bank in net banking option',\n",
              " 'How should I proceed as I cannot find my bank in online banking choices?',\n",
              " 'I cannot find my bank in Net banking.',\n",
              " 'I cannot find my bank in net banking option',\n",
              " 'In net banking choice I cannot find my bank?',\n",
              " 'Bank is not there in the options',\n",
              " 'Bank not there on the options',\n",
              " 'cannot find my bank in net banking choice',\n",
              " 'Cannot find my bank in netbanking option',\n",
              " 'Bank is not supported by you',\n",
              " 'Bank is not present in the options',\n",
              " 'You do no support my bank',\n",
              " 'Would I need an account with a specific bank to make the loan application?',\n",
              " 'Will I need an account of a specific bank for making the loan application as I cannot find my current bank in net banking option?',\n",
              " 'Why is my bank not showing in the online banking choice?',\n",
              " 'Why is my bank not showing in the net banking option',\n",
              " 'Why is my bank not present in Net banking option?',\n",
              " 'Why is my bank is not present in net banking option?',\n",
              " 'Why is my bank is not present in net banking choices?',\n",
              " 'Why is my bank is not available in net banking option?',\n",
              " 'There is not my bank is net banking option?',\n",
              " 'There are Issues with net banking',\n",
              " 'Some Issues coming with net banking',\n",
              " 'Please tell me why is my current bank not present in net banking option?',\n",
              " 'Please tell me why is my curent bank not present in net banking option?',\n",
              " 'Please tell me why is my curent bank not available in net banking option?',\n",
              " 'What should I enter if my business category is not presented in the choices?',\n",
              " 'Cannot find Industry Type.',\n",
              " 'Cannot find Industry Type on the options.',\n",
              " \"Category I'm in is not present in the options\",\n",
              " 'I cannot find my Business Category / Business Type in the options provided. What should I enter?',\n",
              " 'My business is not present on the category list',\n",
              " 'What should I enter if my business category is not presented in the options?',\n",
              " 'What should I enter if my business type is not presented in the options?',\n",
              " 'What to do as my business is not listed in the options?',\n",
              " 'What to do as my business is not listed on the categories?',\n",
              " 'What to do if my business category is not in the options?',\n",
              " 'What to enter if my my business category is not listed?',\n",
              " 'What to enter if my my business type is not listed?',\n",
              " 'Which option should I choose If my business category is not present?',\n",
              " \"Actually the business category I'm in is not present in the choices, What should I do?\",\n",
              " \"Actualy the business category I'm in is not present in the options, What should I do?\",\n",
              " 'if my business category is not present in the options',\n",
              " 'Industry Type is not there in the options.',\n",
              " 'In the business category my business is not listed, What to do?',\n",
              " 'In the business type my business is not listed, What to do?',\n",
              " 'In the options cannot find Industry Type.',\n",
              " 'In the options provided business category is not present, What should I do?',\n",
              " 'My biz category is missing in the options, What can I do?',\n",
              " 'My Business category is missing in the choices, What can I do?',\n",
              " 'My Business category is missing in the options.',\n",
              " 'My Business category is missing in the options, What can I do?',\n",
              " 'My business category is not there.',\n",
              " 'My business category missing from the options.',\n",
              " 'My business if different form the choices',\n",
              " 'My business is not listed in the options.',\n",
              " 'My business is not present on the category options.',\n",
              " 'My business is not there in category',\n",
              " 'My Business type is missing in the options, What can I do?',\n",
              " \"The business I'm in is not there on the category list\",\n",
              " 'What can I do, even if my business category is not present in the choices?',\n",
              " 'What can I do, even if my business category is not present in the options?',\n",
              " 'What should I enter if my biz type is not presented in the options?',\n",
              " 'Business category is not there in the options, Which option should I chosse now ?',\n",
              " 'Business category missing from the options',\n",
              " 'Business category missing from the options. What should I do?',\n",
              " 'new companies can also apply?',\n",
              " 'Can I get loan for new enterprise?',\n",
              " 'Can I get loan for new venture',\n",
              " 'Can i get loan for start new business?',\n",
              " 'can i get loan to start new business?',\n",
              " 'Can new businesses also apply for loan?',\n",
              " 'Can new companies apply for loan?',\n",
              " 'I just opened a new business',\n",
              " \"I'm a beginner in business\",\n",
              " \"I'm new in business so I can get loan?\",\n",
              " \"I'm planning to start up\",\n",
              " \"I'm starting business\",\n",
              " 'I started my business last week',\n",
              " 'I started my business started last month',\n",
              " 'i started one my company last week',\n",
              " 'I starting new firm for business',\n",
              " 'I starting new firm for new business',\n",
              " 'Its a fresh company',\n",
              " 'i want create a business',\n",
              " 'i want the money to start a new business',\n",
              " 'I want to open a business',\n",
              " 'I want to open an enterprise',\n",
              " 'I want to start a business.',\n",
              " 'I want to start a service',\n",
              " 'I want to start a small business can you give me loan?',\n",
              " 'I want to start my business so need loan',\n",
              " 'I want to start my own enterprise',\n",
              " 'Loan available for company less than one year',\n",
              " 'Loan available for setting up new business',\n",
              " 'Loan for new business?',\n",
              " 'Loan give to start business now?',\n",
              " 'Loan is available for new businesses?',\n",
              " 'My business is new',\n",
              " 'My business is relatively new',\n",
              " 'my company is started 1 month before',\n",
              " 'My company just started months ago',\n",
              " 'Need to start own venture',\n",
              " 'New business can get loan?',\n",
              " 'New businesses can also apply for loans?',\n",
              " 'New businesses can get loans?',\n",
              " 'Can any fresher apply for loan?',\n",
              " 'New company can apply for loan?',\n",
              " 'Newly opened company',\n",
              " 'New venture can get loan?',\n",
              " 'Now starting a new business',\n",
              " 'Recently started my company',\n",
              " 'Sir I have opened new business',\n",
              " 'Started my company last month',\n",
              " 'Starting a business now',\n",
              " 'Starting a new business',\n",
              " 'The business I have is not so old',\n",
              " 'The business is relatively new',\n",
              " 'To start a business can you give me loan?',\n",
              " 'Want to build a new empire',\n",
              " 'Want to start a business',\n",
              " 'Want to start a business and need loan for that',\n",
              " 'Want to start a new venture',\n",
              " 'Want to start business needs loan for that',\n",
              " 'What to start new business for which I want loan?',\n",
              " 'Will you me loan to start my own business?',\n",
              " 'Would like to start a small company. Need loan for that.',\n",
              " 'New in business so can I get loan?',\n",
              " 'Apna business open karna hai sir',\n",
              " 'Business start karna hai',\n",
              " 'Business shuru karna hai',\n",
              " 'this is my first business',\n",
              " 'I am starting an online business',\n",
              " 'Can a new business get a loan from you?',\n",
              " 'This loan would be good for my business?',\n",
              " 'this loan is available to all kinds of business?',\n",
              " 'This loan caters to which kind of businesses?',\n",
              " 'The types of companies you give loan to',\n",
              " 'The loan you give is right for my company?',\n",
              " 'The kind of companies you give the loan?',\n",
              " 'The categories of company you give the loan to',\n",
              " 'Tell me the types of companies to which you give loan',\n",
              " 'Tell me the types of companies that can use this loan?',\n",
              " 'Tell me the types of companies that can use abcd company direct?',\n",
              " 'Tell me the business that I take loan from you?',\n",
              " 'Tell me the business that can use this loan?',\n",
              " 'Tell me the business that can use abcd company direct?',\n",
              " 'Providing loan is available for all kind of biz?',\n",
              " 'Only business who can apply for abcd company direct from abcd company?',\n",
              " 'Number of companies to give  the loan too',\n",
              " 'My business can avail abcd company direct from abcd company?',\n",
              " 'My biz can apply for loan?',\n",
              " 'Loan you give is to which types of companies?',\n",
              " 'Loan will be offered to which types of business?',\n",
              " 'Loan is provided to which type of businesses?',\n",
              " 'Loan is provided for which businesses?',\n",
              " 'loan is given to which firms?',\n",
              " 'Loan is given by you for which companies',\n",
              " 'loan can used by which business?',\n",
              " 'Loan can be taken by me?',\n",
              " 'Loan available for business like ours?',\n",
              " 'Keep simple tp',\n",
              " 'Is this type of loan right for my business?',\n",
              " 'Is this loan right for mine business?',\n",
              " 'Is Loan good for my business?',\n",
              " 'Is abcd company direct right for my business?',\n",
              " 'Is abcd company direct good for my business?',\n",
              " 'Is abcd company direct appropriate for my business?',\n",
              " 'I have a proprietorship. Can I apply?',\n",
              " 'I have a private company. Can I apply?',\n",
              " 'How is abcd company direct right for my business?',\n",
              " 'From you can I take the loan?',\n",
              " 'For what type of business this loan is provided?',\n",
              " 'Firms which can apply for this loan?',\n",
              " 'Do you offer loan to business like ours?',\n",
              " 'Can my business take loan from you?',\n",
              " 'Can my business avail abcd company direct?',\n",
              " 'Which business can take loan from you?',\n",
              " 'What types of companies do you give loans to?',\n",
              " 'What types of businesses does your loan caters?',\n",
              " 'What kind of companies use this loan',\n",
              " 'What kind of companies use abcd company direct',\n",
              " 'Can I take the business loan from your company?',\n",
              " 'Can I take the business loan from you?',\n",
              " 'Can I take loan from your company?',\n",
              " 'Can can be taken by any business?',\n",
              " 'Businesses which can avail services of abcd company direct?',\n",
              " 'Any business can take this loan?',\n",
              " 'abcd company provides loan to which type of business?',\n",
              " 'abcd company is for providing loan and is available for all kind of biz?',\n",
              " 'abcd company gives loan to which kind to businesses?',\n",
              " 'abcd company direct would be suitable for my business?',\n",
              " 'abcd company direct will be offered to which types of business?',\n",
              " 'abcd company direct is given to which of the businesses?',\n",
              " 'abcd company direct is given to what kind of businesses?',\n",
              " 'abcd company direct is delivered for what kinds of businesses?',\n",
              " 'abcd company direct is available for my business?',\n",
              " 'abcd company direct could be used for what type of business?',\n",
              " 'abcd company direct caters to what kind of business?',\n",
              " 'abcd company direct can used by which business?',\n",
              " 'abcd company direct can be used in my business?',\n",
              " 'abcd company direct can be used by which of the businesses?',\n",
              " 'abcd company direct can be used by business of which types?',\n",
              " 'Is this loan give only to firms?',\n",
              " 'Can my business apply for abcd company direct?',\n",
              " 'Who can take loan from abcd company?',\n",
              " 'this loan give only to business?',\n",
              " 'this loan give only to businesses?',\n",
              " 'this loan give only to companies?',\n",
              " 'What kind of business can take loan from you?',\n",
              " 'Types of companies you give loans to?',\n",
              " 'Types of business which can apply for this loan of abcd company?',\n",
              " 'Types of business that can have loan from you?',\n",
              " 'Types of business that can have loan?',\n",
              " 'Types of businesses which can apply for loan from your company?',\n",
              " 'Which businesses does this loan caters to?',\n",
              " 'Which type of business can apply for abcd company direct?',\n",
              " 'Which types of business can have loan from you?',\n",
              " 'Who can apply for abcd company direct?',\n",
              " 'Who can take loan from abcd company?',\n",
              " 'You will provide your loan to us?',\n",
              " 'Your company gives loan to what kind of businesses?',\n",
              " 'You provide loan of which business?',\n",
              " 'You give loan to which types of business?',\n",
              " 'Would abcd company direct be right for my business',\n",
              " 'Will you give me your loan?',\n",
              " 'To which types of companies do you give loans',\n",
              " 'To which types of businesses do you offer loan?',\n",
              " 'How much amount of money can I have?',\n",
              " 'How much can I borrow, and for how long?',\n",
              " 'Amount given for loan?',\n",
              " 'Amount I can borrow from this loan?',\n",
              " 'Amount I can have as loan?',\n",
              " 'Amount I can take as loan?',\n",
              " 'Amount of loan that I can take?',\n",
              " 'How much loan amount can I get?',\n",
              " 'Amount of money I can take as a loan?',\n",
              " 'Amount of money I can take as loan?',\n",
              " 'Amount of money I have as loan from abcd company?',\n",
              " 'How much loan amount can I take from you?',\n",
              " 'Borrowing limit?',\n",
              " 'Borrow limit?',\n",
              " 'Can you send me the info about money I can have from this loan?',\n",
              " 'Different loan amounts I can have as loan?',\n",
              " 'Final limit of money I can take as a loan?',\n",
              " 'For how long can I have your borrowed money?',\n",
              " 'How much amount I can get?',\n",
              " 'Is there any limit on loan I can have?',\n",
              " 'I can have what type of loan amount?',\n",
              " 'How much money can I take as loan?',\n",
              " 'How much loan can I get?',\n",
              " 'How much loan can I get ?',\n",
              " 'How much loan amount I can get?',\n",
              " 'How much loan amount can I take as a loan?',\n",
              " 'Amount till which you give loans to busineses?',\n",
              " 'As a loan how much loan amount can I take?',\n",
              " 'As a loan how much money can I have?',\n",
              " 'As loan how money can I have?',\n",
              " 'When will I have to give back the loan amount I take from abcd company direct?',\n",
              " 'What si the borrow limit?',\n",
              " 'What loan amount I can get as loan?',\n",
              " 'What is your borrowing limit?',\n",
              " 'What is the total amount I can borrow from this loan?',\n",
              " 'What is the money I can borrow from this loan?',\n",
              " 'What is the loan amount I can take as loan?',\n",
              " 'What is the limit of loan I can have?',\n",
              " 'What is money I Can take as a loan?',\n",
              " 'What is amount you give money to businesses?',\n",
              " 'What are the loan amounts that I can have?',\n",
              " 'What are the different loan amount I can have?',\n",
              " 'What amount of loan I can take from you?',\n",
              " 'Total money I can borrow from your loan?',\n",
              " 'Total amount of money I can have from your simplerloan?',\n",
              " 'Total amount of money I can have from your abcd company direct?',\n",
              " 'Total amount I can borrow from your loan?',\n",
              " 'Till what amount do you give loan?',\n",
              " 'Till amount which you give loan to businesses?',\n",
              " 'Tell me the money I can borrow from the loan?',\n",
              " 'Tell me the loan amount I can take from you?',\n",
              " 'Tell me the limit on loan that I have?',\n",
              " 'What is the borrowing limit?',\n",
              " 'Loan amount I can take from you?',\n",
              " 'Loan amount I can have?',\n",
              " 'Limit of money I can take as loan?',\n",
              " 'Need information about the money I can take from simplerloan?',\n",
              " 'Please send information about the amount of money I can have from this loan?',\n",
              " 'Please send information about the money I can have from this loan?',\n",
              " 'Need information about the money I can take from abcd company direct?',\n",
              " 'Need information about the amount I can take from this loan?',\n",
              " 'Need information about the amount I can take from abcd company direct?',\n",
              " 'Need details about how much money I can take from abcd company direct?',\n",
              " 'Need details about how much money I can take?',\n",
              " 'Need details about how much amount I can take from this loan?',\n",
              " 'Need details about how much amount I can take from abcd company direct?',\n",
              " ...]"
            ]
          },
          "metadata": {
            "tags": []
          },
          "execution_count": 83
        }
      ]
    },
    {
      "cell_type": "code",
      "metadata": {
        "id": "O8LLUZlokg0S",
        "outputId": "ae340fdb-0f22-4c71-dc61-c8274dca70a4",
        "colab": {
          "base_uri": "https://localhost:8080/",
          "height": 54
        }
      },
      "source": [
        "print(sentences[:10])"
      ],
      "execution_count": 84,
      "outputs": [
        {
          "output_type": "stream",
          "text": [
            "['Need help pleese', 'Need help', 'I need some info', 'Will you help me?', 'What else can you do?', 'What do you do?', 'What can you help me with?', 'What can you do?', 'What are you good at?', 'Need help plz']\n"
          ],
          "name": "stdout"
        }
      ]
    },
    {
      "cell_type": "code",
      "metadata": {
        "id": "MhrziINPGHbW",
        "outputId": "c70c3735-88c2-40ee-d221-db1a5dac0eb3",
        "colab": {
          "base_uri": "https://localhost:8080/",
          "height": 101
        }
      },
      "source": [
        "nltk.download(\"stopwords\")\n",
        "nltk.download(\"punkt\")"
      ],
      "execution_count": 85,
      "outputs": [
        {
          "output_type": "stream",
          "text": [
            "[nltk_data] Downloading package stopwords to /root/nltk_data...\n",
            "[nltk_data]   Package stopwords is already up-to-date!\n",
            "[nltk_data] Downloading package punkt to /root/nltk_data...\n",
            "[nltk_data]   Package punkt is already up-to-date!\n"
          ],
          "name": "stdout"
        },
        {
          "output_type": "execute_result",
          "data": {
            "text/plain": [
              "True"
            ]
          },
          "metadata": {
            "tags": []
          },
          "execution_count": 85
        }
      ]
    },
    {
      "cell_type": "code",
      "metadata": {
        "id": "OmNLu2YSXePb"
      },
      "source": [
        "#define stemmer\n",
        "stemmer = LancasterStemmer()"
      ],
      "execution_count": 86,
      "outputs": []
    },
    {
      "cell_type": "markdown",
      "metadata": {
        "id": "W1VMDqOLWVhD"
      },
      "source": [
        "# 3. Data Cleaning"
      ]
    },
    {
      "cell_type": "code",
      "metadata": {
        "id": "j-7q3iG5PKYI"
      },
      "source": [
        "def cleaning(sentences):\n",
        "  words = []\n",
        "  for s in sentences:\n",
        "    clean = re.sub(r'[^ a-z A-Z 0-9]', \" \", s)\n",
        "    w = word_tokenize(clean)\n",
        "    #stemming\n",
        "    words.append([i.lower() for i in w])\n",
        "    \n",
        "  return words  "
      ],
      "execution_count": 87,
      "outputs": []
    },
    {
      "cell_type": "code",
      "metadata": {
        "id": "p1j2GJgDG6qj",
        "outputId": "2f334ba9-47d1-4d8a-d3ed-8dab16805b71",
        "colab": {
          "base_uri": "https://localhost:8080/",
          "height": 50
        }
      },
      "source": [
        "cleaned_words = cleaning(sentences)\n",
        "print(len(cleaned_words))\n",
        "print(cleaned_words[:2])  "
      ],
      "execution_count": 88,
      "outputs": [
        {
          "output_type": "stream",
          "text": [
            "1113\n",
            "[['need', 'help', 'pleese'], ['need', 'help']]\n"
          ],
          "name": "stdout"
        }
      ]
    },
    {
      "cell_type": "markdown",
      "metadata": {
        "id": "6jMeT_GYZ-wl"
      },
      "source": [
        "### 3.1 Keras Tokenizer"
      ]
    },
    {
      "cell_type": "code",
      "metadata": {
        "id": "SJCQ_YhBJW7t"
      },
      "source": [
        "def create_tokenizer(words, filters = '!\"#$%&()*+,-./:;<=>?@[\\]^_`{|}~'):\n",
        "  token = Tokenizer(filters = filters)\n",
        "  token.fit_on_texts(words)\n",
        "  return token"
      ],
      "execution_count": 89,
      "outputs": []
    },
    {
      "cell_type": "code",
      "metadata": {
        "id": "QJhdIJC5Q3Q6"
      },
      "source": [
        "def max_length(words):\n",
        "  return(len(max(words, key = len)))\n",
        "  "
      ],
      "execution_count": 90,
      "outputs": []
    },
    {
      "cell_type": "code",
      "metadata": {
        "id": "JWjxPGsZZJNX",
        "outputId": "8d6cdd18-ed65-4c91-850f-428269cd7063",
        "colab": {
          "base_uri": "https://localhost:8080/",
          "height": 34
        }
      },
      "source": [
        "word_tokenizer = create_tokenizer(cleaned_words)\n",
        "vocab_size = len(word_tokenizer.word_index) + 1\n",
        "max_length = max_length(cleaned_words)\n",
        "\n",
        "print(\"Vocab Size = %d and Maximum length = %d\" % (vocab_size, max_length))"
      ],
      "execution_count": 91,
      "outputs": [
        {
          "output_type": "stream",
          "text": [
            "Vocab Size = 492 and Maximum length = 28\n"
          ],
          "name": "stdout"
        }
      ]
    },
    {
      "cell_type": "markdown",
      "metadata": {
        "id": "Br8aIj2aaWwS"
      },
      "source": [
        "### 3.2 One Hot Encoding for Model Fed"
      ]
    },
    {
      "cell_type": "code",
      "metadata": {
        "id": "D0TXu2xsR8jq"
      },
      "source": [
        "def encoding_doc(token, words):\n",
        "  return(token.texts_to_sequences(words))"
      ],
      "execution_count": 92,
      "outputs": []
    },
    {
      "cell_type": "code",
      "metadata": {
        "id": "dE92Hk1Va--H"
      },
      "source": [
        "encoded_doc = encoding_doc(word_tokenizer, cleaned_words)"
      ],
      "execution_count": 93,
      "outputs": []
    },
    {
      "cell_type": "code",
      "metadata": {
        "id": "fyOzLEboc4LZ"
      },
      "source": [
        "def padding_doc(encoded_doc, max_length):\n",
        "  return(pad_sequences(encoded_doc, maxlen = max_length, padding = \"post\"))"
      ],
      "execution_count": 94,
      "outputs": []
    },
    {
      "cell_type": "code",
      "metadata": {
        "id": "WdejoJrlc-tc"
      },
      "source": [
        "padded_doc = padding_doc(encoded_doc, max_length)"
      ],
      "execution_count": 95,
      "outputs": []
    },
    {
      "cell_type": "code",
      "metadata": {
        "id": "gDgTCS2KdI2p",
        "outputId": "ccc26aca-22aa-43e7-d400-d236d6408fb1",
        "colab": {
          "base_uri": "https://localhost:8080/",
          "height": 269
        }
      },
      "source": [
        "padded_doc[:5]"
      ],
      "execution_count": 96,
      "outputs": [
        {
          "output_type": "execute_result",
          "data": {
            "text/plain": [
              "array([[ 25,  77, 332,   0,   0,   0,   0,   0,   0,   0,   0,   0,   0,\n",
              "          0,   0,   0,   0,   0,   0,   0,   0,   0,   0,   0,   0,   0,\n",
              "          0,   0],\n",
              "       [ 25,  77,   0,   0,   0,   0,   0,   0,   0,   0,   0,   0,   0,\n",
              "          0,   0,   0,   0,   0,   0,   0,   0,   0,   0,   0,   0,   0,\n",
              "          0,   0],\n",
              "       [  1,  25, 198, 181,   0,   0,   0,   0,   0,   0,   0,   0,   0,\n",
              "          0,   0,   0,   0,   0,   0,   0,   0,   0,   0,   0,   0,   0,\n",
              "          0,   0],\n",
              "       [ 51,  10,  77,  16,   0,   0,   0,   0,   0,   0,   0,   0,   0,\n",
              "          0,   0,   0,   0,   0,   0,   0,   0,   0,   0,   0,   0,   0,\n",
              "          0,   0],\n",
              "       [  8, 268,   4,  10,  30,   0,   0,   0,   0,   0,   0,   0,   0,\n",
              "          0,   0,   0,   0,   0,   0,   0,   0,   0,   0,   0,   0,   0,\n",
              "          0,   0]], dtype=int32)"
            ]
          },
          "metadata": {
            "tags": []
          },
          "execution_count": 96
        }
      ]
    },
    {
      "cell_type": "code",
      "metadata": {
        "id": "3eaSIDi0dNf1",
        "outputId": "ff73d79f-5f83-4e79-b92c-915f46c433f6",
        "colab": {
          "base_uri": "https://localhost:8080/",
          "height": 34
        }
      },
      "source": [
        "print(\"Shape of padded docs = \",padded_doc.shape)"
      ],
      "execution_count": 97,
      "outputs": [
        {
          "output_type": "stream",
          "text": [
            "Shape of padded docs =  (1113, 28)\n"
          ],
          "name": "stdout"
        }
      ]
    },
    {
      "cell_type": "code",
      "metadata": {
        "id": "X0rXzenSpgFR"
      },
      "source": [
        "#tokenizer with filter changed\n",
        "output_tokenizer = create_tokenizer(unique_intent, filters = '!\"#$%&()*+,-/:;<=>?@[\\]^`{|}~')\n"
      ],
      "execution_count": 98,
      "outputs": []
    },
    {
      "cell_type": "code",
      "metadata": {
        "id": "yNHQtkszskxr",
        "outputId": "d8cc03cf-9248-4441-a722-df4e0355aea6",
        "colab": {
          "base_uri": "https://localhost:8080/",
          "height": 370
        }
      },
      "source": [
        "output_tokenizer.word_index"
      ],
      "execution_count": 99,
      "outputs": [
        {
          "output_type": "execute_result",
          "data": {
            "text/plain": [
              "{'commonq.assist': 8,\n",
              " 'commonq.bot': 5,\n",
              " 'commonq.how': 13,\n",
              " 'commonq.just_details': 19,\n",
              " 'commonq.name': 14,\n",
              " 'commonq.not_giving': 2,\n",
              " 'commonq.query': 4,\n",
              " 'commonq.wait': 16,\n",
              " 'contact.contact': 12,\n",
              " 'faq.aadhaar_missing': 11,\n",
              " 'faq.address_proof': 3,\n",
              " 'faq.application_process': 9,\n",
              " 'faq.apply_register': 18,\n",
              " 'faq.approval_time': 7,\n",
              " 'faq.bad_service': 21,\n",
              " 'faq.banking_option_missing': 17,\n",
              " 'faq.biz_category_missing': 6,\n",
              " 'faq.biz_new': 10,\n",
              " 'faq.biz_simpler': 15,\n",
              " 'faq.borrow_limit': 1,\n",
              " 'faq.borrow_use': 20}"
            ]
          },
          "metadata": {
            "tags": []
          },
          "execution_count": 99
        }
      ]
    },
    {
      "cell_type": "code",
      "metadata": {
        "id": "7OOx9qdBto1-"
      },
      "source": [
        "encoded_output = encoding_doc(output_tokenizer, intent)"
      ],
      "execution_count": 100,
      "outputs": []
    },
    {
      "cell_type": "code",
      "metadata": {
        "id": "0_5Lv5PiyG-z"
      },
      "source": [
        "encoded_output = np.array(encoded_output).reshape(len(encoded_output), 1)"
      ],
      "execution_count": 101,
      "outputs": []
    },
    {
      "cell_type": "code",
      "metadata": {
        "id": "dpM86WrVQlx5",
        "outputId": "c9339437-61db-4dff-cdb6-1e25d0287dfe",
        "colab": {
          "base_uri": "https://localhost:8080/",
          "height": 34
        }
      },
      "source": [
        "encoded_output.shape"
      ],
      "execution_count": 102,
      "outputs": [
        {
          "output_type": "execute_result",
          "data": {
            "text/plain": [
              "(1113, 1)"
            ]
          },
          "metadata": {
            "tags": []
          },
          "execution_count": 102
        }
      ]
    },
    {
      "cell_type": "code",
      "metadata": {
        "id": "rD3QN-RPzfet"
      },
      "source": [
        "\n",
        "def one_hot(encode):\n",
        "  o = OneHotEncoder(sparse = False)\n",
        "  return(o.fit_transform(encode))"
      ],
      "execution_count": 103,
      "outputs": []
    },
    {
      "cell_type": "code",
      "metadata": {
        "id": "Z6wP_Xed7RNR"
      },
      "source": [
        "output_one_hot = one_hot(encoded_output)"
      ],
      "execution_count": 104,
      "outputs": []
    },
    {
      "cell_type": "code",
      "metadata": {
        "id": "A6HVslLTHgOM",
        "outputId": "30216876-453d-44f7-abfa-47c8103863a7",
        "colab": {
          "base_uri": "https://localhost:8080/",
          "height": 34
        }
      },
      "source": [
        "output_one_hot.shape"
      ],
      "execution_count": 105,
      "outputs": [
        {
          "output_type": "execute_result",
          "data": {
            "text/plain": [
              "(1113, 21)"
            ]
          },
          "metadata": {
            "tags": []
          },
          "execution_count": 105
        }
      ]
    },
    {
      "cell_type": "markdown",
      "metadata": {
        "id": "tiFPj9OlahZ7"
      },
      "source": [
        "# 4. Train and Validation Split"
      ]
    },
    {
      "cell_type": "code",
      "metadata": {
        "id": "EqABUESD7xi9"
      },
      "source": [
        "from sklearn.model_selection import train_test_split"
      ],
      "execution_count": 106,
      "outputs": []
    },
    {
      "cell_type": "code",
      "metadata": {
        "id": "h8P4HTz6A4E-"
      },
      "source": [
        "train_X, val_X, train_Y, val_Y = train_test_split(padded_doc, output_one_hot, shuffle = True, test_size = 0.2)\n"
      ],
      "execution_count": 107,
      "outputs": []
    },
    {
      "cell_type": "code",
      "metadata": {
        "id": "7E0uhC2OCtTx",
        "outputId": "c3bb0df1-652e-4de5-e053-4ce1922ca2e4",
        "colab": {
          "base_uri": "https://localhost:8080/",
          "height": 50
        }
      },
      "source": [
        "print(\"Shape of train_X = %s and train_Y = %s\" % (train_X.shape, train_Y.shape))\n",
        "print(\"Shape of val_X = %s and val_Y = %s\" % (val_X.shape, val_Y.shape))"
      ],
      "execution_count": 108,
      "outputs": [
        {
          "output_type": "stream",
          "text": [
            "Shape of train_X = (890, 28) and train_Y = (890, 21)\n",
            "Shape of val_X = (223, 28) and val_Y = (223, 21)\n"
          ],
          "name": "stdout"
        }
      ]
    },
    {
      "cell_type": "markdown",
      "metadata": {
        "id": "DY8K5wMEanvo"
      },
      "source": [
        "# 5. GRU Modeling"
      ]
    },
    {
      "cell_type": "code",
      "metadata": {
        "id": "e5BU_x74DNEb"
      },
      "source": [
        "def create_model(vocab_size, max_length):\n",
        "  model = Sequential()\n",
        "  model.add(Embedding(vocab_size, 128, input_length = max_length, trainable = False))\n",
        "  model.add(Bidirectional(LSTM(128)))\n",
        "#   model.add(LSTM(128))\n",
        "  model.add(Dense(32, activation = \"relu\"))\n",
        "  model.add(Dropout(0.5))\n",
        "  model.add(Dense(21, activation = \"softmax\"))\n",
        "  \n",
        "  return model"
      ],
      "execution_count": 109,
      "outputs": []
    },
    {
      "cell_type": "code",
      "metadata": {
        "id": "0D5Q1FAzZ_cx"
      },
      "source": [
        "def create_model(vocab_size, max_length):\n",
        "  model = Sequential()\n",
        "  model.add(Embedding(vocab_size, 128, input_length = max_length, trainable = False))\n",
        "  model.add(Bidirectional(LSTM(128, return_sequences=True)))\n",
        "  model.add(Bidirectional(LSTM(64)))\n",
        "#   model.add(LSTM(128))\n",
        "  model.add(Dense(32, activation = \"relu\"))\n",
        "  model.add(Dropout(0.5))\n",
        "  model.add(Dense(21, activation = \"softmax\"))\n",
        "  \n",
        "  return model"
      ],
      "execution_count": 110,
      "outputs": []
    },
    {
      "cell_type": "code",
      "metadata": {
        "id": "f-NvE0P7MFCe",
        "outputId": "96e2b1d1-2f96-45f0-8153-f92566b7cedd",
        "colab": {
          "base_uri": "https://localhost:8080/",
          "height": 353
        }
      },
      "source": [
        "model = create_model(vocab_size, max_length)\n",
        "model.compile(loss = \"categorical_crossentropy\", optimizer = \"adam\", metrics = [\"accuracy\"])\n",
        "model.summary()"
      ],
      "execution_count": 111,
      "outputs": [
        {
          "output_type": "stream",
          "text": [
            "Model: \"sequential_3\"\n",
            "_________________________________________________________________\n",
            "Layer (type)                 Output Shape              Param #   \n",
            "=================================================================\n",
            "embedding_3 (Embedding)      (None, 28, 128)           62976     \n",
            "_________________________________________________________________\n",
            "bidirectional_5 (Bidirection (None, 28, 256)           263168    \n",
            "_________________________________________________________________\n",
            "bidirectional_6 (Bidirection (None, 128)               164352    \n",
            "_________________________________________________________________\n",
            "dense_4 (Dense)              (None, 32)                4128      \n",
            "_________________________________________________________________\n",
            "dropout_5 (Dropout)          (None, 32)                0         \n",
            "_________________________________________________________________\n",
            "dense_5 (Dense)              (None, 21)                693       \n",
            "=================================================================\n",
            "Total params: 495,317\n",
            "Trainable params: 432,341\n",
            "Non-trainable params: 62,976\n",
            "_________________________________________________________________\n"
          ],
          "name": "stdout"
        }
      ]
    },
    {
      "cell_type": "markdown",
      "metadata": {
        "id": "rSIyrIJcazyT"
      },
      "source": [
        "# 6. Training"
      ]
    },
    {
      "cell_type": "code",
      "metadata": {
        "id": "LdltXo9sYhIl"
      },
      "source": [
        ""
      ],
      "execution_count": null,
      "outputs": []
    },
    {
      "cell_type": "code",
      "metadata": {
        "id": "_r-dxm2sMQ-d",
        "outputId": "5e6cb219-a935-47c3-8de2-d197190784e5",
        "colab": {
          "base_uri": "https://localhost:8080/",
          "height": 1000
        }
      },
      "source": [
        "filename = 'model.h5'\n",
        "checkpoint = ModelCheckpoint(filename, monitor='val_loss', verbose=1, save_best_only=True, mode='min')\n",
        "\n",
        "hist = model.fit(train_X, train_Y, epochs = 100, batch_size = 32, validation_data = (val_X, val_Y), callbacks = [checkpoint])"
      ],
      "execution_count": null,
      "outputs": [
        {
          "output_type": "stream",
          "text": [
            "Epoch 1/100\n",
            "28/28 [==============================] - ETA: 0s - loss: 2.9254 - accuracy: 0.1000\n",
            "Epoch 00001: val_loss improved from inf to 2.80447, saving model to model.h5\n",
            "28/28 [==============================] - 4s 158ms/step - loss: 2.9254 - accuracy: 0.1000 - val_loss: 2.8045 - val_accuracy: 0.1749\n",
            "Epoch 2/100\n",
            "28/28 [==============================] - ETA: 0s - loss: 2.8230 - accuracy: 0.1494\n",
            "Epoch 00002: val_loss improved from 2.80447 to 2.75262, saving model to model.h5\n",
            "28/28 [==============================] - 3s 108ms/step - loss: 2.8230 - accuracy: 0.1494 - val_loss: 2.7526 - val_accuracy: 0.1749\n",
            "Epoch 3/100\n",
            "28/28 [==============================] - ETA: 0s - loss: 2.7699 - accuracy: 0.1539\n",
            "Epoch 00003: val_loss improved from 2.75262 to 2.66517, saving model to model.h5\n",
            "28/28 [==============================] - 3s 108ms/step - loss: 2.7699 - accuracy: 0.1539 - val_loss: 2.6652 - val_accuracy: 0.1749\n",
            "Epoch 4/100\n",
            "28/28 [==============================] - ETA: 0s - loss: 2.6436 - accuracy: 0.1910\n",
            "Epoch 00004: val_loss improved from 2.66517 to 2.50259, saving model to model.h5\n",
            "28/28 [==============================] - 3s 109ms/step - loss: 2.6436 - accuracy: 0.1910 - val_loss: 2.5026 - val_accuracy: 0.2422\n",
            "Epoch 5/100\n",
            "28/28 [==============================] - ETA: 0s - loss: 2.5225 - accuracy: 0.2281\n",
            "Epoch 00005: val_loss improved from 2.50259 to 2.28692, saving model to model.h5\n",
            "28/28 [==============================] - 3s 106ms/step - loss: 2.5225 - accuracy: 0.2281 - val_loss: 2.2869 - val_accuracy: 0.3004\n",
            "Epoch 6/100\n",
            "28/28 [==============================] - ETA: 0s - loss: 2.3727 - accuracy: 0.2562\n",
            "Epoch 00006: val_loss improved from 2.28692 to 2.13428, saving model to model.h5\n",
            "28/28 [==============================] - 3s 108ms/step - loss: 2.3727 - accuracy: 0.2562 - val_loss: 2.1343 - val_accuracy: 0.3049\n",
            "Epoch 7/100\n",
            "28/28 [==============================] - ETA: 0s - loss: 2.1848 - accuracy: 0.3281\n",
            "Epoch 00007: val_loss improved from 2.13428 to 2.01431, saving model to model.h5\n",
            "28/28 [==============================] - 3s 113ms/step - loss: 2.1848 - accuracy: 0.3281 - val_loss: 2.0143 - val_accuracy: 0.3857\n",
            "Epoch 8/100\n",
            "28/28 [==============================] - ETA: 0s - loss: 2.0908 - accuracy: 0.3472\n",
            "Epoch 00008: val_loss improved from 2.01431 to 1.84532, saving model to model.h5\n",
            "28/28 [==============================] - 3s 110ms/step - loss: 2.0908 - accuracy: 0.3472 - val_loss: 1.8453 - val_accuracy: 0.4484\n",
            "Epoch 9/100\n",
            "28/28 [==============================] - ETA: 0s - loss: 1.8902 - accuracy: 0.4079\n",
            "Epoch 00009: val_loss improved from 1.84532 to 1.73551, saving model to model.h5\n",
            "28/28 [==============================] - 3s 109ms/step - loss: 1.8902 - accuracy: 0.4079 - val_loss: 1.7355 - val_accuracy: 0.4843\n",
            "Epoch 10/100\n",
            "28/28 [==============================] - ETA: 0s - loss: 1.7625 - accuracy: 0.4506\n",
            "Epoch 00010: val_loss improved from 1.73551 to 1.52844, saving model to model.h5\n",
            "28/28 [==============================] - 3s 109ms/step - loss: 1.7625 - accuracy: 0.4506 - val_loss: 1.5284 - val_accuracy: 0.5516\n",
            "Epoch 11/100\n",
            "28/28 [==============================] - ETA: 0s - loss: 1.6086 - accuracy: 0.5079\n",
            "Epoch 00011: val_loss improved from 1.52844 to 1.47468, saving model to model.h5\n",
            "28/28 [==============================] - 3s 108ms/step - loss: 1.6086 - accuracy: 0.5079 - val_loss: 1.4747 - val_accuracy: 0.5695\n",
            "Epoch 12/100\n",
            "28/28 [==============================] - ETA: 0s - loss: 1.5077 - accuracy: 0.5584\n",
            "Epoch 00012: val_loss improved from 1.47468 to 1.37188, saving model to model.h5\n",
            "28/28 [==============================] - 3s 108ms/step - loss: 1.5077 - accuracy: 0.5584 - val_loss: 1.3719 - val_accuracy: 0.5785\n",
            "Epoch 13/100\n",
            "28/28 [==============================] - ETA: 0s - loss: 1.4446 - accuracy: 0.5596\n",
            "Epoch 00013: val_loss did not improve from 1.37188\n",
            "28/28 [==============================] - 3s 106ms/step - loss: 1.4446 - accuracy: 0.5596 - val_loss: 1.4280 - val_accuracy: 0.5202\n",
            "Epoch 14/100\n",
            "28/28 [==============================] - ETA: 0s - loss: 1.3690 - accuracy: 0.5955\n",
            "Epoch 00014: val_loss improved from 1.37188 to 1.31743, saving model to model.h5\n",
            "28/28 [==============================] - 3s 109ms/step - loss: 1.3690 - accuracy: 0.5955 - val_loss: 1.3174 - val_accuracy: 0.6009\n",
            "Epoch 15/100\n",
            "28/28 [==============================] - ETA: 0s - loss: 1.2651 - accuracy: 0.6258\n",
            "Epoch 00015: val_loss improved from 1.31743 to 1.24849, saving model to model.h5\n",
            "28/28 [==============================] - 3s 107ms/step - loss: 1.2651 - accuracy: 0.6258 - val_loss: 1.2485 - val_accuracy: 0.6143\n",
            "Epoch 16/100\n",
            "28/28 [==============================] - ETA: 0s - loss: 1.2696 - accuracy: 0.6022\n",
            "Epoch 00016: val_loss improved from 1.24849 to 1.22004, saving model to model.h5\n",
            "28/28 [==============================] - 3s 109ms/step - loss: 1.2696 - accuracy: 0.6022 - val_loss: 1.2200 - val_accuracy: 0.6278\n",
            "Epoch 17/100\n",
            "28/28 [==============================] - ETA: 0s - loss: 1.1758 - accuracy: 0.6416\n",
            "Epoch 00017: val_loss improved from 1.22004 to 1.07183, saving model to model.h5\n",
            "28/28 [==============================] - 3s 108ms/step - loss: 1.1758 - accuracy: 0.6416 - val_loss: 1.0718 - val_accuracy: 0.6592\n",
            "Epoch 18/100\n",
            "28/28 [==============================] - ETA: 0s - loss: 1.1339 - accuracy: 0.6685\n",
            "Epoch 00018: val_loss did not improve from 1.07183\n",
            "28/28 [==============================] - 3s 106ms/step - loss: 1.1339 - accuracy: 0.6685 - val_loss: 1.1372 - val_accuracy: 0.6592\n",
            "Epoch 19/100\n",
            "28/28 [==============================] - ETA: 0s - loss: 1.0362 - accuracy: 0.6944\n",
            "Epoch 00019: val_loss did not improve from 1.07183\n",
            "28/28 [==============================] - 3s 107ms/step - loss: 1.0362 - accuracy: 0.6944 - val_loss: 1.0845 - val_accuracy: 0.6771\n",
            "Epoch 20/100\n",
            "28/28 [==============================] - ETA: 0s - loss: 1.0647 - accuracy: 0.6876\n",
            "Epoch 00020: val_loss did not improve from 1.07183\n",
            "28/28 [==============================] - 3s 106ms/step - loss: 1.0647 - accuracy: 0.6876 - val_loss: 1.1041 - val_accuracy: 0.6726\n",
            "Epoch 21/100\n",
            "28/28 [==============================] - ETA: 0s - loss: 0.9910 - accuracy: 0.6921\n",
            "Epoch 00021: val_loss improved from 1.07183 to 0.96874, saving model to model.h5\n",
            "28/28 [==============================] - 3s 108ms/step - loss: 0.9910 - accuracy: 0.6921 - val_loss: 0.9687 - val_accuracy: 0.7085\n",
            "Epoch 22/100\n",
            "28/28 [==============================] - ETA: 0s - loss: 0.9413 - accuracy: 0.7135\n",
            "Epoch 00022: val_loss improved from 0.96874 to 0.89074, saving model to model.h5\n",
            "28/28 [==============================] - 3s 108ms/step - loss: 0.9413 - accuracy: 0.7135 - val_loss: 0.8907 - val_accuracy: 0.7489\n",
            "Epoch 23/100\n",
            "28/28 [==============================] - ETA: 0s - loss: 0.8370 - accuracy: 0.7461\n",
            "Epoch 00023: val_loss did not improve from 0.89074\n",
            "28/28 [==============================] - 3s 106ms/step - loss: 0.8370 - accuracy: 0.7461 - val_loss: 0.9161 - val_accuracy: 0.7220\n",
            "Epoch 24/100\n",
            "28/28 [==============================] - ETA: 0s - loss: 0.8648 - accuracy: 0.7461\n",
            "Epoch 00024: val_loss improved from 0.89074 to 0.84755, saving model to model.h5\n",
            "28/28 [==============================] - 3s 108ms/step - loss: 0.8648 - accuracy: 0.7461 - val_loss: 0.8476 - val_accuracy: 0.7623\n",
            "Epoch 25/100\n",
            "28/28 [==============================] - ETA: 0s - loss: 0.8790 - accuracy: 0.7449\n",
            "Epoch 00025: val_loss did not improve from 0.84755\n",
            "28/28 [==============================] - 3s 107ms/step - loss: 0.8790 - accuracy: 0.7449 - val_loss: 0.9365 - val_accuracy: 0.7309\n",
            "Epoch 26/100\n",
            "28/28 [==============================] - ETA: 0s - loss: 0.8219 - accuracy: 0.7506\n",
            "Epoch 00026: val_loss improved from 0.84755 to 0.79856, saving model to model.h5\n",
            "28/28 [==============================] - 3s 108ms/step - loss: 0.8219 - accuracy: 0.7506 - val_loss: 0.7986 - val_accuracy: 0.7848\n",
            "Epoch 27/100\n",
            "28/28 [==============================] - ETA: 0s - loss: 0.7687 - accuracy: 0.7629\n",
            "Epoch 00027: val_loss did not improve from 0.79856\n",
            "28/28 [==============================] - 3s 108ms/step - loss: 0.7687 - accuracy: 0.7629 - val_loss: 0.9454 - val_accuracy: 0.7399\n",
            "Epoch 28/100\n",
            "28/28 [==============================] - ETA: 0s - loss: 0.6967 - accuracy: 0.7910\n",
            "Epoch 00028: val_loss did not improve from 0.79856\n",
            "28/28 [==============================] - 3s 107ms/step - loss: 0.6967 - accuracy: 0.7910 - val_loss: 0.8448 - val_accuracy: 0.7668\n",
            "Epoch 29/100\n",
            "28/28 [==============================] - ETA: 0s - loss: 0.6526 - accuracy: 0.8034\n",
            "Epoch 00029: val_loss improved from 0.79856 to 0.78363, saving model to model.h5\n",
            "28/28 [==============================] - 3s 108ms/step - loss: 0.6526 - accuracy: 0.8034 - val_loss: 0.7836 - val_accuracy: 0.7668\n",
            "Epoch 30/100\n",
            "28/28 [==============================] - ETA: 0s - loss: 0.6649 - accuracy: 0.8011\n",
            "Epoch 00030: val_loss did not improve from 0.78363\n",
            "28/28 [==============================] - 3s 106ms/step - loss: 0.6649 - accuracy: 0.8011 - val_loss: 0.8939 - val_accuracy: 0.7848\n",
            "Epoch 31/100\n",
            "28/28 [==============================] - ETA: 0s - loss: 0.6516 - accuracy: 0.7809\n",
            "Epoch 00031: val_loss improved from 0.78363 to 0.75616, saving model to model.h5\n",
            "28/28 [==============================] - 3s 111ms/step - loss: 0.6516 - accuracy: 0.7809 - val_loss: 0.7562 - val_accuracy: 0.8027\n",
            "Epoch 32/100\n",
            "28/28 [==============================] - ETA: 0s - loss: 0.6968 - accuracy: 0.7921\n",
            "Epoch 00032: val_loss did not improve from 0.75616\n",
            "28/28 [==============================] - 3s 107ms/step - loss: 0.6968 - accuracy: 0.7921 - val_loss: 0.8857 - val_accuracy: 0.7354\n",
            "Epoch 33/100\n",
            "28/28 [==============================] - ETA: 0s - loss: 0.8540 - accuracy: 0.7449\n",
            "Epoch 00033: val_loss did not improve from 0.75616\n",
            "28/28 [==============================] - 3s 107ms/step - loss: 0.8540 - accuracy: 0.7449 - val_loss: 0.9345 - val_accuracy: 0.7399\n",
            "Epoch 34/100\n",
            "28/28 [==============================] - ETA: 0s - loss: 0.7490 - accuracy: 0.7674\n",
            "Epoch 00034: val_loss did not improve from 0.75616\n",
            "28/28 [==============================] - 3s 108ms/step - loss: 0.7490 - accuracy: 0.7674 - val_loss: 0.8591 - val_accuracy: 0.7623\n",
            "Epoch 35/100\n",
            "28/28 [==============================] - ETA: 0s - loss: 0.6278 - accuracy: 0.8135\n",
            "Epoch 00035: val_loss improved from 0.75616 to 0.73089, saving model to model.h5\n",
            "28/28 [==============================] - 3s 108ms/step - loss: 0.6278 - accuracy: 0.8135 - val_loss: 0.7309 - val_accuracy: 0.7937\n",
            "Epoch 36/100\n",
            "28/28 [==============================] - ETA: 0s - loss: 0.5364 - accuracy: 0.8315\n",
            "Epoch 00036: val_loss improved from 0.73089 to 0.70121, saving model to model.h5\n",
            "28/28 [==============================] - 3s 109ms/step - loss: 0.5364 - accuracy: 0.8315 - val_loss: 0.7012 - val_accuracy: 0.8027\n",
            "Epoch 37/100\n",
            "28/28 [==============================] - ETA: 0s - loss: 0.5675 - accuracy: 0.8225\n",
            "Epoch 00037: val_loss did not improve from 0.70121\n",
            "28/28 [==============================] - 3s 106ms/step - loss: 0.5675 - accuracy: 0.8225 - val_loss: 0.7784 - val_accuracy: 0.7937\n",
            "Epoch 38/100\n",
            "28/28 [==============================] - ETA: 0s - loss: 0.5344 - accuracy: 0.8360\n",
            "Epoch 00038: val_loss did not improve from 0.70121\n",
            "28/28 [==============================] - 3s 107ms/step - loss: 0.5344 - accuracy: 0.8360 - val_loss: 0.8868 - val_accuracy: 0.7892\n",
            "Epoch 39/100\n",
            "28/28 [==============================] - ETA: 0s - loss: 0.5069 - accuracy: 0.8348\n",
            "Epoch 00039: val_loss did not improve from 0.70121\n",
            "28/28 [==============================] - 3s 106ms/step - loss: 0.5069 - accuracy: 0.8348 - val_loss: 0.8543 - val_accuracy: 0.7848\n",
            "Epoch 40/100\n",
            "28/28 [==============================] - ETA: 0s - loss: 0.5488 - accuracy: 0.8236\n",
            "Epoch 00040: val_loss did not improve from 0.70121\n",
            "28/28 [==============================] - 3s 109ms/step - loss: 0.5488 - accuracy: 0.8236 - val_loss: 0.9518 - val_accuracy: 0.7444\n",
            "Epoch 41/100\n",
            "28/28 [==============================] - ETA: 0s - loss: 0.5456 - accuracy: 0.8236\n",
            "Epoch 00041: val_loss did not improve from 0.70121\n",
            "28/28 [==============================] - 3s 112ms/step - loss: 0.5456 - accuracy: 0.8236 - val_loss: 0.7983 - val_accuracy: 0.8027\n",
            "Epoch 42/100\n",
            "28/28 [==============================] - ETA: 0s - loss: 0.5206 - accuracy: 0.8393\n",
            "Epoch 00042: val_loss did not improve from 0.70121\n",
            "28/28 [==============================] - 3s 113ms/step - loss: 0.5206 - accuracy: 0.8393 - val_loss: 0.7327 - val_accuracy: 0.8251\n",
            "Epoch 43/100\n",
            "28/28 [==============================] - ETA: 0s - loss: 0.5398 - accuracy: 0.8135\n",
            "Epoch 00043: val_loss did not improve from 0.70121\n",
            "28/28 [==============================] - 3s 114ms/step - loss: 0.5398 - accuracy: 0.8135 - val_loss: 0.7495 - val_accuracy: 0.8251\n",
            "Epoch 44/100\n",
            "28/28 [==============================] - ETA: 0s - loss: 0.4893 - accuracy: 0.8438\n",
            "Epoch 00044: val_loss did not improve from 0.70121\n",
            "28/28 [==============================] - 3s 110ms/step - loss: 0.4893 - accuracy: 0.8438 - val_loss: 0.7934 - val_accuracy: 0.8117\n",
            "Epoch 45/100\n",
            "28/28 [==============================] - ETA: 0s - loss: 0.5497 - accuracy: 0.8258\n",
            "Epoch 00045: val_loss did not improve from 0.70121\n",
            "28/28 [==============================] - 3s 109ms/step - loss: 0.5497 - accuracy: 0.8258 - val_loss: 0.8657 - val_accuracy: 0.7803\n",
            "Epoch 46/100\n",
            "28/28 [==============================] - ETA: 0s - loss: 0.5834 - accuracy: 0.8124\n",
            "Epoch 00046: val_loss did not improve from 0.70121\n",
            "28/28 [==============================] - 3s 109ms/step - loss: 0.5834 - accuracy: 0.8124 - val_loss: 0.7999 - val_accuracy: 0.8027\n",
            "Epoch 47/100\n",
            "28/28 [==============================] - ETA: 0s - loss: 0.4764 - accuracy: 0.8483\n",
            "Epoch 00047: val_loss did not improve from 0.70121\n",
            "28/28 [==============================] - 3s 107ms/step - loss: 0.4764 - accuracy: 0.8483 - val_loss: 0.8188 - val_accuracy: 0.8072\n",
            "Epoch 48/100\n",
            "28/28 [==============================] - ETA: 0s - loss: 0.4206 - accuracy: 0.8517\n",
            "Epoch 00048: val_loss did not improve from 0.70121\n",
            "28/28 [==============================] - 3s 108ms/step - loss: 0.4206 - accuracy: 0.8517 - val_loss: 0.7916 - val_accuracy: 0.8206\n",
            "Epoch 49/100\n",
            "28/28 [==============================] - ETA: 0s - loss: 0.4084 - accuracy: 0.8584\n",
            "Epoch 00049: val_loss did not improve from 0.70121\n",
            "28/28 [==============================] - 3s 107ms/step - loss: 0.4084 - accuracy: 0.8584 - val_loss: 0.8662 - val_accuracy: 0.8161\n",
            "Epoch 50/100\n",
            "28/28 [==============================] - ETA: 0s - loss: 0.4305 - accuracy: 0.8573\n",
            "Epoch 00050: val_loss did not improve from 0.70121\n",
            "28/28 [==============================] - 3s 107ms/step - loss: 0.4305 - accuracy: 0.8573 - val_loss: 0.9469 - val_accuracy: 0.8072\n",
            "Epoch 51/100\n",
            "28/28 [==============================] - ETA: 0s - loss: 0.4504 - accuracy: 0.8584\n",
            "Epoch 00051: val_loss did not improve from 0.70121\n",
            "28/28 [==============================] - 3s 108ms/step - loss: 0.4504 - accuracy: 0.8584 - val_loss: 0.7133 - val_accuracy: 0.8027\n",
            "Epoch 52/100\n",
            "28/28 [==============================] - ETA: 0s - loss: 0.4056 - accuracy: 0.8629\n",
            "Epoch 00052: val_loss did not improve from 0.70121\n",
            "28/28 [==============================] - 3s 109ms/step - loss: 0.4056 - accuracy: 0.8629 - val_loss: 0.7447 - val_accuracy: 0.8117\n",
            "Epoch 53/100\n",
            "28/28 [==============================] - ETA: 0s - loss: 0.3846 - accuracy: 0.8562\n",
            "Epoch 00053: val_loss did not improve from 0.70121\n",
            "28/28 [==============================] - 3s 110ms/step - loss: 0.3846 - accuracy: 0.8562 - val_loss: 0.8424 - val_accuracy: 0.7982\n",
            "Epoch 54/100\n",
            "28/28 [==============================] - ETA: 0s - loss: 0.3839 - accuracy: 0.8730\n",
            "Epoch 00054: val_loss did not improve from 0.70121\n",
            "28/28 [==============================] - 3s 109ms/step - loss: 0.3839 - accuracy: 0.8730 - val_loss: 0.8497 - val_accuracy: 0.7848\n",
            "Epoch 55/100\n",
            "28/28 [==============================] - ETA: 0s - loss: 0.3750 - accuracy: 0.8719\n",
            "Epoch 00055: val_loss did not improve from 0.70121\n",
            "28/28 [==============================] - 3s 108ms/step - loss: 0.3750 - accuracy: 0.8719 - val_loss: 0.7762 - val_accuracy: 0.8341\n",
            "Epoch 56/100\n",
            "28/28 [==============================] - ETA: 0s - loss: 0.3957 - accuracy: 0.8607\n",
            "Epoch 00056: val_loss did not improve from 0.70121\n",
            "28/28 [==============================] - 3s 107ms/step - loss: 0.3957 - accuracy: 0.8607 - val_loss: 0.9266 - val_accuracy: 0.7713\n",
            "Epoch 57/100\n",
            "28/28 [==============================] - ETA: 0s - loss: 0.3648 - accuracy: 0.8719\n",
            "Epoch 00057: val_loss did not improve from 0.70121\n",
            "28/28 [==============================] - 3s 111ms/step - loss: 0.3648 - accuracy: 0.8719 - val_loss: 0.7848 - val_accuracy: 0.8251\n",
            "Epoch 58/100\n",
            "28/28 [==============================] - ETA: 0s - loss: 0.3729 - accuracy: 0.8764\n",
            "Epoch 00058: val_loss did not improve from 0.70121\n",
            "28/28 [==============================] - 3s 110ms/step - loss: 0.3729 - accuracy: 0.8764 - val_loss: 0.8468 - val_accuracy: 0.8296\n",
            "Epoch 59/100\n",
            "28/28 [==============================] - ETA: 0s - loss: 0.3603 - accuracy: 0.8730\n",
            "Epoch 00059: val_loss did not improve from 0.70121\n",
            "28/28 [==============================] - 3s 108ms/step - loss: 0.3603 - accuracy: 0.8730 - val_loss: 0.8362 - val_accuracy: 0.8161\n",
            "Epoch 60/100\n",
            "28/28 [==============================] - ETA: 0s - loss: 0.4204 - accuracy: 0.8562\n",
            "Epoch 00060: val_loss did not improve from 0.70121\n",
            "28/28 [==============================] - 3s 108ms/step - loss: 0.4204 - accuracy: 0.8562 - val_loss: 1.0440 - val_accuracy: 0.7534\n",
            "Epoch 61/100\n",
            "28/28 [==============================] - ETA: 0s - loss: 0.4549 - accuracy: 0.8562\n",
            "Epoch 00061: val_loss did not improve from 0.70121\n",
            "28/28 [==============================] - 3s 108ms/step - loss: 0.4549 - accuracy: 0.8562 - val_loss: 0.9129 - val_accuracy: 0.7758\n",
            "Epoch 62/100\n",
            "28/28 [==============================] - ETA: 0s - loss: 0.5715 - accuracy: 0.8146\n",
            "Epoch 00062: val_loss did not improve from 0.70121\n",
            "28/28 [==============================] - 3s 108ms/step - loss: 0.5715 - accuracy: 0.8146 - val_loss: 0.8406 - val_accuracy: 0.7758\n",
            "Epoch 63/100\n",
            "28/28 [==============================] - ETA: 0s - loss: 0.4658 - accuracy: 0.8461\n",
            "Epoch 00063: val_loss did not improve from 0.70121\n",
            "28/28 [==============================] - 3s 106ms/step - loss: 0.4658 - accuracy: 0.8461 - val_loss: 0.9230 - val_accuracy: 0.7848\n",
            "Epoch 64/100\n",
            "28/28 [==============================] - ETA: 0s - loss: 0.4447 - accuracy: 0.8584\n",
            "Epoch 00064: val_loss did not improve from 0.70121\n",
            "28/28 [==============================] - 3s 109ms/step - loss: 0.4447 - accuracy: 0.8584 - val_loss: 0.9470 - val_accuracy: 0.7623\n",
            "Epoch 65/100\n",
            "28/28 [==============================] - ETA: 0s - loss: 0.4813 - accuracy: 0.8528\n",
            "Epoch 00065: val_loss did not improve from 0.70121\n",
            "28/28 [==============================] - 3s 106ms/step - loss: 0.4813 - accuracy: 0.8528 - val_loss: 1.1040 - val_accuracy: 0.7534\n",
            "Epoch 66/100\n",
            "28/28 [==============================] - ETA: 0s - loss: 0.5512 - accuracy: 0.8258\n",
            "Epoch 00066: val_loss did not improve from 0.70121\n",
            "28/28 [==============================] - 3s 107ms/step - loss: 0.5512 - accuracy: 0.8258 - val_loss: 0.9199 - val_accuracy: 0.7892\n",
            "Epoch 67/100\n",
            "28/28 [==============================] - ETA: 0s - loss: 0.3845 - accuracy: 0.8820\n",
            "Epoch 00067: val_loss did not improve from 0.70121\n",
            "28/28 [==============================] - 3s 108ms/step - loss: 0.3845 - accuracy: 0.8820 - val_loss: 1.0038 - val_accuracy: 0.7937\n",
            "Epoch 68/100\n",
            "28/28 [==============================] - ETA: 0s - loss: 0.3158 - accuracy: 0.8966\n",
            "Epoch 00068: val_loss did not improve from 0.70121\n",
            "28/28 [==============================] - 3s 109ms/step - loss: 0.3158 - accuracy: 0.8966 - val_loss: 0.9562 - val_accuracy: 0.7982\n",
            "Epoch 69/100\n",
            "28/28 [==============================] - ETA: 0s - loss: 0.3467 - accuracy: 0.8888\n",
            "Epoch 00069: val_loss did not improve from 0.70121\n",
            "28/28 [==============================] - 3s 108ms/step - loss: 0.3467 - accuracy: 0.8888 - val_loss: 1.0576 - val_accuracy: 0.7892\n",
            "Epoch 70/100\n",
            "28/28 [==============================] - ETA: 0s - loss: 0.3124 - accuracy: 0.8955\n",
            "Epoch 00070: val_loss did not improve from 0.70121\n",
            "28/28 [==============================] - 3s 108ms/step - loss: 0.3124 - accuracy: 0.8955 - val_loss: 0.9791 - val_accuracy: 0.8161\n",
            "Epoch 71/100\n",
            "28/28 [==============================] - ETA: 0s - loss: 0.3187 - accuracy: 0.9034\n",
            "Epoch 00071: val_loss did not improve from 0.70121\n",
            "28/28 [==============================] - 3s 108ms/step - loss: 0.3187 - accuracy: 0.9034 - val_loss: 1.0644 - val_accuracy: 0.8117\n",
            "Epoch 72/100\n",
            "28/28 [==============================] - ETA: 0s - loss: 0.3100 - accuracy: 0.8865\n",
            "Epoch 00072: val_loss did not improve from 0.70121\n",
            "28/28 [==============================] - 3s 109ms/step - loss: 0.3100 - accuracy: 0.8865 - val_loss: 0.8516 - val_accuracy: 0.8341\n",
            "Epoch 73/100\n",
            "28/28 [==============================] - ETA: 0s - loss: 0.2883 - accuracy: 0.9101\n",
            "Epoch 00073: val_loss did not improve from 0.70121\n",
            "28/28 [==============================] - 3s 109ms/step - loss: 0.2883 - accuracy: 0.9101 - val_loss: 0.9985 - val_accuracy: 0.7982\n",
            "Epoch 74/100\n",
            "28/28 [==============================] - ETA: 0s - loss: 0.2948 - accuracy: 0.8989\n",
            "Epoch 00074: val_loss did not improve from 0.70121\n",
            "28/28 [==============================] - 3s 109ms/step - loss: 0.2948 - accuracy: 0.8989 - val_loss: 0.9749 - val_accuracy: 0.8251\n",
            "Epoch 75/100\n",
            "28/28 [==============================] - ETA: 0s - loss: 0.2662 - accuracy: 0.9090\n",
            "Epoch 00075: val_loss did not improve from 0.70121\n",
            "28/28 [==============================] - 3s 108ms/step - loss: 0.2662 - accuracy: 0.9090 - val_loss: 0.9577 - val_accuracy: 0.8341\n",
            "Epoch 76/100\n",
            "28/28 [==============================] - ETA: 0s - loss: 0.2922 - accuracy: 0.9067\n",
            "Epoch 00076: val_loss did not improve from 0.70121\n",
            "28/28 [==============================] - 3s 107ms/step - loss: 0.2922 - accuracy: 0.9067 - val_loss: 1.1175 - val_accuracy: 0.8117\n",
            "Epoch 77/100\n",
            "28/28 [==============================] - ETA: 0s - loss: 0.3350 - accuracy: 0.8888\n",
            "Epoch 00077: val_loss did not improve from 0.70121\n",
            "28/28 [==============================] - 3s 108ms/step - loss: 0.3350 - accuracy: 0.8888 - val_loss: 1.2001 - val_accuracy: 0.7892\n",
            "Epoch 78/100\n",
            "28/28 [==============================] - ETA: 0s - loss: 0.2871 - accuracy: 0.9000\n",
            "Epoch 00078: val_loss did not improve from 0.70121\n",
            "28/28 [==============================] - 3s 109ms/step - loss: 0.2871 - accuracy: 0.9000 - val_loss: 1.0120 - val_accuracy: 0.7982\n",
            "Epoch 79/100\n",
            "28/28 [==============================] - ETA: 0s - loss: 0.2567 - accuracy: 0.9101\n",
            "Epoch 00079: val_loss did not improve from 0.70121\n",
            "28/28 [==============================] - 3s 109ms/step - loss: 0.2567 - accuracy: 0.9101 - val_loss: 0.9963 - val_accuracy: 0.8117\n",
            "Epoch 80/100\n",
            "28/28 [==============================] - ETA: 0s - loss: 0.2756 - accuracy: 0.9045\n",
            "Epoch 00080: val_loss did not improve from 0.70121\n",
            "28/28 [==============================] - 3s 108ms/step - loss: 0.2756 - accuracy: 0.9045 - val_loss: 0.9289 - val_accuracy: 0.8072\n",
            "Epoch 81/100\n",
            "28/28 [==============================] - ETA: 0s - loss: 0.2582 - accuracy: 0.9045\n",
            "Epoch 00081: val_loss did not improve from 0.70121\n",
            "28/28 [==============================] - 3s 108ms/step - loss: 0.2582 - accuracy: 0.9045 - val_loss: 1.1076 - val_accuracy: 0.7982\n",
            "Epoch 82/100\n",
            "28/28 [==============================] - ETA: 0s - loss: 0.2763 - accuracy: 0.9079\n",
            "Epoch 00082: val_loss did not improve from 0.70121\n",
            "28/28 [==============================] - 3s 109ms/step - loss: 0.2763 - accuracy: 0.9079 - val_loss: 1.0217 - val_accuracy: 0.8296\n",
            "Epoch 83/100\n",
            "28/28 [==============================] - ETA: 0s - loss: 0.2388 - accuracy: 0.9202\n",
            "Epoch 00083: val_loss did not improve from 0.70121\n",
            "28/28 [==============================] - 3s 108ms/step - loss: 0.2388 - accuracy: 0.9202 - val_loss: 0.9916 - val_accuracy: 0.8296\n",
            "Epoch 84/100\n",
            "28/28 [==============================] - ETA: 0s - loss: 0.2764 - accuracy: 0.9056\n",
            "Epoch 00084: val_loss did not improve from 0.70121\n",
            "28/28 [==============================] - 3s 109ms/step - loss: 0.2764 - accuracy: 0.9056 - val_loss: 1.1505 - val_accuracy: 0.7848\n",
            "Epoch 85/100\n",
            "28/28 [==============================] - ETA: 0s - loss: 0.3193 - accuracy: 0.8933\n",
            "Epoch 00085: val_loss did not improve from 0.70121\n",
            "28/28 [==============================] - 3s 107ms/step - loss: 0.3193 - accuracy: 0.8933 - val_loss: 1.0233 - val_accuracy: 0.8251\n",
            "Epoch 86/100\n",
            "28/28 [==============================] - ETA: 0s - loss: 0.2526 - accuracy: 0.9112\n",
            "Epoch 00086: val_loss did not improve from 0.70121\n",
            "28/28 [==============================] - 3s 108ms/step - loss: 0.2526 - accuracy: 0.9112 - val_loss: 1.1335 - val_accuracy: 0.8296\n",
            "Epoch 87/100\n",
            "28/28 [==============================] - ETA: 0s - loss: 0.2739 - accuracy: 0.9022\n",
            "Epoch 00087: val_loss did not improve from 0.70121\n",
            "28/28 [==============================] - 3s 109ms/step - loss: 0.2739 - accuracy: 0.9022 - val_loss: 1.1670 - val_accuracy: 0.8341\n",
            "Epoch 88/100\n",
            "28/28 [==============================] - ETA: 0s - loss: 0.2368 - accuracy: 0.9135\n",
            "Epoch 00088: val_loss did not improve from 0.70121\n",
            "28/28 [==============================] - 3s 109ms/step - loss: 0.2368 - accuracy: 0.9135 - val_loss: 1.1177 - val_accuracy: 0.8386\n",
            "Epoch 89/100\n",
            "28/28 [==============================] - ETA: 0s - loss: 0.3384 - accuracy: 0.8910\n",
            "Epoch 00089: val_loss did not improve from 0.70121\n",
            "28/28 [==============================] - 3s 108ms/step - loss: 0.3384 - accuracy: 0.8910 - val_loss: 1.0156 - val_accuracy: 0.8027\n",
            "Epoch 90/100\n",
            "28/28 [==============================] - ETA: 0s - loss: 0.3289 - accuracy: 0.8955\n",
            "Epoch 00090: val_loss did not improve from 0.70121\n",
            "28/28 [==============================] - 3s 109ms/step - loss: 0.3289 - accuracy: 0.8955 - val_loss: 1.0044 - val_accuracy: 0.8072\n",
            "Epoch 91/100\n",
            "28/28 [==============================] - ETA: 0s - loss: 0.4293 - accuracy: 0.8775\n",
            "Epoch 00091: val_loss did not improve from 0.70121\n",
            "28/28 [==============================] - 3s 109ms/step - loss: 0.4293 - accuracy: 0.8775 - val_loss: 0.9745 - val_accuracy: 0.8296\n",
            "Epoch 92/100\n",
            "28/28 [==============================] - ETA: 0s - loss: 0.2994 - accuracy: 0.8989\n",
            "Epoch 00092: val_loss did not improve from 0.70121\n",
            "28/28 [==============================] - 3s 107ms/step - loss: 0.2994 - accuracy: 0.8989 - val_loss: 0.7586 - val_accuracy: 0.8206\n",
            "Epoch 93/100\n",
            "28/28 [==============================] - ETA: 0s - loss: 0.2742 - accuracy: 0.9124\n",
            "Epoch 00093: val_loss did not improve from 0.70121\n",
            "28/28 [==============================] - 3s 110ms/step - loss: 0.2742 - accuracy: 0.9124 - val_loss: 0.9790 - val_accuracy: 0.8520\n",
            "Epoch 94/100\n",
            "28/28 [==============================] - ETA: 0s - loss: 0.2379 - accuracy: 0.9169\n",
            "Epoch 00094: val_loss did not improve from 0.70121\n",
            "28/28 [==============================] - 3s 111ms/step - loss: 0.2379 - accuracy: 0.9169 - val_loss: 0.9740 - val_accuracy: 0.8430\n",
            "Epoch 95/100\n",
            "28/28 [==============================] - ETA: 0s - loss: 0.2364 - accuracy: 0.9225\n",
            "Epoch 00095: val_loss did not improve from 0.70121\n",
            "28/28 [==============================] - 3s 108ms/step - loss: 0.2364 - accuracy: 0.9225 - val_loss: 0.9401 - val_accuracy: 0.8475\n",
            "Epoch 96/100\n",
            "28/28 [==============================] - ETA: 0s - loss: 0.2088 - accuracy: 0.9236\n",
            "Epoch 00096: val_loss did not improve from 0.70121\n",
            "28/28 [==============================] - 3s 111ms/step - loss: 0.2088 - accuracy: 0.9236 - val_loss: 0.9022 - val_accuracy: 0.8520\n",
            "Epoch 97/100\n",
            "28/28 [==============================] - ETA: 0s - loss: 0.2088 - accuracy: 0.9337\n",
            "Epoch 00097: val_loss did not improve from 0.70121\n",
            "28/28 [==============================] - 3s 111ms/step - loss: 0.2088 - accuracy: 0.9337 - val_loss: 0.9564 - val_accuracy: 0.8296\n",
            "Epoch 98/100\n",
            "28/28 [==============================] - ETA: 0s - loss: 0.1987 - accuracy: 0.9303\n",
            "Epoch 00098: val_loss did not improve from 0.70121\n",
            "28/28 [==============================] - 3s 110ms/step - loss: 0.1987 - accuracy: 0.9303 - val_loss: 0.9374 - val_accuracy: 0.8520\n",
            "Epoch 99/100\n",
            "28/28 [==============================] - ETA: 0s - loss: 0.2460 - accuracy: 0.9180\n",
            "Epoch 00099: val_loss did not improve from 0.70121\n",
            "28/28 [==============================] - 3s 109ms/step - loss: 0.2460 - accuracy: 0.9180 - val_loss: 1.1799 - val_accuracy: 0.7937\n",
            "Epoch 100/100\n",
            "28/28 [==============================] - ETA: 0s - loss: 0.3735 - accuracy: 0.8966\n",
            "Epoch 00100: val_loss did not improve from 0.70121\n",
            "28/28 [==============================] - 3s 111ms/step - loss: 0.3735 - accuracy: 0.8966 - val_loss: 1.2814 - val_accuracy: 0.7713\n"
          ],
          "name": "stdout"
        }
      ]
    },
    {
      "cell_type": "code",
      "metadata": {
        "id": "x5UKJd7Sbn6g"
      },
      "source": [
        "loss = pd.DataFrame({'loss': model.history.history['accuracy'], 'auc': model.history.history['val_accuracy'] })"
      ],
      "execution_count": null,
      "outputs": []
    },
    {
      "cell_type": "code",
      "metadata": {
        "id": "oa2pH9YBb_NI",
        "outputId": "ee90c566-1f21-4648-cca6-6bfb46f5393c",
        "colab": {
          "base_uri": "https://localhost:8080/",
          "height": 282
        }
      },
      "source": [
        "loss.plot()"
      ],
      "execution_count": null,
      "outputs": [
        {
          "output_type": "execute_result",
          "data": {
            "text/plain": [
              "<matplotlib.axes._subplots.AxesSubplot at 0x7f5ee54577f0>"
            ]
          },
          "metadata": {
            "tags": []
          },
          "execution_count": 52
        },
        {
          "output_type": "display_data",
          "data": {
            "image/png": "[encoded data removed]",
            "text/plain": [
              "<Figure size 432x288 with 1 Axes>"
            ]
          },
          "metadata": {
            "tags": [],
            "needs_background": "light"
          }
        }
      ]
    },
    {
      "cell_type": "code",
      "metadata": {
        "id": "YjXKos8ocXvw"
      },
      "source": [
        " model = load_model(\"model.h5\")"
      ],
      "execution_count": null,
      "outputs": []
    },
    {
      "cell_type": "code",
      "metadata": {
        "id": "qSTEzrlzcuya"
      },
      "source": [
        "def predictions(text):\n",
        "  clean = re.sub(r'[^ a-z A-Z 0-9]', \" \", text)\n",
        "  test_word = word_tokenize(clean)\n",
        "  test_word = [w.lower() for w in test_word]\n",
        "  test_ls = word_tokenizer.texts_to_sequences(test_word)\n",
        "  print(test_word)\n",
        "  #Check for unknown words\n",
        "  if [] in test_ls:\n",
        "    test_ls = list(filter(None, test_ls))\n",
        "    \n",
        "  test_ls = np.array(test_ls).reshape(1, len(test_ls))\n",
        " \n",
        "  x = padding_doc(test_ls, max_length)\n",
        "  \n",
        "  pred = model.predict_proba(x)\n",
        "  return pred"
      ],
      "execution_count": null,
      "outputs": []
    },
    {
      "cell_type": "code",
      "metadata": {
        "id": "P1ddofshmdzK"
      },
      "source": [
        "def get_final_output(pred, classes):\n",
        "  predictions = pred[0]\n",
        " \n",
        "  classes = np.array(classes)\n",
        "  ids = np.argsort(-predictions)\n",
        "  classes = classes[ids]\n",
        "  predictions = -np.sort(-predictions)\n",
        " \n",
        "  for i in range(pred.shape[1]):\n",
        "    print(\"%s has confidence = %s\" % (classes[i], (predictions[i])))\n",
        "\n"
      ],
      "execution_count": null,
      "outputs": []
    },
    {
      "cell_type": "markdown",
      "metadata": {
        "id": "EdZpgG90njrz"
      },
      "source": [
        "# 7. Testing"
      ]
    },
    {
      "cell_type": "code",
      "metadata": {
        "id": "23VpGuihMdEU",
        "outputId": "a93a56c7-2738-40bb-89f1-31b83bae8568",
        "colab": {
          "base_uri": "https://localhost:8080/",
          "height": 457
        }
      },
      "source": [
        "text = \"Can you help me?\"\n",
        "pred = predictions(text)\n",
        "get_final_output(pred, unique_intent)"
      ],
      "execution_count": null,
      "outputs": [
        {
          "output_type": "stream",
          "text": [
            "['can', 'you', 'help', 'me']\n",
            "WARNING:tensorflow:From <ipython-input-53-25267182cac2>:15: Sequential.predict_proba (from tensorflow.python.keras.engine.sequential) is deprecated and will be removed after 2021-01-01.\n",
            "Instructions for updating:\n",
            "Please use `model.predict()` instead.\n",
            "commonQ.assist has confidence = 0.27475843\n",
            "commonQ.name has confidence = 0.25698525\n",
            "commonQ.bot has confidence = 0.12805115\n",
            "commonQ.not_giving has confidence = 0.115349114\n",
            "commonQ.how has confidence = 0.07079552\n",
            "commonQ.query has confidence = 0.06330026\n",
            "faq.bad_service has confidence = 0.057480898\n",
            "contact.contact has confidence = 0.018990768\n",
            "commonQ.wait has confidence = 0.0118766\n",
            "faq.apply_register has confidence = 0.0020433592\n",
            "faq.biz_new has confidence = 0.00013230302\n",
            "commonQ.just_details has confidence = 8.3299514e-05\n",
            "faq.application_process has confidence = 3.8684047e-05\n",
            "faq.aadhaar_missing has confidence = 3.8386665e-05\n",
            "faq.borrow_limit has confidence = 3.6693877e-05\n",
            "faq.biz_simpler has confidence = 2.6483527e-05\n",
            "faq.banking_option_missing has confidence = 4.680187e-06\n",
            "faq.biz_category_missing has confidence = 3.7805141e-06\n",
            "faq.address_proof has confidence = 2.5171287e-06\n",
            "faq.borrow_use has confidence = 1.480801e-06\n",
            "faq.approval_time has confidence = 3.4330128e-07\n"
          ],
          "name": "stdout"
        }
      ]
    },
    {
      "cell_type": "markdown",
      "metadata": {
        "id": "NYjR73DTnglH"
      },
      "source": [
        ""
      ]
    },
    {
      "cell_type": "markdown",
      "metadata": {
        "id": "QOrb94AqnnBr"
      },
      "source": [
        "# 8. Save/Load Pickle"
      ]
    },
    {
      "cell_type": "code",
      "metadata": {
        "id": "0TYix39jbWpj"
      },
      "source": [
        "# from sklearn.externals import joblib\n",
        "# joblib.dump(model, 'modelnlp.pkl')"
      ],
      "execution_count": null,
      "outputs": []
    },
    {
      "cell_type": "code",
      "metadata": {
        "id": "Zt1WdDWbmLFG"
      },
      "source": [
        "# nlp_model = open('modelnlp.pkl','rb')\n",
        "# nlp = joblib.load(nlp_model)"
      ],
      "execution_count": null,
      "outputs": []
    },
    {
      "cell_type": "code",
      "metadata": {
        "id": "xO4n_OPxn2jr"
      },
      "source": [
        "# !pip install git+https://github.com/TinkerMob/keras_albert_model.git"
      ],
      "execution_count": null,
      "outputs": []
    },
    {
      "cell_type": "code",
      "metadata": {
        "id": "rpI44GsJn3ef"
      },
      "source": [
        "# from keras_albert_model import build_albert"
      ],
      "execution_count": null,
      "outputs": []
    },
    {
      "cell_type": "markdown",
      "metadata": {
        "id": "3su-yuiPynA9"
      },
      "source": [
        "# 9. Experiment with Monkeyzlearn API"
      ]
    },
    {
      "cell_type": "code",
      "metadata": {
        "id": "90HQEj4As-nd",
        "outputId": "45596b59-2789-4619-ebd6-10bc967ce187",
        "colab": {
          "base_uri": "https://localhost:8080/",
          "height": 54
        }
      },
      "source": [
        "from monkeylearn import MonkeyLearn\n",
        "\n",
        "ml = MonkeyLearn('e7e230d51a8668a72eea86c29559bef04bd6c8fb')\n",
        "data = [\"Hi Feco, looks promising, I would like to schedule a call tomorrow and see the demo. What times do you have available? Thanks, Ryan.\"]\n",
        "model_id = 'cl_v9GTn7zi'\n",
        "result = ml.classifiers.classify(model_id, data)\n",
        "print(result.body)"
      ],
      "execution_count": null,
      "outputs": [
        {
          "output_type": "stream",
          "text": [
            "[{'text': 'Hi Feco, looks promising, I would like to schedule a call tomorrow and see the demo. What times do you have available? Thanks, Ryan.', 'external_id': None, 'error': False, 'classifications': [{'tag_name': 'Interested', 'tag_id': 57593161, 'confidence': 1.0}]}]\n"
          ],
          "name": "stdout"
        }
      ]
    },
    {
      "cell_type": "code",
      "metadata": {
        "id": "20bnBpCEzba_"
      },
      "source": [
        "# !pip install monkeylearn"
      ],
      "execution_count": null,
      "outputs": []
    },
    {
      "cell_type": "markdown",
      "metadata": {
        "id": "MJ2Ak-9iysPt"
      },
      "source": [
        "# 10. BERT Model"
      ]
    },
    {
      "cell_type": "code",
      "metadata": {
        "id": "o3rYq4vs0HQN",
        "outputId": "1a5c1082-8901-43e1-ded4-92ab2766ebc5",
        "colab": {
          "base_uri": "https://localhost:8080/",
          "height": 101
        }
      },
      "source": [
        "!pip install bert-for-tf2\n"
      ],
      "execution_count": 112,
      "outputs": [
        {
          "output_type": "stream",
          "text": [
            "Requirement already satisfied: bert-for-tf2 in /usr/local/lib/python3.6/dist-packages (0.14.6)\n",
            "Requirement already satisfied: params-flow>=0.8.0 in /usr/local/lib/python3.6/dist-packages (from bert-for-tf2) (0.8.2)\n",
            "Requirement already satisfied: py-params>=0.9.6 in /usr/local/lib/python3.6/dist-packages (from bert-for-tf2) (0.9.7)\n",
            "Requirement already satisfied: numpy in /usr/local/lib/python3.6/dist-packages (from params-flow>=0.8.0->bert-for-tf2) (1.18.5)\n",
            "Requirement already satisfied: tqdm in /usr/local/lib/python3.6/dist-packages (from params-flow>=0.8.0->bert-for-tf2) (4.41.1)\n"
          ],
          "name": "stdout"
        }
      ]
    },
    {
      "cell_type": "code",
      "metadata": {
        "id": "NXU2Tb6vdkTb",
        "outputId": "a4b3876f-9513-46d9-b94f-640f37a55f05",
        "colab": {
          "base_uri": "https://localhost:8080/",
          "height": 50
        }
      },
      "source": [
        "import numpy as np # linear algebra\n",
        "import pandas as pd # data processing, CSV file I/O (e.g. pd.read_csv)\n",
        "import json\n",
        "import os\n",
        "from sklearn.metrics import roc_curve\n",
        "from sklearn.metrics import accuracy_score\n",
        "from sklearn.model_selection import train_test_split\n",
        "from tensorflow.keras.utils import to_categorical\n",
        "from tensorflow.keras.models import Sequential, Model\n",
        "from tensorflow.keras.layers import Input, Dense, Embedding, Activation, LSTM, SimpleRNN, Dropout\n",
        "from tensorflow.keras.optimizers import Adam\n",
        "from tensorflow.keras.preprocessing.text import Tokenizer\n",
        "from tensorflow.keras.preprocessing.sequence import pad_sequences\n",
        "import bert\n",
        "from tqdm import tqdm\n",
        "from tensorflow.keras import backend as K\n",
        "import tensorflow as tf\n",
        "import tensorflow_hub as hub\n",
        "print(\"TensorFlow Version:\",tf.__version__)\n",
        "print(\"Hub version: \",hub.__version__)\n",
        "# Params for bert model"
      ],
      "execution_count": 113,
      "outputs": [
        {
          "output_type": "stream",
          "text": [
            "TensorFlow Version: 2.3.0\n",
            "Hub version:  0.9.0\n"
          ],
          "name": "stdout"
        }
      ]
    },
    {
      "cell_type": "code",
      "metadata": {
        "id": "Fpzr3P_Pdv72"
      },
      "source": [
        "class BertModel(object):\n",
        "    \n",
        "    def __init__(self):\n",
        "        \n",
        "        self.max_len = 128\n",
        "        bert_path = \"https://tfhub.dev/tensorflow/bert_en_uncased_L-12_H-768_A-12/1\"\n",
        "        FullTokenizer=bert.bert_tokenization.FullTokenizer\n",
        "        \n",
        "        self.bert_module = hub.KerasLayer(bert_path,trainable=True)\n",
        "\n",
        "        self.vocab_file = self.bert_module.resolved_object.vocab_file.asset_path.numpy()\n",
        "\n",
        "        self.do_lower_case = self.bert_module.resolved_object.do_lower_case.numpy()\n",
        "\n",
        "        self.tokenizer = FullTokenizer(self.vocab_file,self.do_lower_case)\n",
        "        \n",
        "    def get_masks(self,tokens, max_seq_length):\n",
        "        return [1]*len(tokens) + [0] * (max_seq_length - len(tokens))\n",
        "\n",
        "    def get_segments(self,tokens, max_seq_length):\n",
        "        \"\"\"Segments: 0 for the first sequence, 1 for the second\"\"\"\n",
        "        segments = []\n",
        "        current_segment_id = 0\n",
        "        for token in tokens:\n",
        "            segments.append(current_segment_id)\n",
        "            if token == \"[SEP]\":\n",
        "                current_segment_id = 1\n",
        "        return segments + [0] * (max_seq_length - len(tokens))\n",
        "    \n",
        "    def get_ids(self,tokens, tokenizer, max_seq_length):\n",
        "        \"\"\"Token ids from Tokenizer vocab\"\"\"\n",
        "        token_ids = tokenizer.convert_tokens_to_ids(tokens,)\n",
        "        input_ids = token_ids + [0] * (max_seq_length-len(token_ids))\n",
        "        return input_ids\n",
        "    def create_single_input(self,sentence,maxlen):\n",
        "\n",
        "        stokens = self.tokenizer.tokenize(sentence)\n",
        "\n",
        "        stokens = stokens[:maxlen]\n",
        "\n",
        "        stokens = [\"[CLS]\"] + stokens + [\"[SEP]\"]\n",
        "\n",
        "        ids = self.get_ids(stokens, self.tokenizer, self.max_len)\n",
        "        masks = self.get_masks(stokens, self.max_len)\n",
        "        segments = self.get_segments(stokens, self.max_len)\n",
        "\n",
        "        return ids,masks,segments\n",
        "\n",
        "    def create_input_array(self,sentences):\n",
        "        \n",
        "        input_ids, input_masks, input_segments = [], [], []\n",
        "\n",
        "        for sentence in tqdm(sentences,position=0, leave=True):\n",
        "            ids,masks,segments=self.create_single_input(sentence,self.max_len-2)\n",
        "\n",
        "            input_ids.append(ids)\n",
        "            input_masks.append(masks)\n",
        "            input_segments.append(segments)\n",
        "            \n",
        "        tensor = [np.asarray(input_ids, dtype=np.int32), \n",
        "                np.asarray(input_masks, dtype=np.int32), \n",
        "                np.asarray(input_segments, dtype=np.int32)]\n",
        "        return tensor"
      ],
      "execution_count": 136,
      "outputs": []
    },
    {
      "cell_type": "code",
      "metadata": {
        "id": "1TTSXW1idz6z"
      },
      "source": [
        "class PreprocessingBertData():\n",
        "    \n",
        "    def prepare_data_x(self,train_sentences):\n",
        "        x = bert_model_obj.create_input_array(train_sentences)\n",
        "        return x\n",
        "    \n",
        "    def prepare_data_y(self,train_labels):\n",
        "        y = list()\n",
        "        for item in train_labels:\n",
        "            label = item\n",
        "            y.append(label)\n",
        "        y = np.array(y)\n",
        "        return y"
      ],
      "execution_count": 137,
      "outputs": []
    },
    {
      "cell_type": "code",
      "metadata": {
        "id": "2ziojZIWeFOK"
      },
      "source": [
        "bert_model_obj = BertModel()"
      ],
      "execution_count": 138,
      "outputs": []
    },
    {
      "cell_type": "code",
      "metadata": {
        "id": "tMnXKm9aeHlZ"
      },
      "source": [
        "train_sentences = sentences"
      ],
      "execution_count": 139,
      "outputs": []
    },
    {
      "cell_type": "code",
      "metadata": {
        "id": "RbMT3bIYnljL",
        "outputId": "e278baad-9dea-414a-aa91-8a0a5ce994ce",
        "colab": {
          "base_uri": "https://localhost:8080/",
          "height": 34
        }
      },
      "source": [
        "output_one_hot.shape"
      ],
      "execution_count": 140,
      "outputs": [
        {
          "output_type": "execute_result",
          "data": {
            "text/plain": [
              "(1113, 21)"
            ]
          },
          "metadata": {
            "tags": []
          },
          "execution_count": 140
        }
      ]
    },
    {
      "cell_type": "code",
      "metadata": {
        "id": "YUuyQtPSeO1p"
      },
      "source": [
        "train_labels = output_one_hot.tolist()"
      ],
      "execution_count": 141,
      "outputs": []
    },
    {
      "cell_type": "code",
      "metadata": {
        "id": "OVPGBq9_zcce",
        "outputId": "923d5ba2-931f-4014-8db4-b2efa07885f1",
        "colab": {
          "base_uri": "https://localhost:8080/",
          "height": 134
        }
      },
      "source": [
        "output_one_hot"
      ],
      "execution_count": 142,
      "outputs": [
        {
          "output_type": "execute_result",
          "data": {
            "text/plain": [
              "array([[0., 0., 0., ..., 0., 0., 0.],\n",
              "       [0., 0., 0., ..., 0., 0., 0.],\n",
              "       [0., 0., 0., ..., 0., 0., 0.],\n",
              "       ...,\n",
              "       [0., 0., 0., ..., 0., 1., 0.],\n",
              "       [0., 0., 0., ..., 0., 1., 0.],\n",
              "       [0., 0., 0., ..., 0., 1., 0.]])"
            ]
          },
          "metadata": {
            "tags": []
          },
          "execution_count": 142
        }
      ]
    },
    {
      "cell_type": "code",
      "metadata": {
        "id": "LRXyxI4teu3I",
        "outputId": "62013172-ffd1-46a4-d084-527824419c93",
        "colab": {
          "base_uri": "https://localhost:8080/",
          "height": 34
        }
      },
      "source": [
        "preprocess_bert_data_obj = PreprocessingBertData()\n",
        "x = preprocess_bert_data_obj.prepare_data_x(train_sentences)\n",
        "y = preprocess_bert_data_obj.prepare_data_y(train_labels)\n",
        "\n",
        "train_input_ids, train_input_masks, train_segment_ids = x\n",
        "train_labels = y"
      ],
      "execution_count": 143,
      "outputs": [
        {
          "output_type": "stream",
          "text": [
            "100%|██████████| 1113/1113 [00:00<00:00, 6532.08it/s]\n"
          ],
          "name": "stderr"
        }
      ]
    },
    {
      "cell_type": "code",
      "metadata": {
        "id": "Dtx-ebY2e-Sp"
      },
      "source": [
        "class DesignModel():\n",
        "    def __init__(self):\n",
        "        self.model = None        \n",
        "        self.train_data = [train_input_ids, train_input_masks, train_segment_ids]\n",
        "        self.train_labels = train_labels\n",
        "        \n",
        "    def bert_model(self,max_seq_length): \n",
        "        in_id = Input(shape=(max_seq_length,), dtype=tf.int32, name=\"input_ids\")\n",
        "        in_mask = Input(shape=(max_seq_length,), dtype=tf.int32, name=\"input_masks\")\n",
        "        in_segment = Input(shape=(max_seq_length,), dtype=tf.int32, name=\"segment_ids\")\n",
        "        \n",
        "        bert_inputs = [in_id, in_mask, in_segment]\n",
        "        pooled_output, sequence_output = bert_model_obj.bert_module(bert_inputs)\n",
        "        \n",
        "        x = tf.keras.layers.GlobalAveragePooling1D()(sequence_output)\n",
        "        x = tf.keras.layers.Dropout(0.2)(x)\n",
        "        out = tf.keras.layers.Dense(21, activation=\"softmax\", name=\"dense_output\")(x)\n",
        "        self.model = tf.keras.models.Model(inputs=bert_inputs, outputs=out)\n",
        "        \n",
        "        self.model.compile(optimizer=tf.keras.optimizers.Adam(1e-5),\n",
        "                           loss=tf.keras.losses.SparseCategoricalCrossentropy(from_logits=True),\n",
        "                           metrics=[tf.keras.metrics.SparseCategoricalAccuracy(name=\"acc\")])\n",
        "        \n",
        "        self.model.summary()\n",
        "    \n",
        "    def model_train(self,batch_size,num_epoch):\n",
        "        print(\"Fitting to model\")\n",
        "        \n",
        "        self.model.fit(self.train_data,self.train_labels,epochs=num_epoch,batch_size=batch_size,validation_split=0.2,shuffle=True)\n",
        "        \n",
        "        print(\"Model Training complete.\")\n",
        "\n",
        "    def save_model(self,model,model_name):    \n",
        "        self.model.save(model_name+\".h5\")\n",
        "        print(\"Model saved to Model folder.\")"
      ],
      "execution_count": 151,
      "outputs": []
    },
    {
      "cell_type": "code",
      "metadata": {
        "id": "euNbTUldfDE2",
        "outputId": "bea43d92-5f4c-46e1-afd0-202db3558009",
        "colab": {
          "base_uri": "https://localhost:8080/",
          "height": 420
        }
      },
      "source": [
        "model_obj = DesignModel()\n",
        "model_obj.bert_model(bert_model_obj.max_len)"
      ],
      "execution_count": 152,
      "outputs": [
        {
          "output_type": "stream",
          "text": [
            "Model: \"functional_17\"\n",
            "__________________________________________________________________________________________________\n",
            "Layer (type)                    Output Shape         Param #     Connected to                     \n",
            "==================================================================================================\n",
            "input_ids (InputLayer)          [(None, 128)]        0                                            \n",
            "__________________________________________________________________________________________________\n",
            "input_masks (InputLayer)        [(None, 128)]        0                                            \n",
            "__________________________________________________________________________________________________\n",
            "segment_ids (InputLayer)        [(None, 128)]        0                                            \n",
            "__________________________________________________________________________________________________\n",
            "keras_layer_2 (KerasLayer)      [(None, 768), (None, 109482241   input_ids[0][0]                  \n",
            "                                                                 input_masks[0][0]                \n",
            "                                                                 segment_ids[0][0]                \n",
            "__________________________________________________________________________________________________\n",
            "global_average_pooling1d_8 (Glo (None, 768)          0           keras_layer_2[2][1]              \n",
            "__________________________________________________________________________________________________\n",
            "dropout_11 (Dropout)            (None, 768)          0           global_average_pooling1d_8[0][0] \n",
            "__________________________________________________________________________________________________\n",
            "dense_output (Dense)            (None, 21)           16149       dropout_11[0][0]                 \n",
            "==================================================================================================\n",
            "Total params: 109,498,390\n",
            "Trainable params: 109,498,389\n",
            "Non-trainable params: 1\n",
            "__________________________________________________________________________________________________\n"
          ],
          "name": "stdout"
        }
      ]
    },
    {
      "cell_type": "code",
      "metadata": {
        "id": "iW7ocPLPfFXR",
        "outputId": "3a30fab1-ac9e-48e9-820e-bb3b2e8eeab7",
        "colab": {
          "base_uri": "https://localhost:8080/",
          "height": 420
        }
      },
      "source": [
        "model_obj.bert_model(21)"
      ],
      "execution_count": 154,
      "outputs": [
        {
          "output_type": "stream",
          "text": [
            "Model: \"functional_19\"\n",
            "__________________________________________________________________________________________________\n",
            "Layer (type)                    Output Shape         Param #     Connected to                     \n",
            "==================================================================================================\n",
            "input_ids (InputLayer)          [(None, 21)]         0                                            \n",
            "__________________________________________________________________________________________________\n",
            "input_masks (InputLayer)        [(None, 21)]         0                                            \n",
            "__________________________________________________________________________________________________\n",
            "segment_ids (InputLayer)        [(None, 21)]         0                                            \n",
            "__________________________________________________________________________________________________\n",
            "keras_layer_2 (KerasLayer)      [(None, 768), (None, 109482241   input_ids[0][0]                  \n",
            "                                                                 input_masks[0][0]                \n",
            "                                                                 segment_ids[0][0]                \n",
            "__________________________________________________________________________________________________\n",
            "global_average_pooling1d_9 (Glo (None, 768)          0           keras_layer_2[3][1]              \n",
            "__________________________________________________________________________________________________\n",
            "dropout_12 (Dropout)            (None, 768)          0           global_average_pooling1d_9[0][0] \n",
            "__________________________________________________________________________________________________\n",
            "dense_output (Dense)            (None, 21)           16149       dropout_12[0][0]                 \n",
            "==================================================================================================\n",
            "Total params: 109,498,390\n",
            "Trainable params: 109,498,389\n",
            "Non-trainable params: 1\n",
            "__________________________________________________________________________________________________\n"
          ],
          "name": "stdout"
        }
      ]
    },
    {
      "cell_type": "code",
      "metadata": {
        "id": "DRwL9CSE0sdy"
      },
      "source": [
        "# model_obj.model_train(1113, 1)"
      ],
      "execution_count": 155,
      "outputs": []
    },
    {
      "cell_type": "code",
      "metadata": {
        "id": "AsD3YwUu0SzO"
      },
      "source": [
        ""
      ],
      "execution_count": 156,
      "outputs": []
    },
    {
      "cell_type": "code",
      "metadata": {
        "id": "6nqrUdqo19kY"
      },
      "source": [
        ""
      ],
      "execution_count": null,
      "outputs": []
    }
  ]
}